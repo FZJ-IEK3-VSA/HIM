{
 "cells": [
  {
   "cell_type": "markdown",
   "metadata": {},
   "source": [
    "# Hydrogen Infrastructure Modeling  (for H2 Mobility Study)"
   ]
  },
  {
   "cell_type": "markdown",
   "metadata": {},
   "source": [
    "## Frame assumptions (Scenario for infrastructure design) and hard coded inputs"
   ]
  },
  {
   "cell_type": "markdown",
   "metadata": {},
   "source": [
    "For the study, we considered 3 scenarios: 400, 1000 and 7000 fueling stations for 100,000 , 1 million and 20 million FCEV. In general, the calculation for truck or pipeline transportation is different and therefore is has to be selected before."
   ]
  },
  {
   "cell_type": "code",
   "execution_count": 40,
   "metadata": {
    "collapsed": true
   },
   "outputs": [],
   "source": [
    "analysisType=\"pipeline\"#truck or pipeline\n",
    "FS=[400, 1000, 7000]\n",
    "cars=[1e5, 1e6, 20e6]\n",
    "scenario=2\n",
    "specificDemand=0.0065#kg/km\n",
    "mileage=14000\n",
    "targetFS=FS[scenario]\n",
    "targetCars=cars[scenario]\n",
    "maxDistPrioFS=25#km\n",
    "priceSMR=2."
   ]
  },
  {
   "cell_type": "markdown",
   "metadata": {},
   "source": [
    "## Frame assumptions (pathways for techno-economic analysis)"
   ]
  },
  {
   "cell_type": "code",
   "execution_count": 41,
   "metadata": {
    "collapsed": false
   },
   "outputs": [],
   "source": [
    "if analysisType==\"pipeline\":\n",
    "    hscPathways=[[\"Electrolyzer\",\"Compressor\", \"GH2-Cavern\",\"Compressor\",\"Pipeline\",\"Compressor\",\"GH2-Truck\",\"Gstation\"],\n",
    "                [\"Electrolyzer\",\"Compressor\", \"GH2-Cavern\",\"Compressor\",\"Pipeline\",\"None\",\"Pipeline\",\"PipeStation\"]]\n",
    "elif analysisType==\"truck\":\n",
    "    hscPathways=[[\"Electrolyzer\",\"Compressor\", \"GH2-Cavern\",\"Compressor\",\"None\",\"None\",\"GH2-Truck\",\"Gstation\"],\n",
    "                 [\"Electrolyzer\",\"Compressor\", \"GH2-Cavern\",\"Liquefaction\",\"None\",\"None\",\"LH2-Truck\",\"LStation\"]]#,\n",
    "                 #[\"Electrolyzer\",\"Compressor\", \"GH2-Cavern\",\"Hydrogenation\",\"None\",\"None\",\"LOHC-Truck\",\"LohcStationNG\"]]"
   ]
  },
  {
   "cell_type": "markdown",
   "metadata": {},
   "source": [
    "## Plotting boundaries"
   ]
  },
  {
   "cell_type": "code",
   "execution_count": 42,
   "metadata": {
    "collapsed": true
   },
   "outputs": [],
   "source": [
    "bg_area=(87/255, 133/255, 147/255)\n",
    "bg_lines=(99/255, 150/255, 167/255)\n",
    "figsize=(9,11)"
   ]
  },
  {
   "cell_type": "markdown",
   "metadata": {},
   "source": [
    "##  Import relevant modules"
   ]
  },
  {
   "cell_type": "code",
   "execution_count": 43,
   "metadata": {
    "collapsed": false
   },
   "outputs": [],
   "source": [
    "import geopandas as gpd\n",
    "import os\n",
    "import networkx as nx\n",
    "import matplotlib.pyplot as plt\n",
    "import pandas as pd\n",
    "import time\n",
    "import numpy as np\n",
    "from shapely.geometry import Point, LineString\n",
    "#import processing as prc\n",
    "from hyInfraGisSupport import data_handling as sFun\n",
    "from hyInfraGisSupport import optiSetup as optiFun\n",
    "from hyInfraGisSupport import hsc_classes as hscFun\n",
    "from hyInfraGisSupport import plotFunctions as pFun\n",
    "from matplotlib import gridspec\n",
    "tictic=time.time()\n",
    "\n",
    "try:\n",
    "    from shapely import speedups\n",
    "    speedups.enable()\n",
    "except:\n",
    "    print(\"speedups not available\")"
   ]
  },
  {
   "cell_type": "markdown",
   "metadata": {},
   "source": [
    "## Import Georeference Data"
   ]
  },
  {
   "cell_type": "markdown",
   "metadata": {},
   "source": [
    "### Where to get everything? --> Paths for input data"
   ]
  },
  {
   "cell_type": "code",
   "execution_count": 55,
   "metadata": {
    "collapsed": false
   },
   "outputs": [
    {
     "name": "stdout",
     "output_type": "stream",
     "text": [
      "0.9047658443450928 Seconds\n"
     ]
    }
   ],
   "source": [
    "tic=time.time()\n",
    "crs={'ellps': 'GRS80', 'no_defs': True, 'proj': 'utm', 'units': 'm', 'zone': 32}\n",
    "\n",
    "\n",
    "#%%\n",
    "path=os.getcwd() + \"\\\\dataH2Mobility\\\\\"\n",
    "pathFS = path + \"101201_Tankstellen_Einteilung_LK_Koords\\\\101201_Tankstellen_Einteilung_v2_koords_kompakt.shp\"\n",
    "pathCent = path + \"Counties.xlsx\"\n",
    "#pathCentCoords = path + \"Counties.xlsx\"\n",
    "\n",
    "pathFSdata= path + \"101201Tankstellen_v2.csv\"\n",
    "pathSource = path + \"H2MobilitySources.xlsx\"\n",
    "pathDemand = path + \"H2Demand.csv\"\n",
    "pathDist= path + \"Landkreise.shp\"\n",
    "pathConversion=path+\"UmrechnungFabianMartin.xlsx\"\n",
    "#%%\n",
    "# Read Parameter from Excel File\n",
    "dfTable = pd.read_excel(path + \"ImportTablesTechnologies.xlsx\", sheetname=None)\n",
    "stationScenario=\"Station\"+str(scenario)+\"_lr6\"\n",
    "dfTable[\"Station\"]=dfTable[stationScenario]\n",
    "fabDM=True\n",
    "District = sFun.import_shp(pathDist, crs=crs, name= \"D\")\n",
    "if analysisType==\"pipeline\":\n",
    "    pathGasP = path + \"\\\\Netze\\\\110107_Koords_Punkte_auf_Gasnetz_1km\\\\110107_Koords_Punkte_auf_Gasnetz_1km.shp\"\n",
    "    NGGridPoint = sFun.import_shp(pathGasP, crs=crs, name=\"G\")\n",
    "\n",
    "toc=time.time()\n",
    "print(str(toc-tic)+\" Seconds\")"
   ]
  },
  {
   "cell_type": "markdown",
   "metadata": {},
   "source": [
    "### Import and manipulate Source, Centroid and other stuff (a lot of single manipulation needed due to different data formats as input!)"
   ]
  },
  {
   "cell_type": "code",
   "execution_count": 56,
   "metadata": {
    "collapsed": false
   },
   "outputs": [
    {
     "name": "stdout",
     "output_type": "stream",
     "text": [
      "Total hydrogen demand: 1820.0\n",
      "1.32594895362854 Seconds\n",
      "\n"
     ]
    }
   ],
   "source": [
    "tic=time.time()\n",
    "#%%\n",
    "Source=pd.read_excel(pathSource, sheetname=scenario)\n",
    "Source=gpd.GeoDataFrame(Source)\n",
    "Source.geometry=[Point((Source.loc[ix,\"LON\"], Source.loc[ix, \"LAT\"]))for ix in Source.index]\n",
    "Source.crs={'init' :'epsg:4326'}\n",
    "Source=Source.to_crs({'init' :'epsg:7416'})\n",
    "Source[\"intIndex\"]=Source.index\n",
    "Source.index=[\"S\"+str(id1) for id1 in Source[\"intIndex\"].values]\n",
    "Source[\"ID\"]=Source.index\n",
    "#%%\n",
    "Centroid=pd.read_excel(pathCent)\n",
    "Centroid=gpd.GeoDataFrame(Centroid)\n",
    "Centroid.geometry=[Point((Centroid.loc[ix,\"lkXKoor\"], Centroid.loc[ix, \"lkYKoor\"]))for ix in Centroid.index]\n",
    "Centroid.crs={'init' :'epsg:7416'}\n",
    "Centroid.index=Centroid[\"lkSchluessel\"].values\n",
    "Centroid[\"ID_KRS_BKG\"]=Centroid[\"lkSchluessel\"].values\n",
    "#%%\n",
    "ConvFabMart=pd.read_excel(pathConversion)\n",
    "ConvFabMart.index=[int(val) for val in ConvFabMart[\"old\"]]\n",
    "ConvFabMart[\"newID\"]=[int(val) for val in ConvFabMart[\"new\"]]\n",
    "#%%\n",
    "Fueling = sFun.import_shp(pathFS, crs=crs, name=\"F\")\n",
    "FuelingData = pd.read_csv(pathFSdata, delimiter=\"@\")\n",
    "FuelingData.index=Fueling.index\n",
    "#%% Copy Fueling Data to Fueling GeoDataFrame\n",
    "Fueling=Fueling.join(FuelingData, rsuffix=\"-\")\n",
    "#%%\n",
    "#penetration=targetCars/sum(Centroid[\"lkPKWBenzin\"]+Centroid[\"lkPKWDiesel\"])\n",
    "#Centroid[\"H2Demand_kt\"]=(Centroid[\"lkPKWBenzin\"]+Centroid[\"lkPKWDiesel\"])*penetration*mileage*specificDemand*1e-6\n",
    "Centroid[\"H2Demand_kt\"]=(Centroid[scenario])*mileage*specificDemand*1e-6\n",
    "Centroid[\"intIndex\"]=list(range(len(Centroid.index)))\n",
    "Centroid[\"INDEX\"]=Centroid[\"intIndex\"].values\n",
    "Centroid.index=[\"C\"+str(id1) for id1 in Centroid[\"intIndex\"].values]\n",
    "Centroid[\"ID\"]=Centroid.index\n",
    "#%% H2 Demand\n",
    "totalH2Demand=sum(Centroid[\"H2Demand_kt\"])\n",
    "print(\"Total hydrogen demand: \"+ str(totalH2Demand))\n",
    "#%% Distribution Grid\n",
    "toc=time.time()\n",
    "print(str(toc-tic)+\" Seconds\\n\")"
   ]
  },
  {
   "cell_type": "markdown",
   "metadata": {},
   "source": [
    "## Importing fueling stations"
   ]
  },
  {
   "cell_type": "code",
   "execution_count": 57,
   "metadata": {
    "collapsed": false
   },
   "outputs": [],
   "source": [
    "% matplotlib inline\n"
   ]
  },
  {
   "cell_type": "code",
   "execution_count": null,
   "metadata": {
    "collapsed": false
   },
   "outputs": [],
   "source": []
  },
  {
   "cell_type": "markdown",
   "metadata": {},
   "source": [
    "### Import of fueling data + demand calculation"
   ]
  },
  {
   "cell_type": "code",
   "execution_count": 58,
   "metadata": {
    "collapsed": false
   },
   "outputs": [
    {
     "name": "stdout",
     "output_type": "stream",
     "text": [
      "0.9359638690948486 Seconds 2\n",
      "\n"
     ]
    }
   ],
   "source": [
    "tic=time.time()\n",
    "ConvFabMart=pd.read_excel(pathConversion)\n",
    "ConvFabMart.index=[int(val) for val in ConvFabMart[\"old\"]]\n",
    "ConvFabMart[\"newID\"]=[int(val) for val in ConvFabMart[\"new\"]]\n",
    "Fueling = sFun.import_shp(pathFS, crs=crs, name=\"F\")\n",
    "FuelingData = pd.read_csv(pathFSdata, delimiter=\"@\")\n",
    "FuelingData.index=Fueling.index\n",
    "#%% Copy Fueling Data to Fueling GeoDataFrame\n",
    "Fueling=Fueling.join(FuelingData, rsuffix=\"-\")\n",
    "toc=time.time()\n",
    "print(str(toc-tic)+\" Seconds 2\\n\")\n",
    "#%% Fine\n",
    "Fueling.loc[Fueling[\"ABST_2BAHN\"]<=maxDistPrioFS,\"BAB\"] = 1\n",
    "Fueling[\"ID_KRS_BKG\"]=ConvFabMart.loc[Fueling[\"ID_KRS_BKG\"]][\"new\"].values\n",
    "Centroid.index=Centroid[\"ID_KRS_BKG\"]\n",
    "Fueling[\"ID_C\"]=Centroid.ix[Fueling[\"ID_KRS_BKG\"]][\"ID\"].values\n",
    "Centroid.index=Centroid[\"ID\"]\n",
    "#%% Add the distance to the Centroid in km\n",
    "Fueling[\"CentC\"]=Centroid.ix[Fueling[\"ID_C\"]].geometry.values\n",
    "Fueling[\"CoordsFtoC\"]=list(zip(Fueling.geometry, Fueling[\"CentC\"]))\n",
    "Fueling[\"EdgesFtoC\"]=[LineString(ix) for ix in Fueling[\"CoordsFtoC\"]]\n",
    "EdgesFtoC=gpd.GeoDataFrame(Fueling[\"EdgesFtoC\"].values, columns=[\"geometry\"], index=Fueling.index)\n",
    "Fueling[\"distToC\"]=EdgesFtoC.length/1000\n",
    "#%%\n",
    "Source[\"H2ProdCap_kt\"]=Source[\"ProdMax_t\"]/1000\n",
    "Source.loc[Source[\"H2ProdCap_kt\"]>totalH2Demand, \"H2ProdCap_kt\"]=totalH2Demand"
   ]
  },
  {
   "cell_type": "code",
   "execution_count": 60,
   "metadata": {
    "collapsed": false
   },
   "outputs": [],
   "source": [
    "Centroid.index=Centroid.lkSchluessel.values"
   ]
  },
  {
   "cell_type": "code",
   "execution_count": 77,
   "metadata": {
    "collapsed": false
   },
   "outputs": [],
   "source": [
    "Centroid=Centroid.sort_index()\n",
    "District=District.sort_index()"
   ]
  },
  {
   "cell_type": "code",
   "execution_count": 65,
   "metadata": {
    "collapsed": false
   },
   "outputs": [],
   "source": [
    "District.index=District.RS.values"
   ]
  },
  {
   "cell_type": "code",
   "execution_count": 99,
   "metadata": {
    "collapsed": false
   },
   "outputs": [],
   "source": [
    "District[\"scen1\"]=Centroid[0].values\n",
    "District[\"scen2\"]=Centroid[1].values\n",
    "District[\"scen3\"]=Centroid[2].values"
   ]
  },
  {
   "cell_type": "code",
   "execution_count": 104,
   "metadata": {
    "collapsed": false
   },
   "outputs": [],
   "source": [
    "Distr_save=District.loc[:,[\"geometry\", \"scen1\" ,\"scen2\", \"scen3\"]]"
   ]
  },
  {
   "cell_type": "code",
   "execution_count": 105,
   "metadata": {
    "collapsed": false
   },
   "outputs": [],
   "source": [
    "Distr_save=Distr_save.to_crs({'init' :'epsg:7416'})"
   ]
  },
  {
   "cell_type": "code",
   "execution_count": 106,
   "metadata": {
    "collapsed": false
   },
   "outputs": [
    {
     "data": {
      "text/html": [
       "<div>\n",
       "<table border=\"1\" class=\"dataframe\">\n",
       "  <thead>\n",
       "    <tr style=\"text-align: right;\">\n",
       "      <th></th>\n",
       "      <th>geometry</th>\n",
       "      <th>scen1</th>\n",
       "      <th>scen2</th>\n",
       "      <th>scen3</th>\n",
       "    </tr>\n",
       "  </thead>\n",
       "  <tbody>\n",
       "    <tr>\n",
       "      <th>1001</th>\n",
       "      <td>POLYGON ((531470.9568716276 6075201.089520874,...</td>\n",
       "      <td>94.297635</td>\n",
       "      <td>923.638393</td>\n",
       "      <td>18342.085866</td>\n",
       "    </tr>\n",
       "    <tr>\n",
       "      <th>1002</th>\n",
       "      <td>POLYGON ((577310.279613403 6027466.911210535, ...</td>\n",
       "      <td>245.225664</td>\n",
       "      <td>2351.482853</td>\n",
       "      <td>46696.954906</td>\n",
       "    </tr>\n",
       "    <tr>\n",
       "      <th>1003</th>\n",
       "      <td>POLYGON ((624204.4378412124 5980391.722608559,...</td>\n",
       "      <td>223.957297</td>\n",
       "      <td>2110.861512</td>\n",
       "      <td>41918.572674</td>\n",
       "    </tr>\n",
       "    <tr>\n",
       "      <th>1004</th>\n",
       "      <td>POLYGON ((567602.4930319366 5998385.944737208,...</td>\n",
       "      <td>93.121940</td>\n",
       "      <td>892.951587</td>\n",
       "      <td>17732.691495</td>\n",
       "    </tr>\n",
       "    <tr>\n",
       "      <th>10041</th>\n",
       "      <td>POLYGON ((363135.342082392 5463853.58342373, 3...</td>\n",
       "      <td>153.501406</td>\n",
       "      <td>1690.731660</td>\n",
       "      <td>33938.473497</td>\n",
       "    </tr>\n",
       "    <tr>\n",
       "      <th>10042</th>\n",
       "      <td>POLYGON ((348707.689657036 5485334.336035201, ...</td>\n",
       "      <td>254.732746</td>\n",
       "      <td>2442.646804</td>\n",
       "      <td>48507.335488</td>\n",
       "    </tr>\n",
       "    <tr>\n",
       "      <th>10043</th>\n",
       "      <td>POLYGON ((373361.6439820006 5476867.022339223,...</td>\n",
       "      <td>213.995824</td>\n",
       "      <td>2153.123638</td>\n",
       "      <td>42811.438135</td>\n",
       "    </tr>\n",
       "    <tr>\n",
       "      <th>10044</th>\n",
       "      <td>POLYGON ((354249.9919974371 5477931.685404753,...</td>\n",
       "      <td>276.203985</td>\n",
       "      <td>2648.535736</td>\n",
       "      <td>52595.983716</td>\n",
       "    </tr>\n",
       "    <tr>\n",
       "      <th>10045</th>\n",
       "      <td>POLYGON ((383362.2681042213 5469910.491684903,...</td>\n",
       "      <td>396.036475</td>\n",
       "      <td>3732.756923</td>\n",
       "      <td>74127.005221</td>\n",
       "    </tr>\n",
       "    <tr>\n",
       "      <th>10046</th>\n",
       "      <td>POLYGON ((359729.5020784881 5499424.99096344, ...</td>\n",
       "      <td>151.085817</td>\n",
       "      <td>1664.125303</td>\n",
       "      <td>33404.397531</td>\n",
       "    </tr>\n",
       "    <tr>\n",
       "      <th>1051</th>\n",
       "      <td>(POLYGON ((503362.9428941472 6024290.43802704,...</td>\n",
       "      <td>376.205735</td>\n",
       "      <td>3607.458210</td>\n",
       "      <td>71638.758990</td>\n",
       "    </tr>\n",
       "    <tr>\n",
       "      <th>1053</th>\n",
       "      <td>POLYGON ((616195.6437974849 5963938.773344618,...</td>\n",
       "      <td>268.443884</td>\n",
       "      <td>2629.388088</td>\n",
       "      <td>52215.739887</td>\n",
       "    </tr>\n",
       "    <tr>\n",
       "      <th>1054</th>\n",
       "      <td>(POLYGON ((464672.0104640763 6100532.470828697...</td>\n",
       "      <td>373.772684</td>\n",
       "      <td>3522.914335</td>\n",
       "      <td>69959.843261</td>\n",
       "    </tr>\n",
       "    <tr>\n",
       "      <th>1055</th>\n",
       "      <td>(POLYGON ((637133.9465615882 6029475.444104935...</td>\n",
       "      <td>153.342432</td>\n",
       "      <td>1688.980644</td>\n",
       "      <td>33903.324908</td>\n",
       "    </tr>\n",
       "    <tr>\n",
       "      <th>1056</th>\n",
       "      <td>(POLYGON ((559154.0750306076 5956213.457848692...</td>\n",
       "      <td>335.834736</td>\n",
       "      <td>3165.338334</td>\n",
       "      <td>62858.915290</td>\n",
       "    </tr>\n",
       "    <tr>\n",
       "      <th>1057</th>\n",
       "      <td>(POLYGON ((606555.6569774941 6023388.1392383, ...</td>\n",
       "      <td>1877.565382</td>\n",
       "      <td>17063.243545</td>\n",
       "      <td>338850.659004</td>\n",
       "    </tr>\n",
       "    <tr>\n",
       "      <th>1058</th>\n",
       "      <td>POLYGON ((566622.0547568314 6054702.230055501,...</td>\n",
       "      <td>288.845419</td>\n",
       "      <td>2906.224471</td>\n",
       "      <td>57785.650089</td>\n",
       "    </tr>\n",
       "    <tr>\n",
       "      <th>1059</th>\n",
       "      <td>POLYGON ((507677.9234055547 6080705.83457623, ...</td>\n",
       "      <td>110.747399</td>\n",
       "      <td>1155.064914</td>\n",
       "      <td>23056.105097</td>\n",
       "    </tr>\n",
       "    <tr>\n",
       "      <th>1060</th>\n",
       "      <td>POLYGON ((590990.0893271575 5992332.453016373,...</td>\n",
       "      <td>316.378954</td>\n",
       "      <td>3183.253728</td>\n",
       "      <td>63293.936141</td>\n",
       "    </tr>\n",
       "    <tr>\n",
       "      <th>1061</th>\n",
       "      <td>POLYGON ((534754.1169970874 5994099.732200903,...</td>\n",
       "      <td>218.584366</td>\n",
       "      <td>2199.291354</td>\n",
       "      <td>43729.409731</td>\n",
       "    </tr>\n",
       "    <tr>\n",
       "      <th>1062</th>\n",
       "      <td>POLYGON ((600758.3705921702 5975584.872460824,...</td>\n",
       "      <td>299.446972</td>\n",
       "      <td>2933.061047</td>\n",
       "      <td>58246.233550</td>\n",
       "    </tr>\n",
       "    <tr>\n",
       "      <th>11000</th>\n",
       "      <td>POLYGON ((812675.2358477333 5831469.065299613,...</td>\n",
       "      <td>156.445535</td>\n",
       "      <td>1723.159579</td>\n",
       "      <td>34589.407110</td>\n",
       "    </tr>\n",
       "    <tr>\n",
       "      <th>12051</th>\n",
       "      <td>POLYGON ((750389.1541920588 5822827.205879899,...</td>\n",
       "      <td>80.525765</td>\n",
       "      <td>1131.500910</td>\n",
       "      <td>23203.090106</td>\n",
       "    </tr>\n",
       "    <tr>\n",
       "      <th>12052</th>\n",
       "      <td>POLYGON ((863457.9016898361 5751745.787445207,...</td>\n",
       "      <td>178.012812</td>\n",
       "      <td>1856.624664</td>\n",
       "      <td>37059.850809</td>\n",
       "    </tr>\n",
       "    <tr>\n",
       "      <th>12053</th>\n",
       "      <td>POLYGON ((876401.1283634317 5819371.618395031,...</td>\n",
       "      <td>49.764840</td>\n",
       "      <td>958.820814</td>\n",
       "      <td>20069.844440</td>\n",
       "    </tr>\n",
       "    <tr>\n",
       "      <th>12054</th>\n",
       "      <td>POLYGON ((781998.5036779803 5824906.658670612,...</td>\n",
       "      <td>165.745063</td>\n",
       "      <td>1728.675424</td>\n",
       "      <td>34505.872151</td>\n",
       "    </tr>\n",
       "    <tr>\n",
       "      <th>12060</th>\n",
       "      <td>POLYGON ((825778.764221383 5887766.729996301, ...</td>\n",
       "      <td>142.162589</td>\n",
       "      <td>1565.840965</td>\n",
       "      <td>31431.511783</td>\n",
       "    </tr>\n",
       "    <tr>\n",
       "      <th>12061</th>\n",
       "      <td>POLYGON ((819713.6900790442 5813865.657317093,...</td>\n",
       "      <td>1267.787136</td>\n",
       "      <td>12417.881687</td>\n",
       "      <td>246600.676006</td>\n",
       "    </tr>\n",
       "    <tr>\n",
       "      <th>12062</th>\n",
       "      <td>POLYGON ((810809.2674870037 5747432.925606453,...</td>\n",
       "      <td>305.060831</td>\n",
       "      <td>2925.245680</td>\n",
       "      <td>58091.031987</td>\n",
       "    </tr>\n",
       "    <tr>\n",
       "      <th>12063</th>\n",
       "      <td>POLYGON ((758725.2236167856 5845142.921693881,...</td>\n",
       "      <td>195.372412</td>\n",
       "      <td>1965.743776</td>\n",
       "      <td>39085.687678</td>\n",
       "    </tr>\n",
       "    <tr>\n",
       "      <th>...</th>\n",
       "      <td>...</td>\n",
       "      <td>...</td>\n",
       "      <td>...</td>\n",
       "      <td>...</td>\n",
       "    </tr>\n",
       "    <tr>\n",
       "      <th>9574</th>\n",
       "      <td>POLYGON ((684795.6892672858 5510342.655330775,...</td>\n",
       "      <td>274.130597</td>\n",
       "      <td>2758.170963</td>\n",
       "      <td>54841.841624</td>\n",
       "    </tr>\n",
       "    <tr>\n",
       "      <th>9575</th>\n",
       "      <td>POLYGON ((619232.824640776 5508945.978707266, ...</td>\n",
       "      <td>60.288949</td>\n",
       "      <td>1161.589161</td>\n",
       "      <td>24314.150706</td>\n",
       "    </tr>\n",
       "    <tr>\n",
       "      <th>9576</th>\n",
       "      <td>POLYGON ((657830.3414041841 5472697.560678966,...</td>\n",
       "      <td>165.430701</td>\n",
       "      <td>1822.126131</td>\n",
       "      <td>36575.987113</td>\n",
       "    </tr>\n",
       "    <tr>\n",
       "      <th>9577</th>\n",
       "      <td>POLYGON ((633860.9564045589 5451140.34481953, ...</td>\n",
       "      <td>260.028392</td>\n",
       "      <td>2546.958959</td>\n",
       "      <td>50578.819875</td>\n",
       "    </tr>\n",
       "    <tr>\n",
       "      <th>9661</th>\n",
       "      <td>POLYGON ((517036.214228835 5531502.141593136, ...</td>\n",
       "      <td>237.253412</td>\n",
       "      <td>2387.130368</td>\n",
       "      <td>47464.289691</td>\n",
       "    </tr>\n",
       "    <tr>\n",
       "      <th>9662</th>\n",
       "      <td>POLYGON ((583518.7221919937 5542597.37231781, ...</td>\n",
       "      <td>70.698739</td>\n",
       "      <td>1362.154927</td>\n",
       "      <td>28512.352978</td>\n",
       "    </tr>\n",
       "    <tr>\n",
       "      <th>9663</th>\n",
       "      <td>POLYGON ((562800.9308426069 5518412.108883896,...</td>\n",
       "      <td>139.230637</td>\n",
       "      <td>1675.241015</td>\n",
       "      <td>33911.541461</td>\n",
       "    </tr>\n",
       "    <tr>\n",
       "      <th>9671</th>\n",
       "      <td>POLYGON ((528946.588139334 5548541.58724295, 5...</td>\n",
       "      <td>171.542865</td>\n",
       "      <td>2064.025917</td>\n",
       "      <td>41781.630118</td>\n",
       "    </tr>\n",
       "    <tr>\n",
       "      <th>9672</th>\n",
       "      <td>POLYGON ((555284.3179597174 5585526.698030423,...</td>\n",
       "      <td>98.451147</td>\n",
       "      <td>1026.818383</td>\n",
       "      <td>20496.192262</td>\n",
       "    </tr>\n",
       "    <tr>\n",
       "      <th>9673</th>\n",
       "      <td>POLYGON ((579793.7091748607 5600712.455972808,...</td>\n",
       "      <td>18.545369</td>\n",
       "      <td>905.271403</td>\n",
       "      <td>19576.851240</td>\n",
       "    </tr>\n",
       "    <tr>\n",
       "      <th>9674</th>\n",
       "      <td>POLYGON ((611045.9206911884 5563580.588645995,...</td>\n",
       "      <td>22.006909</td>\n",
       "      <td>424.007849</td>\n",
       "      <td>8875.247013</td>\n",
       "    </tr>\n",
       "    <tr>\n",
       "      <th>9675</th>\n",
       "      <td>POLYGON ((604126.0027513373 5519951.958963068,...</td>\n",
       "      <td>11.897715</td>\n",
       "      <td>580.773600</td>\n",
       "      <td>12559.458228</td>\n",
       "    </tr>\n",
       "    <tr>\n",
       "      <th>9676</th>\n",
       "      <td>POLYGON ((531074.6718346528 5525731.269423425,...</td>\n",
       "      <td>0.000000</td>\n",
       "      <td>412.838433</td>\n",
       "      <td>9414.800682</td>\n",
       "    </tr>\n",
       "    <tr>\n",
       "      <th>9677</th>\n",
       "      <td>POLYGON ((536874.6558615116 5564737.393952087,...</td>\n",
       "      <td>92.749345</td>\n",
       "      <td>1303.259502</td>\n",
       "      <td>26725.252631</td>\n",
       "    </tr>\n",
       "    <tr>\n",
       "      <th>9678</th>\n",
       "      <td>POLYGON ((598780.8631105764 5564967.916966142,...</td>\n",
       "      <td>0.000000</td>\n",
       "      <td>849.423522</td>\n",
       "      <td>21173.601436</td>\n",
       "    </tr>\n",
       "    <tr>\n",
       "      <th>9679</th>\n",
       "      <td>POLYGON ((585417.888495608 5527332.218800568, ...</td>\n",
       "      <td>155.173737</td>\n",
       "      <td>1709.151446</td>\n",
       "      <td>34308.218397</td>\n",
       "    </tr>\n",
       "    <tr>\n",
       "      <th>9761</th>\n",
       "      <td>POLYGON ((641815.7894108807 5346761.365681985,...</td>\n",
       "      <td>62.427048</td>\n",
       "      <td>1202.783978</td>\n",
       "      <td>25176.432329</td>\n",
       "    </tr>\n",
       "    <tr>\n",
       "      <th>9762</th>\n",
       "      <td>POLYGON ((616111.6449833012 5304345.420423984,...</td>\n",
       "      <td>0.000000</td>\n",
       "      <td>691.805452</td>\n",
       "      <td>20162.965377</td>\n",
       "    </tr>\n",
       "    <tr>\n",
       "      <th>9763</th>\n",
       "      <td>POLYGON ((592456.0877187226 5290275.73289498, ...</td>\n",
       "      <td>138.179239</td>\n",
       "      <td>1662.590454</td>\n",
       "      <td>33655.458883</td>\n",
       "    </tr>\n",
       "    <tr>\n",
       "      <th>9764</th>\n",
       "      <td>POLYGON ((582920.7605232208 5309983.238334344,...</td>\n",
       "      <td>151.694876</td>\n",
       "      <td>1670.833744</td>\n",
       "      <td>33539.057711</td>\n",
       "    </tr>\n",
       "    <tr>\n",
       "      <th>9771</th>\n",
       "      <td>POLYGON ((669644.646816373 5371592.100429685, ...</td>\n",
       "      <td>0.000000</td>\n",
       "      <td>619.666358</td>\n",
       "      <td>18060.440677</td>\n",
       "    </tr>\n",
       "    <tr>\n",
       "      <th>9772</th>\n",
       "      <td>POLYGON ((641905.9804599918 5383308.352753768,...</td>\n",
       "      <td>0.000000</td>\n",
       "      <td>719.862858</td>\n",
       "      <td>17944.039505</td>\n",
       "    </tr>\n",
       "    <tr>\n",
       "      <th>9773</th>\n",
       "      <td>POLYGON ((631159.6375334684 5386630.057771814,...</td>\n",
       "      <td>92.320030</td>\n",
       "      <td>1297.227027</td>\n",
       "      <td>26601.547856</td>\n",
       "    </tr>\n",
       "    <tr>\n",
       "      <th>9774</th>\n",
       "      <td>POLYGON ((605165.2524145006 5375204.23346445, ...</td>\n",
       "      <td>20.303605</td>\n",
       "      <td>991.097727</td>\n",
       "      <td>21432.879341</td>\n",
       "    </tr>\n",
       "    <tr>\n",
       "      <th>9775</th>\n",
       "      <td>POLYGON ((583868.3663822217 5367492.84504859, ...</td>\n",
       "      <td>0.000000</td>\n",
       "      <td>609.731715</td>\n",
       "      <td>15198.797745</td>\n",
       "    </tr>\n",
       "    <tr>\n",
       "      <th>9776</th>\n",
       "      <td>POLYGON ((580883.9612095908 5276791.756497861,...</td>\n",
       "      <td>96.781099</td>\n",
       "      <td>1359.911345</td>\n",
       "      <td>27886.981975</td>\n",
       "    </tr>\n",
       "    <tr>\n",
       "      <th>9777</th>\n",
       "      <td>POLYGON ((632201.3112281661 5300402.213364309,...</td>\n",
       "      <td>54.562829</td>\n",
       "      <td>1051.263815</td>\n",
       "      <td>22004.842747</td>\n",
       "    </tr>\n",
       "    <tr>\n",
       "      <th>9778</th>\n",
       "      <td>(POLYGON ((600432.1958105093 5335612.58827678,...</td>\n",
       "      <td>21.692119</td>\n",
       "      <td>1058.876459</td>\n",
       "      <td>22898.621158</td>\n",
       "    </tr>\n",
       "    <tr>\n",
       "      <th>9779</th>\n",
       "      <td>POLYGON ((620063.6910124219 5430586.610110237,...</td>\n",
       "      <td>94.959285</td>\n",
       "      <td>1334.312280</td>\n",
       "      <td>27362.035513</td>\n",
       "    </tr>\n",
       "    <tr>\n",
       "      <th>9780</th>\n",
       "      <td>POLYGON ((610698.8925236742 5271411.361633939,...</td>\n",
       "      <td>58.028608</td>\n",
       "      <td>1118.039109</td>\n",
       "      <td>23402.569762</td>\n",
       "    </tr>\n",
       "  </tbody>\n",
       "</table>\n",
       "<p>402 rows × 4 columns</p>\n",
       "</div>"
      ],
      "text/plain": [
       "                                                geometry        scen1  \\\n",
       "1001   POLYGON ((531470.9568716276 6075201.089520874,...    94.297635   \n",
       "1002   POLYGON ((577310.279613403 6027466.911210535, ...   245.225664   \n",
       "1003   POLYGON ((624204.4378412124 5980391.722608559,...   223.957297   \n",
       "1004   POLYGON ((567602.4930319366 5998385.944737208,...    93.121940   \n",
       "10041  POLYGON ((363135.342082392 5463853.58342373, 3...   153.501406   \n",
       "10042  POLYGON ((348707.689657036 5485334.336035201, ...   254.732746   \n",
       "10043  POLYGON ((373361.6439820006 5476867.022339223,...   213.995824   \n",
       "10044  POLYGON ((354249.9919974371 5477931.685404753,...   276.203985   \n",
       "10045  POLYGON ((383362.2681042213 5469910.491684903,...   396.036475   \n",
       "10046  POLYGON ((359729.5020784881 5499424.99096344, ...   151.085817   \n",
       "1051   (POLYGON ((503362.9428941472 6024290.43802704,...   376.205735   \n",
       "1053   POLYGON ((616195.6437974849 5963938.773344618,...   268.443884   \n",
       "1054   (POLYGON ((464672.0104640763 6100532.470828697...   373.772684   \n",
       "1055   (POLYGON ((637133.9465615882 6029475.444104935...   153.342432   \n",
       "1056   (POLYGON ((559154.0750306076 5956213.457848692...   335.834736   \n",
       "1057   (POLYGON ((606555.6569774941 6023388.1392383, ...  1877.565382   \n",
       "1058   POLYGON ((566622.0547568314 6054702.230055501,...   288.845419   \n",
       "1059   POLYGON ((507677.9234055547 6080705.83457623, ...   110.747399   \n",
       "1060   POLYGON ((590990.0893271575 5992332.453016373,...   316.378954   \n",
       "1061   POLYGON ((534754.1169970874 5994099.732200903,...   218.584366   \n",
       "1062   POLYGON ((600758.3705921702 5975584.872460824,...   299.446972   \n",
       "11000  POLYGON ((812675.2358477333 5831469.065299613,...   156.445535   \n",
       "12051  POLYGON ((750389.1541920588 5822827.205879899,...    80.525765   \n",
       "12052  POLYGON ((863457.9016898361 5751745.787445207,...   178.012812   \n",
       "12053  POLYGON ((876401.1283634317 5819371.618395031,...    49.764840   \n",
       "12054  POLYGON ((781998.5036779803 5824906.658670612,...   165.745063   \n",
       "12060  POLYGON ((825778.764221383 5887766.729996301, ...   142.162589   \n",
       "12061  POLYGON ((819713.6900790442 5813865.657317093,...  1267.787136   \n",
       "12062  POLYGON ((810809.2674870037 5747432.925606453,...   305.060831   \n",
       "12063  POLYGON ((758725.2236167856 5845142.921693881,...   195.372412   \n",
       "...                                                  ...          ...   \n",
       "9574   POLYGON ((684795.6892672858 5510342.655330775,...   274.130597   \n",
       "9575   POLYGON ((619232.824640776 5508945.978707266, ...    60.288949   \n",
       "9576   POLYGON ((657830.3414041841 5472697.560678966,...   165.430701   \n",
       "9577   POLYGON ((633860.9564045589 5451140.34481953, ...   260.028392   \n",
       "9661   POLYGON ((517036.214228835 5531502.141593136, ...   237.253412   \n",
       "9662   POLYGON ((583518.7221919937 5542597.37231781, ...    70.698739   \n",
       "9663   POLYGON ((562800.9308426069 5518412.108883896,...   139.230637   \n",
       "9671   POLYGON ((528946.588139334 5548541.58724295, 5...   171.542865   \n",
       "9672   POLYGON ((555284.3179597174 5585526.698030423,...    98.451147   \n",
       "9673   POLYGON ((579793.7091748607 5600712.455972808,...    18.545369   \n",
       "9674   POLYGON ((611045.9206911884 5563580.588645995,...    22.006909   \n",
       "9675   POLYGON ((604126.0027513373 5519951.958963068,...    11.897715   \n",
       "9676   POLYGON ((531074.6718346528 5525731.269423425,...     0.000000   \n",
       "9677   POLYGON ((536874.6558615116 5564737.393952087,...    92.749345   \n",
       "9678   POLYGON ((598780.8631105764 5564967.916966142,...     0.000000   \n",
       "9679   POLYGON ((585417.888495608 5527332.218800568, ...   155.173737   \n",
       "9761   POLYGON ((641815.7894108807 5346761.365681985,...    62.427048   \n",
       "9762   POLYGON ((616111.6449833012 5304345.420423984,...     0.000000   \n",
       "9763   POLYGON ((592456.0877187226 5290275.73289498, ...   138.179239   \n",
       "9764   POLYGON ((582920.7605232208 5309983.238334344,...   151.694876   \n",
       "9771   POLYGON ((669644.646816373 5371592.100429685, ...     0.000000   \n",
       "9772   POLYGON ((641905.9804599918 5383308.352753768,...     0.000000   \n",
       "9773   POLYGON ((631159.6375334684 5386630.057771814,...    92.320030   \n",
       "9774   POLYGON ((605165.2524145006 5375204.23346445, ...    20.303605   \n",
       "9775   POLYGON ((583868.3663822217 5367492.84504859, ...     0.000000   \n",
       "9776   POLYGON ((580883.9612095908 5276791.756497861,...    96.781099   \n",
       "9777   POLYGON ((632201.3112281661 5300402.213364309,...    54.562829   \n",
       "9778   (POLYGON ((600432.1958105093 5335612.58827678,...    21.692119   \n",
       "9779   POLYGON ((620063.6910124219 5430586.610110237,...    94.959285   \n",
       "9780   POLYGON ((610698.8925236742 5271411.361633939,...    58.028608   \n",
       "\n",
       "              scen2          scen3  \n",
       "1001     923.638393   18342.085866  \n",
       "1002    2351.482853   46696.954906  \n",
       "1003    2110.861512   41918.572674  \n",
       "1004     892.951587   17732.691495  \n",
       "10041   1690.731660   33938.473497  \n",
       "10042   2442.646804   48507.335488  \n",
       "10043   2153.123638   42811.438135  \n",
       "10044   2648.535736   52595.983716  \n",
       "10045   3732.756923   74127.005221  \n",
       "10046   1664.125303   33404.397531  \n",
       "1051    3607.458210   71638.758990  \n",
       "1053    2629.388088   52215.739887  \n",
       "1054    3522.914335   69959.843261  \n",
       "1055    1688.980644   33903.324908  \n",
       "1056    3165.338334   62858.915290  \n",
       "1057   17063.243545  338850.659004  \n",
       "1058    2906.224471   57785.650089  \n",
       "1059    1155.064914   23056.105097  \n",
       "1060    3183.253728   63293.936141  \n",
       "1061    2199.291354   43729.409731  \n",
       "1062    2933.061047   58246.233550  \n",
       "11000   1723.159579   34589.407110  \n",
       "12051   1131.500910   23203.090106  \n",
       "12052   1856.624664   37059.850809  \n",
       "12053    958.820814   20069.844440  \n",
       "12054   1728.675424   34505.872151  \n",
       "12060   1565.840965   31431.511783  \n",
       "12061  12417.881687  246600.676006  \n",
       "12062   2925.245680   58091.031987  \n",
       "12063   1965.743776   39085.687678  \n",
       "...             ...            ...  \n",
       "9574    2758.170963   54841.841624  \n",
       "9575    1161.589161   24314.150706  \n",
       "9576    1822.126131   36575.987113  \n",
       "9577    2546.958959   50578.819875  \n",
       "9661    2387.130368   47464.289691  \n",
       "9662    1362.154927   28512.352978  \n",
       "9663    1675.241015   33911.541461  \n",
       "9671    2064.025917   41781.630118  \n",
       "9672    1026.818383   20496.192262  \n",
       "9673     905.271403   19576.851240  \n",
       "9674     424.007849    8875.247013  \n",
       "9675     580.773600   12559.458228  \n",
       "9676     412.838433    9414.800682  \n",
       "9677    1303.259502   26725.252631  \n",
       "9678     849.423522   21173.601436  \n",
       "9679    1709.151446   34308.218397  \n",
       "9761    1202.783978   25176.432329  \n",
       "9762     691.805452   20162.965377  \n",
       "9763    1662.590454   33655.458883  \n",
       "9764    1670.833744   33539.057711  \n",
       "9771     619.666358   18060.440677  \n",
       "9772     719.862858   17944.039505  \n",
       "9773    1297.227027   26601.547856  \n",
       "9774     991.097727   21432.879341  \n",
       "9775     609.731715   15198.797745  \n",
       "9776    1359.911345   27886.981975  \n",
       "9777    1051.263815   22004.842747  \n",
       "9778    1058.876459   22898.621158  \n",
       "9779    1334.312280   27362.035513  \n",
       "9780    1118.039109   23402.569762  \n",
       "\n",
       "[402 rows x 4 columns]"
      ]
     },
     "execution_count": 106,
     "metadata": {},
     "output_type": "execute_result"
    }
   ],
   "source": [
    "Distr_save"
   ]
  },
  {
   "cell_type": "code",
   "execution_count": 107,
   "metadata": {
    "collapsed": false
   },
   "outputs": [],
   "source": [
    "Distr_save.to_file(\"distrSave.shp\")"
   ]
  },
  {
   "cell_type": "markdown",
   "metadata": {},
   "source": [
    "## Calculate minimum numbers of fueling stations"
   ]
  },
  {
   "cell_type": "markdown",
   "metadata": {},
   "source": [
    "Minimum number of fueling stations calculated by demand"
   ]
  },
  {
   "cell_type": "code",
   "execution_count": 48,
   "metadata": {
    "collapsed": false
   },
   "outputs": [
    {
     "name": "stdout",
     "output_type": "stream",
     "text": [
      "1.1387560367584229 Seconds\n",
      "\n"
     ]
    }
   ],
   "source": [
    "tic=time.time()\n",
    "fuelingMax_kg_d=totalH2Demand*1e6/365/targetFS#kg/day\n",
    "fuelingMax_kt_a=fuelingMax_kg_d/1e6*365\n",
    "#Centroid[\"minFS\"]=[round(Centroid[\"H2Demand_kt\"][ix]/fuelingMax_kt_a+0.5) for ix in Centroid.index]\n",
    "Centroid[\"minFS\"]=[round(Centroid[\"H2Demand_kt\"][ix]/fuelingMax_kt_a) for ix in Centroid.index]\n",
    "Centroid[\"realFS\"]=[len(Fueling[Fueling[\"ID_C\"]==ix]) for ix in Centroid.index]\n",
    "Centroid[\"highwayFS\"]=[sum(Fueling[Fueling[\"ID_C\"]==ix][\"BAB\"]) for ix in Centroid.index]\n",
    "#%%\n",
    "lowFS=Centroid[Centroid[\"minFS\"]>Centroid[\"realFS\"]].index\n",
    "Centroid.loc[lowFS,\"minFS\"] = Centroid[\"realFS\"][lowFS].values\n",
    "#%%\n",
    "Centroid[\"H2Demand_kt_F\"]= Centroid[\"H2Demand_kt\"]/Centroid[\"minFS\"]\n",
    "Centroid.loc[Centroid[\"minFS\"]==0,\"H2Demand_kt_F\"]=0\n",
    "toc=time.time()\n",
    "print(str(toc-tic)+\" Seconds\\n\")"
   ]
  },
  {
   "cell_type": "markdown",
   "metadata": {},
   "source": [
    "## Sorting fueling stations"
   ]
  },
  {
   "cell_type": "markdown",
   "metadata": {},
   "source": [
    "Sorting by BAB (Highway fueling stations) --> Area (urban or rural) --> ID (order of appearance)"
   ]
  },
  {
   "cell_type": "code",
   "execution_count": 49,
   "metadata": {
    "collapsed": false
   },
   "outputs": [
    {
     "name": "stdout",
     "output_type": "stream",
     "text": [
      "6977.0 Tankstellen, davon 385 Autobahntankstellen\n"
     ]
    }
   ],
   "source": [
    "tic=time.time()\n",
    "# ## Sort by highway fueling stations (1st order) and city level (2nd order)\n",
    "FuelingSorted=Fueling.sort_values(by=[\"BAB\",\"GEBIET\",\"ID_TS\"],ascending=[False,False, True])\n",
    "print(str(sum(Centroid[\"minFS\"])) + \" Tankstellen, davon \" + str(sum(Centroid[\"highwayFS\"])) + \" Autobahntankstellen\")\n",
    "#%%\n",
    "### city level weight factors ###\n",
    "weightFtoF=pd.Series([1., 1.25, 1.25, 1.5, 1.5, 1.5, 1.75, 1.75, 2.],\n",
    "                     index=[\"1to1\",\"1to2\",\"2to1\",\"2to2\",\"1to3\",\"3to1\",\"2to3\",\"3to2\",\"3to3\"])"
   ]
  },
  {
   "cell_type": "markdown",
   "metadata": {},
   "source": [
    "final fueling stations are not directly the number of target fueling stations --> Rounding of decimals!"
   ]
  },
  {
   "cell_type": "markdown",
   "metadata": {},
   "source": [
    "## Prepare Distance Matrices"
   ]
  },
  {
   "cell_type": "markdown",
   "metadata": {},
   "source": [
    "For pipeline: different matrices necessary --> potential network + weight factor!"
   ]
  },
  {
   "cell_type": "code",
   "execution_count": 50,
   "metadata": {
    "collapsed": false
   },
   "outputs": [
    {
     "name": "stdout",
     "output_type": "stream",
     "text": [
      "16.43176817893982 Seconds\n",
      "\n"
     ]
    }
   ],
   "source": [
    "tic=time.time()\n",
    "#Nearest Neighbours\n",
    "kNN=10\n",
    "#Prepare coordinates\n",
    "if analysisType==\"pipeline\":\n",
    "    Coords=Centroid.geometry.append(Source.geometry).append(NGGridPoint.geometry).append(Fueling.geometry)\n",
    "elif analysisType==\"truck\":\n",
    "    Coords=Source.geometry.append(Fueling.geometry)\n",
    "CoordsTotal=pd.DataFrame(Coords,index=Coords.index.values)\n",
    "CoordsTotal[\"coordinates\"]=pd.Series(sFun.point_array(Coords), index=Coords.index)\n",
    "#%%\n",
    "# Calculation distance Matrices\n",
    "if analysisType==\"pipeline\":\n",
    "    # Weight factors\n",
    "    weightStoG=1.5\n",
    "    weightCtoC=2.\n",
    "    weightStoC=2.\n",
    "    weightCtoG=1.5\n",
    "    weightGtoG=1.\n",
    "    #distance Matrices\n",
    "    distCtoC=sFun.selfDistMatrix(Centroid, weight=weightCtoC, kNN=20)\n",
    "    distGtoG=sFun.selfDistMatrix(NGGridPoint, weight=weightGtoG, kNN=10)\n",
    "    distCtoG=sFun.distMatrix(Centroid, NGGridPoint, weight=weightCtoG, kNN=20)\n",
    "    distStoG=sFun.distMatrix(Source, NGGridPoint, weight=weightStoG, kNN=20)\n",
    "    distStoC=sFun.distMatrix(Source, Centroid, weight=weightStoC, kNN=20)\n",
    "    distStoS=sFun.selfDistMatrix(Source, weight=weightStoC, kNN=kNN)\n",
    "    distFtoF=gpd.GeoDataFrame(columns=distCtoC.columns)\n",
    "    distTotal=distCtoC.append(distGtoG).append(distCtoG).append(distStoG).append(distStoC).append(distStoS)\n",
    "toc=time.time()\n",
    "print(str(toc-tic)+\" Seconds\\n\")\n",
    "#%%"
   ]
  },
  {
   "cell_type": "markdown",
   "metadata": {},
   "source": [
    "## Selecting fueling stations"
   ]
  },
  {
   "cell_type": "markdown",
   "metadata": {},
   "source": [
    "The actual selection of fueling stations is working like such: It's searching for each centroid (county) for its minimum number of fueling stations and adds this number of fueling stations. Within this calculation, the algorithm directly creates the distance matrix between the fueling stations inside a county. (open for functionality imporovements)"
   ]
  },
  {
   "cell_type": "code",
   "execution_count": 51,
   "metadata": {
    "collapsed": false
   },
   "outputs": [
    {
     "name": "stdout",
     "output_type": "stream",
     "text": [
      "7.860903978347778 Seconds\n",
      "\n"
     ]
    }
   ],
   "source": [
    "FuelingNew=gpd.GeoDataFrame(columns=Fueling.columns)\n",
    "tic=time.time()\n",
    "listInID=[]\n",
    "listTarID=[]\n",
    "listDistance=[]\n",
    "listFull=[]\n",
    "\n",
    "FuelingSorted[\"coords\"]=sFun.point_array(FuelingSorted)\n",
    "for ix in Centroid.index:\n",
    "    if Centroid[\"minFS\"][ix]==0:\n",
    "        continue\n",
    "    listF=list(FuelingSorted[FuelingSorted[\"ID_C\"]==ix].head(int(Centroid[\"minFS\"][ix]))[\"ID\"])\n",
    "    listCoords=list(FuelingSorted[FuelingSorted[\"ID_C\"]==ix].head(int(Centroid[\"minFS\"][ix]))[\"coords\"])\n",
    "    listFull.extend(listF)\n",
    "#    FuelingNew=FuelingNew.append(dfNew)\n",
    "    if analysisType==\"pipeline\":\n",
    "    #        Distance Matrix inside a Centroid for getting the Minimum Spanning Tree\n",
    "    #        distFtoFperC=sFun.selfDistMatrixFueling(dfNew, weightFtoF)\n",
    "        (inID, outID, distance) = sFun.selfDistMatrixFueling(listF, listCoords)\n",
    "        listInID.extend(inID)\n",
    "        listTarID.extend(outID)\n",
    "        listDistance.extend(distance)\n",
    "FuelingNew=Fueling.ix[listFull]\n",
    "if analysisType==\"pipeline\":\n",
    "    distFtoF=pd.DataFrame([listInID,\n",
    "                           listTarID,\n",
    "                           listDistance],\n",
    "                          index=[\"inputID\",\n",
    "                                 \"targetID\",                              \n",
    "                                 \"distance\"]).T\n",
    "    distFtoF=distFtoF[distFtoF.inputID != distFtoF.targetID]\n",
    "    distFtoF[\"inputArea\"]=FuelingNew.loc[distFtoF[\"inputID\"].values,\"GEBIET\"].values\n",
    "    distFtoF[\"targetArea\"]=FuelingNew.loc[distFtoF[\"targetID\"].values,\"GEBIET\"].values\n",
    "    distFtoF[\"weightID\"]=[str(distFtoF[\"inputArea\"][ix])+\"to\"+str(distFtoF[\"targetArea\"][ix]) for ix in distFtoF.index]\n",
    "    distFtoF[\"weightedDistance\"]=weightFtoF[distFtoF[\"weightID\"]].values*distFtoF[\"distance\"]\n",
    "toc=time.time()\n",
    "print(str(toc-tic)+\" Seconds\\n\")"
   ]
  },
  {
   "cell_type": "code",
   "execution_count": null,
   "metadata": {
    "collapsed": false,
    "scrolled": true
   },
   "outputs": [],
   "source": []
  },
  {
   "cell_type": "code",
   "execution_count": 52,
   "metadata": {
    "collapsed": false
   },
   "outputs": [],
   "source": [
    "D2=District.copy()\n",
    "D2.index=D2.AGS.values"
   ]
  },
  {
   "cell_type": "code",
   "execution_count": null,
   "metadata": {
    "collapsed": false,
    "scrolled": true
   },
   "outputs": [],
   "source": []
  },
  {
   "cell_type": "markdown",
   "metadata": {},
   "source": [
    "## Manipulating the new stations and the final informations for the network approach"
   ]
  },
  {
   "cell_type": "code",
   "execution_count": 53,
   "metadata": {
    "collapsed": false
   },
   "outputs": [
    {
     "name": "stdout",
     "output_type": "stream",
     "text": [
      "12.8543119430542 Seconds\n",
      "\n"
     ]
    }
   ],
   "source": [
    "tic=time.time()\n",
    "\n",
    "FuelingNew[\"intIndex\"]=FuelingNew[\"intIndex\"].values.astype(int)\n",
    "FuelingNew.intIndex=[x for x, item in enumerate(FuelingNew.index)]\n",
    "weightStreetSimple=1.3\n",
    "if analysisType==\"truck\":\n",
    "    distFtoS=sFun.distMatrix(FuelingNew, Source, weight=weightStreetSimple, kNN=len(Source.geometry))\n",
    "    distTotal=distFtoS\n",
    "elif analysisType==\"pipeline\":\n",
    "    distTotal=distTotal.append(distFtoF)\n",
    "#%%\n",
    "FuelingNew[\"areaID\"]=[str(int(FuelingNew[\"GEBIET\"][ix]))+\"to1\" for ix in FuelingNew.index]\n",
    "FuelingNew[\"weightedLength\"]=[weightFtoF[FuelingNew[\"areaID\"][ix]]*FuelingNew[\"distToC\"][ix] for ix in FuelingNew.index]\n",
    "FuelingNew[\"H2Demand_kt_F\"]=[Centroid.loc[ID_C, \"H2Demand_kt_F\"] for ID_C in FuelingNew[\"ID_C\"]]\n",
    "FuelingNew[\"H2Demand_kg_d_F\"]=FuelingNew[\"H2Demand_kt_F\"]*1e6/365\n",
    "   \n",
    "toc=time.time()\n",
    "print(str(toc-tic)+\" Seconds\\n\")"
   ]
  },
  {
   "cell_type": "code",
   "execution_count": 54,
   "metadata": {
    "collapsed": false
   },
   "outputs": [],
   "source": [
    "FuelingNew.loc[:, [\"geometry\", \"ID\"]].to_file(\"FS20mio.shp\")"
   ]
  },
  {
   "cell_type": "markdown",
   "metadata": {},
   "source": [
    "## preparing NetworkX for distribution"
   ]
  },
  {
   "cell_type": "markdown",
   "metadata": {},
   "source": [
    "Initializing the graph and adding nodes/edges with empty capacity, maximum production, real production and real demand. Afterwards, we apply the maximum capacity and the demand of the fueling stations to the nodes."
   ]
  },
  {
   "cell_type": "code",
   "execution_count": 19,
   "metadata": {
    "collapsed": false
   },
   "outputs": [
    {
     "name": "stdout",
     "output_type": "stream",
     "text": [
      "0.655174970626831 Seconds\n",
      "\n"
     ]
    }
   ],
   "source": [
    "tic=time.time()\n",
    "# ## Import to NetworkX for minimum spanning tree\n",
    "G_total=optiFun.PipeNetWork()\n",
    "G_total.add_weighted_edges_from(list(zip(distTotal[\"inputID\"], distTotal[\"targetID\"], distTotal[\"weightedDistance\"])),\n",
    "                                capacity=0)\n",
    "if analysisType==\"pipeline\":\n",
    "    G_total.add_weighted_edges_from(list(zip(FuelingNew.index, FuelingNew.ID_C, FuelingNew.distToC)),\n",
    "                                    capacity=0)\n",
    "G_total.add_nodes_from(nodes = G_total.nodes(),\n",
    "                       productionMax = 0,\n",
    "                       production = 0,\n",
    "                       demand = 0)\n",
    "\n",
    "nx.set_node_attributes(G_total, \"productionMax\", Source.H2ProdCap_kt.to_dict())\n",
    "nx.set_node_attributes(G_total, \"demand\", FuelingNew[\"H2Demand_kt_F\"].to_dict())\n",
    "\n",
    "if analysisType==\"pipeline\":\n",
    "    G_total.useMinSpanTree(weight=\"weight\")\n",
    "toc=time.time()\n",
    "print(str(toc-tic)+\" Seconds\\n\")\n"
   ]
  },
  {
   "cell_type": "markdown",
   "metadata": {},
   "source": [
    "## Initialize Optimization Problem"
   ]
  },
  {
   "cell_type": "code",
   "execution_count": null,
   "metadata": {
    "collapsed": false
   },
   "outputs": [],
   "source": [
    "tic=time.time()\n",
    "if analysisType==\"pipeline\":\n",
    "    G_total.initOpti()\n",
    "elif analysisType==\"truck\":\n",
    "    G_total.initOptiTruck()\n",
    "toc=time.time()\n",
    "print(str(toc-tic)+\" Seconds\\n\")"
   ]
  },
  {
   "cell_type": "markdown",
   "metadata": {},
   "source": [
    "## Solve Optimization"
   ]
  },
  {
   "cell_type": "code",
   "execution_count": null,
   "metadata": {
    "collapsed": false
   },
   "outputs": [],
   "source": [
    "tic=time.time()\n",
    "G_total.optModel()\n",
    "toc=time.time()\n",
    "print(str(toc-tic)+\" Seconds\\n\")"
   ]
  },
  {
   "cell_type": "markdown",
   "metadata": {},
   "source": [
    "## Postprocessing"
   ]
  },
  {
   "cell_type": "code",
   "execution_count": null,
   "metadata": {
    "collapsed": false
   },
   "outputs": [],
   "source": [
    "tic=time.time()\n",
    "NodesFinal=G_total.getProductionNodes()\n",
    "EdgesFinal=G_total.getEdgesAsGpd(CoordsTotal, analysisType)\n",
    "#%%\n",
    "Source[\"H2Production_kt\"]=NodesFinal\n",
    "Source[\"H2Production_kg_day\"]=Source[\"H2Production_kt\"]*1e6/365\n",
    "toc=time.time()\n",
    "print(str(toc-tic)+\" Seconds\\n\")"
   ]
  },
  {
   "cell_type": "markdown",
   "metadata": {},
   "source": [
    "# techno-economic analysis (Ugly beautiful solved so far!!!)"
   ]
  },
  {
   "cell_type": "code",
   "execution_count": null,
   "metadata": {
    "collapsed": false
   },
   "outputs": [
    {
     "name": "stdout",
     "output_type": "stream",
     "text": [
      "-------------- Preparing total Analysis --------------\n",
      "0.2651970386505127 Sekunden\n",
      "-------------- Plotting --------------\n"
     ]
    }
   ],
   "source": [
    "for listHSC in hscPathways:\n",
    "    print(\"-------------- Preparing total Analysis --------------\")\n",
    "    tic=time.time()\n",
    "    hscResults=pd.Series()\n",
    "    hscResultsTot=pd.Series()\n",
    "    hscResultsInvest=pd.Series()\n",
    "    hscResultsCAPEX=pd.Series()\n",
    "    hscResultsOPEX=pd.Series()\n",
    "    hscResultsEnergy=pd.DataFrame(index=[\"Loss\", \"electricityRES\", \"electricityGrid\", \"NaturalGas\", \"Diesel\"])\n",
    "    \n",
    "    hscName=pd.Series(listHSC,\n",
    "                      index=[\"Production\",\"Connector1\",\"Storage\",\"Connector2\",\"Transmission\",\"Connector3\",\"Distribution\",\"Fueling\"])\n",
    "    #%%\n",
    "    HSC={}\n",
    "    #%% Production Class\n",
    "    if scenario==2:\n",
    "        HSC[\"Production\"]=hscFun.Production(Source[\"H2Production_kg_day\"], hscName[\"Production\"], dfTable)\n",
    "        Source[\"productionSpecCost\"]=HSC[\"Production\"].getTOTEX()\n",
    "        Source[\"productionInvest\"]=HSC[\"Production\"].getInvest()\n",
    "        hscResults[\"Production\"]=np.sum(Source[\"productionSpecCost\"]*Source[\"H2Production_kg_day\"])/np.sum(Source[\"H2Production_kg_day\"])\n",
    "        hscResultsOPEX[\"Production\"]=np.sum(HSC[\"Production\"].OPEX*Source[\"H2Production_kg_day\"])/np.sum(Source[\"H2Production_kg_day\"])\n",
    "        hscResultsCAPEX[\"Production\"]=np.sum(HSC[\"Production\"].CAPEX*Source[\"H2Production_kg_day\"])/np.sum(Source[\"H2Production_kg_day\"])\n",
    "        hscResultsTot[\"Production\"]=hscResults[\"Production\"]\n",
    "        hscResultsInvest[\"Production\"]=np.sum(Source[\"productionInvest\"])\n",
    "        hscResultsEnergy[\"Production\"]=HSC[\"Production\"].getDemand()\n",
    "        #%% Connector Class\n",
    "        HSC[\"Con1\"]=hscFun.Connector(Source[\"H2Production_kg_day\"], hscName[\"Connector1\"], dfTable, costH2In=Source[\"productionSpecCost\"], pressureIn=30, pressureOut=150)\n",
    "        Source[\"con1SpecCost\"]=HSC[\"Con1\"].getTOTEX()\n",
    "        Source[\"con1Invest\"]=HSC[\"Con1\"].getInvest()\n",
    "        hscResults[\"Connector1\"]=np.sum(Source[\"con1SpecCost\"]*Source[\"H2Production_kg_day\"])/np.sum(Source[\"H2Production_kg_day\"])\n",
    "        hscResultsOPEX[\"Connector1\"]=np.sum(HSC[\"Con1\"].OPEX*Source[\"H2Production_kg_day\"])/np.sum(Source[\"H2Production_kg_day\"])\n",
    "        hscResultsCAPEX[\"Connector1\"]=np.sum(HSC[\"Con1\"].CAPEX*Source[\"H2Production_kg_day\"])/np.sum(Source[\"H2Production_kg_day\"])\n",
    "        hscResultsTot[\"Connector1\"]=hscResultsTot[\"Production\"]+hscResults[\"Connector1\"]\n",
    "        hscResultsInvest[\"Connector1\"]=np.sum(Source[\"con1Invest\"])\n",
    "        hscResultsEnergy[\"Connector1\"]=HSC[\"Con1\"].getDemand()\n",
    "        #%% Storage Class\n",
    "        HSC[\"Storage\"]=hscFun.Storage(Source[\"H2Production_kg_day\"], hscName[\"Storage\"], dfTable, costH2In=Source[\"con1SpecCost\"])\n",
    "        Source[\"storageSpecCost\"]=HSC[\"Storage\"].getTOTEX()\n",
    "        Source[\"storageInvest\"]=HSC[\"Storage\"].getInvest()\n",
    "        hscResults[\"Storage\"]=np.sum(Source[\"storageSpecCost\"]*Source[\"H2Production_kg_day\"])/np.sum(Source[\"H2Production_kg_day\"])\n",
    "        hscResultsOPEX[\"Storage\"]=np.sum(HSC[\"Storage\"].OPEX*Source[\"H2Production_kg_day\"])/np.sum(Source[\"H2Production_kg_day\"])\n",
    "        hscResultsCAPEX[\"Storage\"]=np.sum(HSC[\"Storage\"].CAPEX*Source[\"H2Production_kg_day\"])/np.sum(Source[\"H2Production_kg_day\"])\n",
    "        hscResultsTot[\"Storage\"]=hscResultsTot[\"Connector1\"]+hscResults[\"Storage\"]\n",
    "        hscResultsInvest[\"Storage\"]=np.sum(Source[\"storageInvest\"])\n",
    "        hscResultsEnergy[\"Storage\"]=HSC[\"Storage\"].getDemand()\n",
    "    else:\n",
    "        hscResults[\"Production\"]=hscResultsTot[\"Production\"]=priceSMR\n",
    "        hscResultsOPEX[\"Production\"]=0\n",
    "        hscResultsOPEX[\"Production\"]=0\n",
    "        hscResultsCAPEX[\"Production\"]=0\n",
    "        hscResultsEnergy[\"Production\"]=0\n",
    "        #%% Connector Class\n",
    "        hscResultsTot[\"Connector1\"]=priceSMR\n",
    "        hscResults[\"Connector1\"]=0\n",
    "        hscResultsOPEX[\"Connector1\"]=0\n",
    "        hscResultsOPEX[\"Connector1\"]=0\n",
    "        hscResultsCAPEX[\"Connector1\"]=0\n",
    "        hscResults[\"Connector1\"]=0\n",
    "        hscResultsEnergy[\"Connector1\"]=0\n",
    "        #%% Storage Class\n",
    "        hscResultsTot[\"Storage\"]=priceSMR\n",
    "        hscResults[\"Storage\"]=0\n",
    "        hscResultsOPEX[\"Storage\"]=0\n",
    "        hscResultsOPEX[\"Storage\"]=0\n",
    "        hscResultsCAPEX[\"Storage\"]=0\n",
    "        hscResults[\"Storage\"]=0\n",
    "        hscResultsEnergy[\"Storage\"]=0\n",
    "        Source[\"storageSpecCost\"]=hscResultsTot[\"Storage\"]\n",
    "    #%% Connector 2, Transmission and Distribution Calculation\n",
    "    if analysisType==\"pipeline\":\n",
    "        HSC[\"Con2\"]=hscFun.Connector2(Source[\"H2Production_kg_day\"],\n",
    "                                      hscName[\"Connector2\"],\n",
    "                                      dfTable, \n",
    "                                      costH2In=Source[\"storageSpecCost\"],\n",
    "                                      pressureIn=dfTable[\"Storage\"][hscName[\"Storage\"]][\"pressureOut\"],\n",
    "                                      pressureOut=dfTable[\"Transport\"][hscName[\"Transmission\"]][\"pressureIn\"],\n",
    "                                      nextStep=hscName[\"Transmission\"])\n",
    "        Source[\"con2SpecCost\"]=HSC[\"Con2\"].getTOTEX()\n",
    "        Source[\"con2Invest\"]=HSC[\"Con2\"].getInvest()\n",
    "        hscResults[\"Connector2\"]=np.sum(Source[\"con2SpecCost\"]*Source[\"H2Production_kg_day\"])/np.sum(Source[\"H2Production_kg_day\"])\n",
    "        hscResultsOPEX[\"Connector2\"]=np.sum(HSC[\"Con2\"].OPEX*Source[\"H2Production_kg_day\"])/np.sum(Source[\"H2Production_kg_day\"])\n",
    "        hscResultsCAPEX[\"Connector2\"]=np.sum(HSC[\"Con2\"].CAPEX*Source[\"H2Production_kg_day\"])/np.sum(Source[\"H2Production_kg_day\"])\n",
    "        hscResultsTot[\"Connector2\"]=hscResultsTot[\"Storage\"]+hscResults[\"Connector2\"]  \n",
    "        hscResultsInvest[\"Connector2\"]=np.sum(Source[\"con2Invest\"])\n",
    "        hscResultsEnergy[\"Connector2\"]=HSC[\"Con2\"].getDemand()\n",
    "        \n",
    "        HSC[\"Transmission\"]=hscFun.Pipeline(totalH2Demand*1e6,\n",
    "                                                   np.sum(EdgesFinal[EdgesFinal[\"distribution\"]==False][\"lineCost\"].values*1e6),\n",
    "                                                   dfTable,\n",
    "                                                   costH2In=hscResults[\"Connector2\"])\n",
    "        hscResults[\"Transmission\"]=HSC[\"Transmission\"].getTOTEX()\n",
    "        hscResultsTot[\"Transmission\"]=hscResultsTot[\"Connector2\"]+hscResults[\"Transmission\"]\n",
    "        hscResultsCAPEX[\"Transmission\"]=HSC[\"Transmission\"].CAPEX\n",
    "        hscResultsOPEX[\"Transmission\"]=HSC[\"Transmission\"].OPEX\n",
    "        hscResultsInvest[\"Transmission\"]=HSC[\"Transmission\"].invest\n",
    "        hscResultsEnergy[\"Transmission\"]=0\n",
    "        \n",
    "        if hscName[\"Distribution\"]==\"Pipeline\":\n",
    "            #Connector 3\n",
    "            hscResults[\"Connector3\"]=0\n",
    "            hscResultsCAPEX[\"Connector3\"]=0\n",
    "            hscResultsOPEX[\"Connector3\"]=0\n",
    "            hscResultsInvest[\"Connector3\"]=0\n",
    "            hscResultsTot[\"Connector3\"]=hscResultsTot[\"Transmission\"]+hscResults[\"Connector3\"]\n",
    "            hscResultsEnergy[\"Connector3\"]=0\n",
    "            #Distribution\n",
    "            HSC[\"Distribution\"]=hscFun.Pipeline(totalH2Demand*1e6,\n",
    "                                                       np.sum(EdgesFinal[EdgesFinal[\"distribution\"]][\"lineCost\"].values*1e6),\n",
    "                                                       dfTable,\n",
    "                                                       costH2In=hscResultsTot[\"Transmission\"])\n",
    "            hscResults[\"Distribution\"]=HSC[\"Distribution\"].getTOTEX()\n",
    "            hscResultsCAPEX[\"Distribution\"]=HSC[\"Distribution\"].CAPEX\n",
    "            hscResultsOPEX[\"Distribution\"]=HSC[\"Distribution\"].OPEX\n",
    "            hscResultsEnergy[\"Transmission\"]=0\n",
    "        else:\n",
    "            #Connector 3\n",
    "            HSC[\"Con3\"]=hscFun.Connector2(Centroid[\"H2Demand_kt\"]*1e6/365,\n",
    "                                          hscName[\"Connector3\"],\n",
    "                                          dfTable,\n",
    "                                          costH2In=hscResultsTot[\"Transmission\"],\n",
    "                                          pressureIn=dfTable[\"Transport\"][hscName[\"Transmission\"]][\"pressureOut\"],\n",
    "                                          pressureOut=dfTable[\"Transport\"][hscName[\"Distribution\"]][\"pressureIn\"],\n",
    "                                          nextStep=hscName[\"Distribution\"])\n",
    "            hscResults[\"Connector3\"]=np.sum(HSC[\"Con3\"].getTOTEX()*Centroid[\"H2Demand_kt\"])/np.sum(Centroid[\"H2Demand_kt\"])\n",
    "            hscResultsCAPEX[\"Connector3\"]=np.sum(HSC[\"Con3\"].CAPEX*Centroid[\"H2Demand_kt\"])/np.sum(Centroid[\"H2Demand_kt\"])\n",
    "            hscResultsOPEX[\"Connector3\"]=np.sum(HSC[\"Con3\"].OPEX*Centroid[\"H2Demand_kt\"])/np.sum(Centroid[\"H2Demand_kt\"])\n",
    "            hscResultsTot[\"Connector3\"]=hscResultsTot[\"Transmission\"]+hscResults[\"Connector3\"]\n",
    "            hscResultsInvest[\"Connector3\"]=np.sum(HSC[\"Con3\"].invest)\n",
    "            hscResultsEnergy[\"Connector3\"]=HSC[\"Con3\"].getDemand()\n",
    "            #Distribution\n",
    "            HSC[\"Distribution\"]=hscFun.Truck(FuelingNew[\"H2Demand_kg_d_F\"],\n",
    "                                             FuelingNew[\"distToC\"]*weightStreetSimple,\n",
    "                                             hscName[\"Distribution\"],\n",
    "                                             dfTable,\n",
    "                                             costH2In=hscResults[\"Connector3\"])\n",
    "            FuelingNew[\"TOTEX\"]=HSC[\"Distribution\"].getTOTEX()\n",
    "            hscResults[\"Distribution\"]=np.sum(FuelingNew[\"TOTEX\"]*FuelingNew[\"H2Demand_kg_d_F\"])/np.sum(FuelingNew[\"H2Demand_kg_d_F\"])\n",
    "            hscResultsCAPEX[\"Distribution\"]=np.sum(HSC[\"Distribution\"].CAPEX*FuelingNew[\"H2Demand_kg_d_F\"])/np.sum(FuelingNew[\"H2Demand_kg_d_F\"])\n",
    "            hscResultsOPEX[\"Distribution\"]=np.sum(HSC[\"Distribution\"].OPEX*FuelingNew[\"H2Demand_kg_d_F\"])/np.sum(FuelingNew[\"H2Demand_kg_d_F\"])\n",
    "            numberOfTrucks=np.sum(HSC[\"Distribution\"].nTruck)\n",
    "            hscResultsEnergy[\"Distribution\"]=HSC[\"Distribution\"].getDemand()\n",
    "    \n",
    "    elif analysisType==\"truck\":\n",
    "        HSC[\"Con2\"]=hscFun.Connector2(Source[\"H2Production_kg_day\"],\n",
    "                                      hscName[\"Connector2\"],\n",
    "                                      dfTable,\n",
    "                                      costH2In=Source[\"storageSpecCost\"],\n",
    "                                      pressureIn=dfTable[\"Storage\"][hscName[\"Storage\"]][\"pressureOut\"],\n",
    "                                      pressureOut=dfTable[\"Transport\"][hscName[\"Distribution\"]][\"pressureIn\"],\n",
    "                                      nextStep=hscName[\"Distribution\"])\n",
    "        Source[\"con2SpecCost\"]=HSC[\"Con2\"].getTOTEX()\n",
    "        Source[\"con2Invest\"]=HSC[\"Con2\"].getInvest()\n",
    "        hscResults[\"Connector2\"]=np.sum(Source[\"con2SpecCost\"]*Source[\"H2Production_kg_day\"])/np.sum(Source[\"H2Production_kg_day\"])\n",
    "        hscResultsOPEX[\"Connector2\"]=np.sum(HSC[\"Con2\"].OPEX*Source[\"H2Production_kg_day\"])/np.sum(Source[\"H2Production_kg_day\"])\n",
    "        hscResultsCAPEX[\"Connector2\"]=np.sum(HSC[\"Con2\"].CAPEX*Source[\"H2Production_kg_day\"])/np.sum(Source[\"H2Production_kg_day\"])\n",
    "        hscResultsTot[\"Connector2\"]=hscResultsTot[\"Storage\"]+hscResults[\"Connector2\"]  \n",
    "        hscResultsInvest[\"Connector2\"]=np.sum(Source[\"con2Invest\"])\n",
    "        hscResultsEnergy[\"Connector2\"]=HSC[\"Con2\"].getDemand()\n",
    "        #Transmission\n",
    "        hscResults[\"Transmission\"]=0\n",
    "        hscResultsCAPEX[\"Transmission\"]=0\n",
    "        hscResultsOPEX[\"Transmission\"]=0\n",
    "        hscResultsTot[\"Transmission\"]=hscResultsTot[\"Connector2\"]+hscResults[\"Transmission\"]\n",
    "        hscResultsInvest[\"Transmission\"]=0\n",
    "        hscResultsEnergy[\"Transmission\"]=0\n",
    "        #Connector 3\n",
    "        hscResults[\"Connector3\"]=0\n",
    "        hscResultsCAPEX[\"Connector3\"]=0\n",
    "        hscResultsOPEX[\"Connector3\"]=0\n",
    "        hscResultsTot[\"Connector3\"]=hscResultsTot[\"Transmission\"]+hscResults[\"Connector3\"]\n",
    "        hscResultsInvest[\"Connector3\"]=0\n",
    "        hscResultsEnergy[\"Connector3\"]=0\n",
    "        #Distribution\n",
    "        HSC[\"Distribution\"]=hscFun.Truck(EdgesFinal[\"capacity\"].values*1e6/365,\n",
    "                                         EdgesFinal[\"distance\"].values*weightStreetSimple,\n",
    "                                         hscName[\"Distribution\"],\n",
    "                                         dfTable,\n",
    "                                         costH2In=hscResults[\"Transmission\"])\n",
    "        EdgesFinal[\"TOTEX\"]=HSC[\"Distribution\"].getTOTEX()\n",
    "        hscResults[\"Distribution\"]=np.sum(EdgesFinal[\"TOTEX\"]*EdgesFinal[\"capacity\"])/totalH2Demand\n",
    "        hscResultsCAPEX[\"Distribution\"]=np.sum(HSC[\"Distribution\"].CAPEX*EdgesFinal[\"capacity\"])/totalH2Demand\n",
    "        hscResultsOPEX[\"Distribution\"]=np.sum(HSC[\"Distribution\"].OPEX*EdgesFinal[\"capacity\"])/totalH2Demand\n",
    "          \n",
    "        numberOfTrucks=np.sum(HSC[\"Distribution\"].nTruck)\n",
    "        print(\"numberOfTrucks\"+ str(numberOfTrucks))\n",
    "    hscResultsInvest[\"Distribution\"]=np.sum(HSC[\"Distribution\"].getInvest())\n",
    "    hscResultsTot[\"Distribution\"]=hscResultsTot[\"Transmission\"]+hscResults[\"Distribution\"]\n",
    "    hscResultsEnergy[\"Distribution\"]=HSC[\"Distribution\"].getDemand()\n",
    "    #%%\n",
    "    HSC[\"Fueling\"]=hscFun.Station(FuelingNew[\"H2Demand_kg_d_F\"], hscName[\"Fueling\"], dfTable, costH2In=hscResults[\"Distribution\"])\n",
    "    FuelingNew[\"fuelingSpecCost\"]=HSC[\"Fueling\"].getTOTEX()\n",
    "    \n",
    "    hscResults[\"Fueling\"]=np.sum(FuelingNew[\"fuelingSpecCost\"]*FuelingNew[\"H2Demand_kg_d_F\"])/np.sum(FuelingNew[\"H2Demand_kg_d_F\"])\n",
    "    hscResultsCAPEX[\"Fueling\"]=np.sum(HSC[\"Fueling\"].CAPEX*FuelingNew[\"H2Demand_kg_d_F\"])/np.sum(FuelingNew[\"H2Demand_kg_d_F\"])\n",
    "    hscResultsOPEX[\"Fueling\"]=np.sum(HSC[\"Fueling\"].OPEX*FuelingNew[\"H2Demand_kg_d_F\"])/np.sum(FuelingNew[\"H2Demand_kg_d_F\"])\n",
    "    hscResultsTot[\"Fueling\"]=hscResultsTot[\"Distribution\"]+hscResults[\"Fueling\"]  \n",
    "    hscResultsInvest[\"Fueling\"]=np.sum(HSC[\"Fueling\"].getInvest())\n",
    "    hscResultsEnergy[\"Fueling\"]=HSC[\"Fueling\"].getDemand()\n",
    "    #%%\n",
    "    hscRes=pd.DataFrame()\n",
    "    hscRes[\"spec. costs[€/kg]\"]=hscResults\n",
    "    hscRes[\"cum. costs[€/kg]\"]=hscResultsTot\n",
    "    hscRes[\"OPEX [€/kg]\"]=hscResultsOPEX\n",
    "    hscRes[\"CAPEX [€/kg]\"]=hscResultsCAPEX     \n",
    "    hscRes[\"Invest [Mrd. €]\"]=hscResultsInvest*1e-9\n",
    "    hscRes[\"Name\"]=hscName\n",
    "    hscRes[\"kilometer cost[€/km]\"]=hscResults*specificDemand\n",
    "    hscRes[\"scenario\"]=targetCars\n",
    "    hscRes[\"pathway\"]=hscName[\"Transmission\"]+\"_\"+hscName[\"Distribution\"]\n",
    "    hscRes=pd.concat([hscRes, hscResultsEnergy.T],axis=1)\n",
    "    hscRes=hscRes.round(2)\n",
    "    if scenario==2:\n",
    "        powerInput=gpd.GeoDataFrame(HSC[\"Con2\"].electricityPower)\n",
    "        powerInput.columns=[\"electricityPower\"]\n",
    "        powerInput.geometry=Source.geometry\n",
    "        powerInput[\"x\"]=powerInput.geometry.map(lambda p:p.x).values\n",
    "        powerInput[\"y\"]=powerInput.geometry.map(lambda p:p.y).values\n",
    "        if analysisType==\"pipeline\":\n",
    "            powerInput.to_csv(\"20millionFCEV\"+hscName[\"Transmission\"]+hscName[\"Distribution\"]+\".csv\")\n",
    "        else:\n",
    "            powerInput.to_csv(\"20millionFCEV\"+hscName[\"Distribution\"]+\".csv\")\n",
    "    #%%  \n",
    "    #%%\n",
    "    if analysisType==\"pipeline\":\n",
    "        if hscName[\"Distribution\"]==\"Pipeline\":\n",
    "            \n",
    "            dfResults=pd.DataFrame([\"%.0f\" %(targetCars*1e-6)+ \" Mio.\",\n",
    "                                    \"%.0f\" %totalH2Demand +\" kt/year\",\n",
    "                                    \"%.0f\" %len(FuelingNew),                                    \n",
    "                                    \"%.0f\" % sum(EdgesFinal[EdgesFinal[\"distribution\"]==False][\"weightedDistance\"]) + \" km\",\n",
    "                                    \"%.0f\" % sum(EdgesFinal[EdgesFinal[\"distribution\"]][\"weightedDistance\"]) + \" km\"],\n",
    "                                   index=[\"Number of vehicles\",\n",
    "                                          \"Hydrogen demand\",\n",
    "                                          \"Fueling stations\",\n",
    "                                          \"Transmission length\",\n",
    "                                          \"Distribution length\"])\n",
    "    \n",
    "        else:\n",
    "            dfResults=pd.DataFrame([\"%.0f\" %(targetCars*1e-6)+ \" Mio.\",\n",
    "                                    \"%.0f\" %totalH2Demand +\" kt/year\",\n",
    "                                    \"%.0f\" %len(FuelingNew),                                    \n",
    "                                    \"%.0f\" % sum(EdgesFinal[EdgesFinal[\"distribution\"]==False][\"weightedDistance\"]) + \" km\",\n",
    "                                    \"%.0f\" % numberOfTrucks],\n",
    "                                   index=[\"Number of vehicles\",\n",
    "                                          \"Hydrogen demand\",\n",
    "                                          \"Fueling stations\",\n",
    "                                          \"Transmission length\",\n",
    "                                          \"Number of Trucks\"])\n",
    "    else:\n",
    "        dfResults=pd.DataFrame([\"%.0f\" %(targetCars*1e-6)+ \" Mio.\",\n",
    "                                \"%.0f\" %totalH2Demand +\" kt/year\",\n",
    "                                \"%.0f\" %len(FuelingNew),\n",
    "                                \"%.0f\" % numberOfTrucks],\n",
    "                                index=[\"Number of vehicles\",\n",
    "                                       \"Hydrogen demand\",\n",
    "                                       \"Fueling stations\",\n",
    "                                       \"Number of Trucks\"])\n",
    "    dfResults.columns=[\"Scenario Results\"]\n",
    "    #%%\n",
    "    from openpyxl import load_workbook\n",
    "    pathHSC=\"H2MobilityResults/HSCTest.xlsx\"\n",
    "    book = load_workbook(pathHSC)\n",
    "    \n",
    "    sheetName=hscName[\"Transmission\"]+\"_\"+hscName[\"Distribution\"]+\"_\"  +\"%.0f\" %(targetCars*1e-6)\n",
    "    if sheetName in book.sheetnames:\n",
    "        std=book.get_sheet_by_name(sheetName)\n",
    "        book.remove_sheet(std)\n",
    "    writer=pd.ExcelWriter(pathHSC, engine = 'openpyxl')\n",
    "    writer.book=book\n",
    "    hscRes.to_excel(writer,\n",
    "                    sheet_name=sheetName)\n",
    "    writer.save()\n",
    "    writer.close()\n",
    "    toc=time.time()\n",
    "    print(str(toc-tic) + \" Sekunden\")\n",
    "    \n",
    "    \n",
    "    #%% Plotting function\n",
    "    print(\"-------------- Plotting --------------\")\n",
    "    tic=time.time()\n",
    "    fig = plt.figure(figsize=figsize)\n",
    "    ax=fig.add_subplot(111)\n",
    "    \n",
    "    ax.set_aspect('equal')\n",
    "    pFun.plot_polygon_collection(ax=ax,\n",
    "                                 geoms=District.geometry,\n",
    "                                 colors_or_values=[bg_area for ix in District.index],\n",
    "                                 plot_values=False,\n",
    "                                 vmin=None,\n",
    "                                 vmax=None,\n",
    "                                 cmap=None,\n",
    "                                 edgecolor=bg_lines,\n",
    "                                 alpha=1)\n",
    "    varPlot=\"diameter\"\n",
    "    \n",
    "    if analysisType==\"pipeline\":\n",
    "        if hscName[\"Distribution\"]==\"Pipeline\":\n",
    "            pFun.plotLines(EdgesFinal[EdgesFinal[\"distribution\"]].geometry, ax=ax, linewidth=1, zorder=4)\n",
    "        else:\n",
    "            EdgesFtoC=gpd.GeoDataFrame(FuelingNew[\"EdgesFtoC\"].values, columns=[\"geometry\"])\n",
    "            pFun.plotLines(EdgesFtoC.geometry, ax=ax, linewidth=0.5, zorder=4)\n",
    "        EdgesT=EdgesFinal[EdgesFinal[\"distribution\"]==False]\n",
    "        multLineWidth=5\n",
    "        varPlot=\"diameter\"\n",
    "        rangeMax=10\n",
    "        base=1000/rangeMax\n",
    " \n",
    "        for i in range(rangeMax+1):\n",
    "            i_norm=i/rangeMax\n",
    "            if i == 0:\n",
    "                EdgesT[EdgesT[varPlot]<base].plot(ax=ax, linewidth=multLineWidth/rangeMax, color=(i_norm, 0, 0), alpha = 1)\n",
    "            elif i<rangeMax:\n",
    "                EdgesT[EdgesT[varPlot].between(base*i, base*(i+1))].plot(ax=ax, linewidth=multLineWidth*i_norm, color=(i_norm, 0, 0), alpha = 1)#(1, 1-i_norm, 1-i_norm)\n",
    "            else:\n",
    "                EdgesT[EdgesT[varPlot]>i*base].plot(ax=ax, linewidth=multLineWidth*(i_norm), color=(i_norm, 0, 0), alpha = 1)\n",
    "        for i in range(rangeMax+1):\n",
    "            i_norm=i/rangeMax\n",
    "            if i == 0:\n",
    "                pFun.plotLines(EdgesT[EdgesT[varPlot]<base].geometry,\n",
    "                              ax=ax,\n",
    "                              linewidth=multLineWidth/rangeMax,\n",
    "                              color=(i_norm, 0, 0),\n",
    "                              alpha = 1,\n",
    "                              zorder=3)\n",
    "            elif i<rangeMax:\n",
    "                pFun.plotLines(EdgesT[EdgesT[varPlot].between(base*i, base*(i+1))].geometry,\n",
    "                              ax=ax,\n",
    "                              linewidth=multLineWidth*i_norm,\n",
    "                              color=(i_norm, 0, 0),\n",
    "                              alpha = 1,\n",
    "                              zorder=3)#(1, 1-i_norm, 1-i_norm)\n",
    "            else:\n",
    "                 pFun.plotLines(EdgesT[EdgesT[varPlot]>i*base].geometry,\n",
    "                               ax=ax,\n",
    "                               linewidth=multLineWidth*(i_norm),\n",
    "                               color=(i_norm, 0, 0),\n",
    "                               alpha = 1,\n",
    "                               zorder=3)\n",
    "    \n",
    "    \n",
    "    if analysisType==\"truck\":\n",
    "        pFun.plotLines(EdgesFinal[EdgesFinal[\"distribution\"]].geometry, ax=ax, linewidth=0.5, color=(0, 0, 0), alpha = 1)\n",
    "        \n",
    "    plt.title(hscName[\"Storage\"] + \" \" + hscName[\"Distribution\"] + \" for \" + \"%.f\" %(targetCars*1e-6) + \" million vehicles\", fontsize=18) \n",
    "    if analysisType==\"pipeline\":\n",
    "        Centroid[Centroid[\"H2Demand_kt\"]>0].plot(ax=ax, marker=\"^\", markersize=5, color=\"yellow\")#, column=\"ID_S\")   \n",
    "    elif analysisType==\"truck\":\n",
    "        FuelingNew.plot(ax=ax, marker=\".\", markersize=1, color=\"yellow\")\n",
    "    Source[Source[\"H2Production_kt\"]>1e-6].plot(ax=ax, marker=\"D\", markersize=10, color=\"red\")#, column = \"ID_S\")\n",
    "    \n",
    "    ax.axis(\"off\")\n",
    "    \n",
    "    savePath=\"H2MobilityResults/Plots/\" + hscName[\"Storage\"]+\"_\"+hscName[\"Transmission\"]+\"_\"+hscName[\"Distribution\"]+\"_\" +\"%.0f\" %(targetCars*1e-6) + \".png\"\n",
    "\n",
    "    fig.savefig(savePath,\n",
    "                dpi=300,\n",
    "                edgecolor=None,\n",
    "                facecolor=\"white\",\n",
    "                frameon=False,\n",
    "                transparent = True)\n",
    "#    plt.tight_layout()\n",
    "    plt.show()\n",
    "    \n",
    "    ##%%\n",
    "    toc=time.time()\n",
    "    print(str(toc-tic)+\" Seconds\\n\")   \n",
    "toctoc=time.time()\n",
    "print(\"total Time: \" + str(toctoc-tictic) + \" Sekunden\")"
   ]
  },
  {
   "cell_type": "code",
   "execution_count": null,
   "metadata": {
    "collapsed": false
   },
   "outputs": [],
   "source": [
    "pathShp=os.getcwd() + \"\\\\H2MobilityResults\\\\\"\n",
    "EdgesFinal=EdgesFinal[EdgesFinal[\"distance\"]>0]\n",
    "EdgesFinal.crs=crs\n",
    "EdgesT=EdgesFinal[EdgesFinal[\"distribution\"]==False].copy()\n",
    "#Source.to_file(pathShp+'Source1mio.shp')\n",
    "#EdgesT.ix[:,[\"geometry\", \"diameter\"]].to_file(pathShp+'TransmissionMinSpanTree.shp')\n",
    "#EdgesFinal[EdgesFinal[\"distribution\"]].ix[:,[\"geometry\", \"capacity\"]].to_file(pathShp+'Distribution.shp')\n",
    "#FuelingNew.ix[:,[\"geometry\", \"H2Demand_kg_d_F\"]].to_file(pathShp+'Fuelingstations1mio.shp')"
   ]
  },
  {
   "cell_type": "code",
   "execution_count": null,
   "metadata": {
    "collapsed": false,
    "scrolled": true
   },
   "outputs": [],
   "source": [
    "#hscRes.to_excel(\"20mioMinSpanTree.xlsx\")"
   ]
  },
  {
   "cell_type": "code",
   "execution_count": null,
   "metadata": {
    "collapsed": false,
    "scrolled": true
   },
   "outputs": [],
   "source": [
    "#EdgesT[\"pressureLosses\"]=0.6/250*EdgesT[\"weightedDistance\"]*EdgesT[\"capacity\"]*1e6"
   ]
  },
  {
   "cell_type": "code",
   "execution_count": null,
   "metadata": {
    "collapsed": false
   },
   "outputs": [],
   "source": [
    "#sum(EdgesT[\"pressureLosses\"])/(totalH2Demand*1e6)"
   ]
  },
  {
   "cell_type": "code",
   "execution_count": null,
   "metadata": {
    "collapsed": false
   },
   "outputs": [],
   "source": [
    "#sum(EdgesT.weightedDistance)"
   ]
  },
  {
   "cell_type": "code",
   "execution_count": 19,
   "metadata": {
    "collapsed": false
   },
   "outputs": [
    {
     "ename": "NameError",
     "evalue": "name 'hscRes' is not defined",
     "output_type": "error",
     "traceback": [
      "\u001b[0;31m---------------------------------------------------------------------------\u001b[0m",
      "\u001b[0;31mNameError\u001b[0m                                 Traceback (most recent call last)",
      "\u001b[0;32m<ipython-input-19-25fd44d304b8>\u001b[0m in \u001b[0;36m<module>\u001b[0;34m()\u001b[0m\n\u001b[0;32m----> 1\u001b[0;31m \u001b[0mhscRes\u001b[0m\u001b[1;33m\u001b[0m\u001b[0m\n\u001b[0m",
      "\u001b[0;31mNameError\u001b[0m: name 'hscRes' is not defined"
     ]
    }
   ],
   "source": [
    "hscRes"
   ]
  },
  {
   "cell_type": "code",
   "execution_count": null,
   "metadata": {
    "collapsed": true
   },
   "outputs": [],
   "source": []
  },
  {
   "cell_type": "code",
   "execution_count": null,
   "metadata": {
    "collapsed": true
   },
   "outputs": [],
   "source": []
  },
  {
   "cell_type": "code",
   "execution_count": null,
   "metadata": {
    "collapsed": true
   },
   "outputs": [],
   "source": []
  },
  {
   "cell_type": "code",
   "execution_count": null,
   "metadata": {
    "collapsed": true
   },
   "outputs": [],
   "source": []
  },
  {
   "cell_type": "code",
   "execution_count": null,
   "metadata": {
    "collapsed": true
   },
   "outputs": [],
   "source": []
  }
 ],
 "metadata": {
  "anaconda-cloud": {},
  "kernelspec": {
   "display_name": "Python [conda root]",
   "language": "python",
   "name": "conda-root-py"
  },
  "language_info": {
   "codemirror_mode": {
    "name": "ipython",
    "version": 3
   },
   "file_extension": ".py",
   "mimetype": "text/x-python",
   "name": "python",
   "nbconvert_exporter": "python",
   "pygments_lexer": "ipython3",
   "version": "3.4.5"
  }
 },
 "nbformat": 4,
 "nbformat_minor": 1
}
