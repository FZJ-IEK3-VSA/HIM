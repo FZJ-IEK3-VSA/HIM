{
 "cells": [
  {
   "cell_type": "markdown",
   "metadata": {},
   "source": [
    "# Hydrogen Infrastructure Modeling  (for H2 Mobility Study)"
   ]
  },
  {
   "cell_type": "markdown",
   "metadata": {},
   "source": [
    "## Frame assumptions (Scenario for infrastructure design) and hard coded inputs"
   ]
  },
  {
   "cell_type": "markdown",
   "metadata": {},
   "source": [
    "For the study, we considered 3 scenarios: 400, 1000 and 7000 fueling stations for 100,000 , 1 million and 20 million FCEV. In general, the calculation for truck or pipeline transportation is different and therefore is has to be selected before."
   ]
  },
  {
   "cell_type": "code",
   "execution_count": 1,
   "metadata": {
    "collapsed": false
   },
   "outputs": [],
   "source": [
    "analysisType=\"pipeline\"#truck or pipeline\n",
    "penetration=0.75\n",
    "scenario=2\n",
    "specificDemand=0.007#kg/km\n",
    "mileage=14000\n",
    "maxDistPrioFS=25#km\n",
    "\n",
    "priceSMR=2."
   ]
  },
  {
   "cell_type": "markdown",
   "metadata": {},
   "source": [
    "## Frame assumptions (pathways for techno-economic analysis)"
   ]
  },
  {
   "cell_type": "code",
   "execution_count": 2,
   "metadata": {
    "collapsed": true
   },
   "outputs": [],
   "source": [
    "if analysisType==\"pipeline\":\n",
    "    hscPathways=[[\"Electrolyzer\",\"Compressor\", \"GH2-Cavern\",\"Compressor\",\"Pipeline\",\"Compressor\",\"GH2-Truck\",\"Gstation\"]]\n",
    "                #[\"Electrolyzer\",\"Compressor\", \"GH2-Cavern\",\"Compressor\",\"Pipeline\",\"None\",\"Pipeline\",\"PipeStation\"],\n",
    "                #[\"Electrolyzer\",\"Compressor\", \"GH2-Cavern\",\"Compressor\",\"Pipeline\",\"Compressor\",\"GH2-Truck\",\"Gstation\"]]\n",
    "elif analysisType==\"truck\":\n",
    "    hscPathways=[[\"Electrolyzer\",\"Compressor\", \"GH2-Cavern\",\"Compressor\",\"None\",\"None\",\"GH2-Truck\",\"Gstation\"]]\n",
    "                 #[\"Electrolyzer\",\"Compressor\", \"GH2-Cavern\",\"Liquefaction\",\"None\",\"None\",\"LH2-Truck\",\"LStation\"],\n",
    "                 #[\"Electrolyzer\",\"Compressor\", \"GH2-Cavern\",\"Hydrogenation\",\"None\",\"None\",\"LOHC-Truck\",\"LohcStationNG\"]]"
   ]
  },
  {
   "cell_type": "markdown",
   "metadata": {},
   "source": [
    "## Plotting boundaries"
   ]
  },
  {
   "cell_type": "code",
   "execution_count": 3,
   "metadata": {
    "collapsed": true
   },
   "outputs": [],
   "source": [
    "bg_area=(87/255, 133/255, 147/255)\n",
    "bg_lines=(99/255, 150/255, 167/255)\n",
    "figsize=(9,11)"
   ]
  },
  {
   "cell_type": "markdown",
   "metadata": {},
   "source": [
    "##  Import relevant modules"
   ]
  },
  {
   "cell_type": "code",
   "execution_count": 4,
   "metadata": {
    "collapsed": false
   },
   "outputs": [],
   "source": [
    "\n",
    "import geopandas as gpd\n",
    "import os\n",
    "import networkx as nx\n",
    "import matplotlib.pyplot as plt\n",
    "import pandas as pd\n",
    "import time\n",
    "import numpy as np\n",
    "from shapely.geometry import Point, LineString\n",
    "#import processing as prc\n",
    "from hyInfraGisSupport import data_handling as sFun\n",
    "from hyInfraGisSupport import optiSetup as optiFun\n",
    "from hyInfraGisSupport import hsc_classes as hscFun\n",
    "from hyInfraGisSupport import plotFunctions as pFun\n",
    "from matplotlib import gridspec\n",
    "tictic=time.time()\n",
    "\n",
    "try:\n",
    "    from shapely import speedups\n",
    "    speedups.enable()\n",
    "except:\n",
    "    print(\"speedups not available\")"
   ]
  },
  {
   "cell_type": "markdown",
   "metadata": {},
   "source": [
    "## Import Georeference Data"
   ]
  },
  {
   "cell_type": "markdown",
   "metadata": {},
   "source": [
    "### Where to get everything? --> Paths for input data"
   ]
  },
  {
   "cell_type": "code",
   "execution_count": null,
   "metadata": {
    "collapsed": false
   },
   "outputs": [
    {
     "name": "stdout",
     "output_type": "stream",
     "text": [
      "1.5911898612976074 Seconds\n"
     ]
    }
   ],
   "source": [
    "tic=time.time()\n",
    "crs={'ellps': 'GRS80', 'no_defs': True, 'proj': 'utm', 'units': 'm', 'zone': 32}\n",
    "\n",
    "\n",
    "#%%\n",
    "path=os.getcwd() + \"\\\\dataH2Mobility\\\\\"\n",
    "pathFS = path + \"101201_Tankstellen_Einteilung_LK_Koords\\\\101201_Tankstellen_Einteilung_v2_koords_kompakt.shp\"\n",
    "pathCent = path + \"Counties.xlsx\"\n",
    "#pathCentCoords = path + \"Counties.xlsx\"\n",
    "\n",
    "pathFSdata= path + \"101201Tankstellen_v2.csv\"\n",
    "pathSource = path + \"H2MobilitySources.xlsx\"\n",
    "pathDemand = path + \"H2Demand.csv\"\n",
    "pathDist= path + \"Landkreise_vg250_ETRS89_UTM32N.shp\"\n",
    "pathConversion=path+\"UmrechnungFabianMartin.xlsx\"\n",
    "#%%\n",
    "# Read Parameter from Excel File\n",
    "dfTable = pd.read_excel(path + \"ImportTablesTechnologies.xlsx\", sheetname=None)\n",
    "stationScenario=\"Station\"+str(scenario)+\"_lr6\"\n",
    "dfTable[\"Station\"]=dfTable[stationScenario]\n",
    "fabDM=True\n",
    "District = sFun.import_shp(pathDist, crs=crs, name= \"D\")\n",
    "if analysisType==\"pipeline\":\n",
    "    pathGasP = path + \"\\\\Netze\\\\110107_Koords_Punkte_auf_Gasnetz_1km\\\\110107_Koords_Punkte_auf_Gasnetz_1km.shp\"\n",
    "    NGGridPoint = sFun.import_shp(pathGasP, crs=crs, name=\"G\")\n",
    "\n",
    "toc=time.time()\n",
    "print(str(toc-tic)+\" Seconds\")"
   ]
  },
  {
   "cell_type": "markdown",
   "metadata": {},
   "source": [
    "### Import and manipulate Source, Centroid and other stuff (a lot of single manipulation needed due to different data formats as input!)"
   ]
  },
  {
   "cell_type": "code",
   "execution_count": null,
   "metadata": {
    "collapsed": false
   },
   "outputs": [],
   "source": []
  },
  {
   "cell_type": "code",
   "execution_count": null,
   "metadata": {
    "collapsed": false
   },
   "outputs": [],
   "source": [
    "tic=time.time()\n",
    "#%%\n",
    "Source=pd.read_excel(pathSource, sheetname=\"Martin\")\n",
    "Source=gpd.GeoDataFrame(Source)\n",
    "Source.geometry=[Point((Source.loc[ix,\"LON\"], Source.loc[ix, \"LAT\"]))for ix in Source.index]\n",
    "Source.crs={'init' :'epsg:4326'}\n",
    "Source=Source.to_crs({'init' :'epsg:7416'})\n",
    "Source[\"intIndex\"]=Source.index\n",
    "Source.index=[\"S\"+str(id1) for id1 in Source[\"intIndex\"].values]\n",
    "Source[\"ID\"]=Source.index\n",
    "#%%\n",
    "Centroid=pd.read_excel(pathCent)\n",
    "Centroid=gpd.GeoDataFrame(Centroid)\n",
    "Centroid.geometry=[Point((Centroid.loc[ix,\"lkXKoor\"], Centroid.loc[ix, \"lkYKoor\"]))for ix in Centroid.index]\n",
    "Centroid.crs={'init' :'epsg:7416'}\n",
    "Centroid.index=Centroid[\"lkSchluessel\"].values\n",
    "Centroid[\"ID_KRS_BKG\"]=Centroid[\"lkSchluessel\"].values\n",
    "#%%\n",
    "ConvFabMart=pd.read_excel(pathConversion)\n",
    "ConvFabMart.index=[int(val) for val in ConvFabMart[\"old\"]]\n",
    "ConvFabMart[\"newID\"]=[int(val) for val in ConvFabMart[\"new\"]]\n",
    "#%%\n",
    "Fueling = sFun.import_shp(pathFS, crs=crs, name=\"F\")\n",
    "FuelingData = pd.read_csv(pathFSdata, delimiter=\"@\")\n",
    "FuelingData.index=Fueling.index\n",
    "#%% Copy Fueling Data to Fueling GeoDataFrame\n",
    "Fueling=Fueling.join(FuelingData, rsuffix=\"-\")\n",
    "#%%\n",
    "#Centroid[\"H2Demand_kt\"]=(Centroid[\"lkPKWBenzin\"]+Centroid[\"lkPKWDiesel\"])*penetration*mileage*specificDemand*1e-6\n",
    "Centroid[\"H2Demand_kt\"]=Centroid[\"Martin\"]/1000\n",
    "Centroid[\"intIndex\"]=list(range(len(Centroid.index)))\n",
    "Centroid[\"INDEX\"]=Centroid[\"intIndex\"].values\n",
    "Centroid.index=[\"C\"+str(id1) for id1 in Centroid[\"intIndex\"].values]\n",
    "Centroid[\"ID\"]=Centroid.index\n",
    "#%% H2 Demand\n",
    "totalH2Demand=sum(Centroid[\"H2Demand_kt\"])\n",
    "print(\"Total hydrogen demand: \"+ str(totalH2Demand))\n",
    "#%% Distribution Grid\n",
    "toc=time.time()\n",
    "print(str(toc-tic)+\" Seconds\\n\")"
   ]
  },
  {
   "cell_type": "code",
   "execution_count": null,
   "metadata": {
    "collapsed": false
   },
   "outputs": [],
   "source": [
    "Centroid[\"Martin\"].sum()"
   ]
  },
  {
   "cell_type": "markdown",
   "metadata": {},
   "source": [
    "## Importing fueling stations"
   ]
  },
  {
   "cell_type": "code",
   "execution_count": null,
   "metadata": {
    "collapsed": false
   },
   "outputs": [],
   "source": [
    "% matplotlib inline"
   ]
  },
  {
   "cell_type": "code",
   "execution_count": null,
   "metadata": {
    "collapsed": false
   },
   "outputs": [],
   "source": []
  },
  {
   "cell_type": "markdown",
   "metadata": {
    "collapsed": false
   },
   "source": [
    "fig = plt.figure(figsize=figsize)\n",
    "ax=fig.add_subplot(111)\n",
    "\n",
    "District[\"color\"]=[bg_area for ix in District.index]\n",
    "\n",
    "plot_polygon_collection(ax=ax,\n",
    "                        geoms=District.geometry,\n",
    "                        colors_or_values=District[\"color\"],\n",
    "                        plot_values=False,\n",
    "                        vmin=None,\n",
    "                        vmax=None,\n",
    "                        cmap=None,\n",
    "                        edgecolor=bg_lines,\n",
    "                        alpha=1)"
   ]
  },
  {
   "cell_type": "markdown",
   "metadata": {},
   "source": [
    "### Import of fueling data + demand calculation"
   ]
  },
  {
   "cell_type": "code",
   "execution_count": null,
   "metadata": {
    "collapsed": false
   },
   "outputs": [],
   "source": [
    "tic=time.time()\n",
    "ConvFabMart=pd.read_excel(pathConversion)\n",
    "ConvFabMart.index=[int(val) for val in ConvFabMart[\"old\"]]\n",
    "ConvFabMart[\"newID\"]=[int(val) for val in ConvFabMart[\"new\"]]\n",
    "Fueling = sFun.import_shp(pathFS, crs=crs, name=\"F\")\n",
    "FuelingData = pd.read_csv(pathFSdata, delimiter=\"@\")\n",
    "FuelingData.index=Fueling.index\n",
    "#%% Copy Fueling Data to Fueling GeoDataFrame\n",
    "Fueling=Fueling.join(FuelingData, rsuffix=\"-\")\n",
    "toc=time.time()\n",
    "print(str(toc-tic)+\" Seconds 2\\n\")\n",
    "#%% Fine\n",
    "Fueling.loc[Fueling[\"ABST_2BAHN\"]<=maxDistPrioFS,\"BAB\"] = 1\n",
    "Fueling[\"ID_KRS_BKG\"]=ConvFabMart.loc[Fueling[\"ID_KRS_BKG\"]][\"new\"].values\n",
    "Centroid.index=Centroid[\"ID_KRS_BKG\"]\n",
    "Fueling[\"ID_C\"]=Centroid.ix[Fueling[\"ID_KRS_BKG\"]][\"ID\"].values\n",
    "Centroid.index=Centroid[\"ID\"]\n",
    "#%% Add the distance to the Centroid in km\n",
    "Fueling[\"CentC\"]=Centroid.ix[Fueling[\"ID_C\"]].geometry.values\n",
    "Fueling[\"CoordsFtoC\"]=list(zip(Fueling.geometry, Fueling[\"CentC\"]))\n",
    "Fueling[\"EdgesFtoC\"]=[LineString(ix) for ix in Fueling[\"CoordsFtoC\"]]\n",
    "EdgesFtoC=gpd.GeoDataFrame(Fueling[\"EdgesFtoC\"].values, columns=[\"geometry\"], index=Fueling.index)\n",
    "Fueling[\"distToC\"]=EdgesFtoC.length/1000\n",
    "#%%\n",
    "Source[\"H2ProdCap_kt\"]=Source[\"ProdMax_t\"]/1000\n",
    "Source.loc[Source[\"H2ProdCap_kt\"]>totalH2Demand, \"H2ProdCap_kt\"]=totalH2Demand"
   ]
  },
  {
   "cell_type": "markdown",
   "metadata": {},
   "source": [
    "## Calculate minimum numbers of fueling stations"
   ]
  },
  {
   "cell_type": "markdown",
   "metadata": {},
   "source": [
    "Minimum number of fueling stations calculated by demand"
   ]
  },
  {
   "cell_type": "code",
   "execution_count": null,
   "metadata": {
    "collapsed": false
   },
   "outputs": [],
   "source": [
    "tic=time.time()\n",
    "targetFS=9968\n",
    "fuelingMax_kt_a=totalH2Demand/targetFS\n",
    "fuelingMax_kg_d=fuelingMax_kt_a*1e6/365\n",
    "#Centroid[\"minFS\"]=[round(Centroid[\"H2Demand_kt\"][ix]/fuelingMax_kt_a+0.5) for ix in Centroid.index]\n",
    "Centroid[\"minFS\"]=[round(Centroid[\"H2Demand_kt\"][ix]/fuelingMax_kt_a) for ix in Centroid.index]\n",
    "Centroid[\"realFS\"]=[len(Fueling[Fueling[\"ID_C\"]==ix]) for ix in Centroid.index]\n",
    "Centroid[\"highwayFS\"]=[sum(Fueling[Fueling[\"ID_C\"]==ix][\"BAB\"]) for ix in Centroid.index]\n",
    "#%%\n",
    "lowFS=Centroid[Centroid[\"minFS\"]>Centroid[\"realFS\"]].index\n",
    "Centroid.loc[lowFS,\"minFS\"] = Centroid[\"realFS\"][lowFS].values\n",
    "#%%\n",
    "Centroid[\"H2Demand_kt_F\"]= Centroid[\"H2Demand_kt\"]/Centroid[\"minFS\"]\n",
    "Centroid.loc[Centroid[\"minFS\"]==0,\"H2Demand_kt_F\"]=0\n",
    "toc=time.time()\n",
    "print(str(toc-tic)+\" Seconds\\n\")"
   ]
  },
  {
   "cell_type": "markdown",
   "metadata": {},
   "source": [
    "## Sorting fueling stations"
   ]
  },
  {
   "cell_type": "markdown",
   "metadata": {},
   "source": [
    "Sorting by BAB (Highway fueling stations) --> Area (urban or rural) --> ID (order of appearance)"
   ]
  },
  {
   "cell_type": "code",
   "execution_count": null,
   "metadata": {
    "collapsed": false
   },
   "outputs": [],
   "source": [
    "tic=time.time()\n",
    "# ## Sort by highway fueling stations (1st order) and city level (2nd order)\n",
    "FuelingSorted=Fueling.sort_values(by=[\"BAB\",\"GEBIET\",\"ID_TS\"],ascending=[False,False, True])\n",
    "print(str(sum(Centroid[\"minFS\"])) + \" Tankstellen, davon \" + str(sum(Centroid[\"highwayFS\"])) + \" Autobahntankstellen\")\n",
    "#%%\n",
    "### city level weight factors ###\n",
    "weightFtoF=pd.Series([1., 1.25, 1.25, 1.5, 1.5, 1.5, 1.75, 1.75, 2.],\n",
    "                     index=[\"1to1\",\"1to2\",\"2to1\",\"2to2\",\"1to3\",\"3to1\",\"2to3\",\"3to2\",\"3to3\"])"
   ]
  },
  {
   "cell_type": "markdown",
   "metadata": {},
   "source": [
    "final fueling stations are not directly the number of target fueling stations --> Rounding of decimals!"
   ]
  },
  {
   "cell_type": "markdown",
   "metadata": {},
   "source": [
    "## Prepare Distance Matrices"
   ]
  },
  {
   "cell_type": "markdown",
   "metadata": {},
   "source": [
    "For pipeline: different matrices necessary --> potential network + weight factor!"
   ]
  },
  {
   "cell_type": "code",
   "execution_count": null,
   "metadata": {
    "collapsed": false
   },
   "outputs": [],
   "source": [
    "tic=time.time()\n",
    "#Nearest Neighbours\n",
    "kNN=10\n",
    "#Prepare coordinates\n",
    "if analysisType==\"pipeline\":\n",
    "    Coords=Centroid.geometry.append(Source.geometry).append(NGGridPoint.geometry).append(Fueling.geometry)\n",
    "elif analysisType==\"truck\":\n",
    "    Coords=Source.geometry.append(Fueling.geometry)\n",
    "CoordsTotal=pd.DataFrame(Coords,index=Coords.index.values)\n",
    "CoordsTotal[\"coordinates\"]=pd.Series(sFun.point_array(Coords), index=Coords.index)\n",
    "#%%\n",
    "# Calculation distance Matrices\n",
    "if analysisType==\"pipeline\":\n",
    "    # Weight factors\n",
    "    weightStoG=1.5\n",
    "    weightCtoC=1.5\n",
    "    weightStoC=1.5\n",
    "    weightCtoG=1.5\n",
    "    weightGtoG=1.\n",
    "    weightStoS=100.\n",
    "    #distance Matrices\n",
    "    distCtoC=sFun.selfDistMatrix(Centroid, weight=weightCtoC, kNN=20)\n",
    "    distGtoG=sFun.selfDistMatrix(NGGridPoint, weight=weightGtoG, kNN=10)\n",
    "    distCtoG=sFun.distMatrix(Centroid, NGGridPoint, weight=weightCtoG, kNN=20)\n",
    "    distStoG=sFun.distMatrix(Source, NGGridPoint, weight=weightStoG, kNN=20)\n",
    "    distStoC=sFun.distMatrix(Source, Centroid, weight=weightStoC, kNN=20)\n",
    "    distStoS=sFun.selfDistMatrix(Source, weight=weightStoS, kNN=kNN)\n",
    "    distFtoF=gpd.GeoDataFrame(columns=distCtoC.columns)\n",
    "    distTotal=distCtoC.append(distGtoG).append(distCtoG).append(distStoG)#.append(distStoC).append(distStoS)\n",
    "toc=time.time()\n",
    "print(str(toc-tic)+\" Seconds\\n\")\n",
    "#%%"
   ]
  },
  {
   "cell_type": "markdown",
   "metadata": {},
   "source": [
    "## Selecting fueling stations"
   ]
  },
  {
   "cell_type": "markdown",
   "metadata": {},
   "source": [
    "The actual selection of fueling stations is working like such: It's searching for each centroid (county) for its minimum number of fueling stations and adds this number of fueling stations. Within this calculation, the algorithm directly creates the distance matrix between the fueling stations inside a county. (open for functionality imporovements)"
   ]
  },
  {
   "cell_type": "code",
   "execution_count": null,
   "metadata": {
    "collapsed": false
   },
   "outputs": [],
   "source": [
    "FuelingNew=gpd.GeoDataFrame(columns=Fueling.columns)\n",
    "tic=time.time()\n",
    "listInID=[]\n",
    "listTarID=[]\n",
    "listDistance=[]\n",
    "listFull=[]\n",
    "\n",
    "FuelingSorted[\"coords\"]=sFun.point_array(FuelingSorted)\n",
    "for ix in Centroid.index:\n",
    "    if Centroid[\"minFS\"][ix]==0:\n",
    "        continue\n",
    "    listF=list(FuelingSorted[FuelingSorted[\"ID_C\"]==ix].head(int(Centroid[\"minFS\"][ix]))[\"ID\"])\n",
    "    listCoords=list(FuelingSorted[FuelingSorted[\"ID_C\"]==ix].head(int(Centroid[\"minFS\"][ix]))[\"coords\"])\n",
    "    listFull.extend(listF)\n",
    "#    FuelingNew=FuelingNew.append(dfNew)\n",
    "    if analysisType==\"pipeline\":\n",
    "    #        Distance Matrix inside a Centroid for getting the Minimum Spanning Tree\n",
    "    #        distFtoFperC=sFun.selfDistMatrixFueling(dfNew, weightFtoF)\n",
    "        (inID, outID, distance) = sFun.selfDistMatrixFueling(listF, listCoords)\n",
    "        listInID.extend(inID)\n",
    "        listTarID.extend(outID)\n",
    "        listDistance.extend(distance)\n",
    "FuelingNew=Fueling.ix[listFull]\n",
    "if analysisType==\"pipeline\":\n",
    "    distFtoF=pd.DataFrame([listInID,\n",
    "                           listTarID,\n",
    "                           listDistance],\n",
    "                          index=[\"inputID\",\n",
    "                                 \"targetID\",                              \n",
    "                                 \"distance\"]).T\n",
    "    distFtoF=distFtoF[distFtoF.inputID != distFtoF.targetID]\n",
    "    distFtoF[\"inputArea\"]=FuelingNew.loc[distFtoF[\"inputID\"].values,\"GEBIET\"].values\n",
    "    distFtoF[\"targetArea\"]=FuelingNew.loc[distFtoF[\"targetID\"].values,\"GEBIET\"].values\n",
    "    distFtoF[\"weightID\"]=[str(distFtoF[\"inputArea\"][ix])+\"to\"+str(distFtoF[\"targetArea\"][ix]) for ix in distFtoF.index]\n",
    "    distFtoF[\"weightedDistance\"]=weightFtoF[distFtoF[\"weightID\"]].values*distFtoF[\"distance\"]\n",
    "toc=time.time()\n",
    "print(str(toc-tic)+\" Seconds\\n\")"
   ]
  },
  {
   "cell_type": "code",
   "execution_count": null,
   "metadata": {
    "collapsed": false
   },
   "outputs": [],
   "source": [
    "Centroid.H2Demand_kt.sum()"
   ]
  },
  {
   "cell_type": "markdown",
   "metadata": {},
   "source": [
    "## Manipulating the new stations and the final informations for the network approach"
   ]
  },
  {
   "cell_type": "code",
   "execution_count": null,
   "metadata": {
    "collapsed": false
   },
   "outputs": [],
   "source": [
    "tic=time.time()\n",
    "\n",
    "FuelingNew[\"intIndex\"]=FuelingNew[\"intIndex\"].values.astype(int)\n",
    "FuelingNew.intIndex=[x for x, item in enumerate(FuelingNew.index)]\n",
    "weightStreetSimple=1.3\n",
    "if analysisType==\"truck\":\n",
    "    distFtoS=sFun.distMatrix(FuelingNew, Source, weight=weightStreetSimple, kNN=len(Source.geometry))\n",
    "    distTotal=distFtoS\n",
    "#elif analysisType==\"pipeline\":\n",
    "#    distTotal=distTotal.append(distFtoF)\n",
    "#%%\n",
    "FuelingNew[\"areaID\"]=[str(int(FuelingNew[\"GEBIET\"][ix]))+\"to1\" for ix in FuelingNew.index]\n",
    "FuelingNew[\"weightedLength\"]=[weightFtoF[FuelingNew[\"areaID\"][ix]]*FuelingNew[\"distToC\"][ix] for ix in FuelingNew.index]\n",
    "FuelingNew[\"H2Demand_kt_F\"]=[Centroid.loc[ID_C, \"H2Demand_kt_F\"] for ID_C in FuelingNew[\"ID_C\"]]\n",
    "FuelingNew[\"H2Demand_kg_d_F\"]=FuelingNew[\"H2Demand_kt_F\"]*1e6/365\n",
    "\n",
    "toc=time.time()\n",
    "print(str(toc-tic)+\" Seconds\\n\")"
   ]
  },
  {
   "cell_type": "code",
   "execution_count": null,
   "metadata": {
    "collapsed": false
   },
   "outputs": [],
   "source": [
    "from scipy import reshape, sqrt, identity"
   ]
  },
  {
   "cell_type": "code",
   "execution_count": null,
   "metadata": {
    "collapsed": false
   },
   "outputs": [],
   "source": [
    "distCtoS=sFun.distMatrix(Centroid, Source, kNN=len(Source))\n",
    "distCtoS[\"H2Demand\"]=(reshape(Centroid[\"H2Demand_kt\"].values, (len(Centroid[\"H2Demand_kt\"]),1))*np.ones((1,len(sFun.point_array(Source))))).ravel()\n",
    "distCtoS_sorted=distCtoS.sort_values(by=[\"distance\"],ascending=True)\n",
    "distCtoS_sorted=distCtoS_sorted.reset_index(drop=True)"
   ]
  },
  {
   "cell_type": "code",
   "execution_count": null,
   "metadata": {
    "collapsed": false
   },
   "outputs": [],
   "source": [
    "Source[\"H2Production\"]=np.zeros(len(Source))\n",
    "SProd=pd.DataFrame([np.zeros(len(Source)), Source.H2ProdCap_kt.values]).T#,columns=[H2Prod])\n",
    "SProd.columns=[\"H2Prod\", \"H2ProdMax\"]\n",
    "SProd.index=Source.index.values"
   ]
  },
  {
   "cell_type": "code",
   "execution_count": null,
   "metadata": {
    "collapsed": false
   },
   "outputs": [],
   "source": [
    "for i in distCtoS_sorted.index:\n",
    "    row=distCtoS_sorted.ix[i]\n",
    "    if row.H2Demand>0.:\n",
    "        if SProd.H2Prod.ix[row.targetID]+row.H2Demand<SProd.H2ProdMax[row.targetID]:\n",
    "            SProd.H2Prod.ix[row.targetID]=SProd.H2Prod.ix[row.targetID]+row.H2Demand\n",
    "            distCtoS_sorted.loc[distCtoS_sorted.inputID==row.inputID,\"H2Demand\"]=0.\n",
    "            distCtoS_sorted.H2Demand.ix[i]=row.H2Demand"
   ]
  },
  {
   "cell_type": "code",
   "execution_count": null,
   "metadata": {
    "collapsed": true
   },
   "outputs": [],
   "source": [
    "distCtoS_final=distCtoS_sorted.loc[distCtoS_sorted.H2Demand>0.]\n",
    "distCtoS_final=distCtoS_final.reset_index(drop=True)\n",
    "distCtoS_final.index = distCtoS_final['inputID'].values"
   ]
  },
  {
   "cell_type": "code",
   "execution_count": null,
   "metadata": {
    "collapsed": false
   },
   "outputs": [],
   "source": []
  },
  {
   "cell_type": "markdown",
   "metadata": {},
   "source": [
    "## preparing NetworkX for distribution"
   ]
  },
  {
   "cell_type": "markdown",
   "metadata": {},
   "source": [
    "Initializing the graph and adding nodes/edges with empty capacity, maximum production, real production and real demand. Afterwards, we apply the maximum capacity and the demand of the fueling stations to the nodes."
   ]
  },
  {
   "cell_type": "code",
   "execution_count": null,
   "metadata": {
    "collapsed": false
   },
   "outputs": [],
   "source": [
    "tic=time.time()\n",
    "# ## Import to NetworkX for minimum spanning tree\n",
    "G_total=optiFun.PipeNetWork()\n",
    "G_total.add_weighted_edges_from(list(zip(distTotal[\"inputID\"], distTotal[\"targetID\"], distTotal[\"weightedDistance\"])),\n",
    "                                capacity=0, lineCost=0, addCost=0)\n",
    "#if analysisType==\"pipeline\":\n",
    "#    G_total.add_weighted_edges_from(list(zip(FuelingNew.index, FuelingNew.ID_C, FuelingNew.distToC)),\n",
    "#                                    capacity=0, lineCost=0, addCost=0)\n",
    "G_total.add_nodes_from(nodes = G_total.nodes(),\n",
    "                       productionMax = 0,\n",
    "                       production = 0,\n",
    "                       demand = 0)\n",
    "\n",
    "nx.set_node_attributes(G_total, \"productionMax\", Source.H2ProdCap_kt.to_dict())\n",
    "#nx.set_node_attributes(G_total, \"demand\", FuelingNew[\"H2Demand_kt_F\"].to_dict())\n",
    "nx.set_node_attributes(G_total, \"demand\", Centroid[\"H2Demand_kt\"].to_dict())\n",
    "\n",
    "toc=time.time()\n",
    "print(str(toc-tic)+\" Seconds\\n\")\n"
   ]
  },
  {
   "cell_type": "code",
   "execution_count": null,
   "metadata": {
    "collapsed": false,
    "scrolled": true
   },
   "outputs": [],
   "source": []
  },
  {
   "cell_type": "code",
   "execution_count": null,
   "metadata": {
    "collapsed": false
   },
   "outputs": [],
   "source": [
    "Source.H2ProdCap_kt.sum()"
   ]
  },
  {
   "cell_type": "code",
   "execution_count": null,
   "metadata": {
    "collapsed": false
   },
   "outputs": [],
   "source": [
    "len(FuelingNew)"
   ]
  },
  {
   "cell_type": "markdown",
   "metadata": {},
   "source": [
    "Dijkstra"
   ]
  },
  {
   "cell_type": "code",
   "execution_count": null,
   "metadata": {
    "collapsed": false
   },
   "outputs": [],
   "source": [
    "tic=time.time()\n",
    "x=0\n",
    "y=len(distCtoS_final.index)\n",
    "tic=time.time()\n",
    "\n",
    "for inputID in distCtoS_final.index:\n",
    "    f_grid=1\n",
    "    targetID=distCtoS_final.targetID.ix[inputID]\n",
    "    H2Demand=distCtoS_final.H2Demand.ix[inputID]\n",
    "\n",
    "    for key in G_total.edges():\n",
    "        iterEdge=G_total[key[0]][key[1]]\n",
    "        iterEdge[\"addCost\"]=sFun.getSpecCost((iterEdge[\"capacity\"]+H2Demand), f_grid=f_grid, source=\"Krieg\", base=\"diameter\")*1000\\\n",
    "                            *iterEdge['weight']\\\n",
    "                            -iterEdge[\"lineCost\"]\n",
    "        G_total[key[0]][key[1]]=iterEdge\n",
    "\n",
    "    path=nx.shortest_path(G_total, source=inputID, target=targetID, weight= \"addCost\")\n",
    "    lengthP=nx.shortest_path_length(G_total, source=inputID, target=targetID, weight= \"addCost\")\n",
    "    P=nx.Graph()\n",
    "    P.add_path(path, addCost=0)\n",
    "    newEdgesToWeight=nx.get_edge_attributes(P, \"addCost\")\n",
    "\n",
    "    for key1 in P.edges():    \n",
    "        iterEdge=G_total[key1[0]][key1[1]]\n",
    "        iterEdge[\"capacity\"]=iterEdge['capacity']+H2Demand\n",
    "        iterEdge[\"lineCost\"]=sFun.getSpecCost(iterEdge[\"capacity\"], source=\"Krieg\", base=\"diameter\")*1000*iterEdge['weight']\n",
    "        G_total[key1[0]][key1[1]]=iterEdge\n",
    "    \n",
    "    x+=1\n",
    "toc=time.time()\n",
    "print(toc-tic)"
   ]
  },
  {
   "cell_type": "markdown",
   "metadata": {},
   "source": [
    "## Initialize Optimization Problem"
   ]
  },
  {
   "cell_type": "markdown",
   "metadata": {
    "collapsed": false
   },
   "source": [
    "tic=time.time()\n",
    "if analysisType==\"pipeline\":\n",
    "    G_total.initOpti()\n",
    "elif analysisType==\"truck\":\n",
    "    G_total.initOptiTruck()\n",
    "toc=time.time()\n",
    "print(str(toc-tic)+\" Seconds\\n\")"
   ]
  },
  {
   "cell_type": "markdown",
   "metadata": {},
   "source": [
    "## Solve Optimization"
   ]
  },
  {
   "cell_type": "markdown",
   "metadata": {
    "collapsed": false
   },
   "source": [
    "tic=time.time()\n",
    "G_total.optModel()\n",
    "toc=time.time()\n",
    "print(str(toc-tic)+\" Seconds\\n\")"
   ]
  },
  {
   "cell_type": "code",
   "execution_count": null,
   "metadata": {
    "collapsed": false
   },
   "outputs": [],
   "source": [
    "dicEdges=nx.get_edge_attributes(G_total, \"capacity\")\n",
    "dicEdges={k:v for (k,v) in dicEdges.items() if v > 0}\n",
    "EdgesTotal = gpd.GeoDataFrame([(k[0], k[1], v) for (k,v) in dicEdges.items()],\n",
    "                               index=[k for k in dicEdges.keys()],\n",
    "                               columns=[\"inputID\",\"targetID\", \"capacity\"])\n",
    "EdgesTotal.loc[EdgesTotal[\"capacity\"]<20, \"capacity\"]=20\n",
    "LinesIn=CoordsTotal.ix[EdgesTotal[\"inputID\"].values].geometry.values\n",
    "LinesOut=CoordsTotal.ix[EdgesTotal[\"targetID\"].values].geometry.values\n",
    "EdgeCoords=gpd.GeoDataFrame(index=EdgesTotal.index)\n",
    "EdgeCoords[\"inputCoords\"]=LinesIn\n",
    "EdgeCoords[\"outputCoords\"]=LinesOut\n",
    "EdgesTotal[\"geometry\"]=\"\"\n",
    "EdgesTotal[\"distribution\"]=False\n",
    "EdgesTotal.loc[[\"F\" in tup[0] or \"F\" in tup[1] for tup in EdgesTotal.index ], \"distribution\"]=True\n",
    "for key in EdgeCoords.index:\n",
    "    EdgesTotal.loc[key,\"geometry\"]=LineString([EdgeCoords[\"inputCoords\"][key], EdgeCoords[\"outputCoords\"][key]])\n",
    "EdgesTotal[\"diameter\"]=sqrt(sFun.getDiameterSquare(EdgesTotal[\"capacity\"].values))*1000\n",
    "EdgesTotal[\"lineCostSpec\"]=sFun.getSpecCost(EdgesTotal[\"capacity\"], source=\"Krieg\", base=\"diameter\")  \n",
    "edgeLength=nx.get_edge_attributes(G_total, \"weight\")\n",
    "EdgesTotal[\"weightedDistance\"]=[edgeLength[key] for key in dicEdges.keys()]\n",
    "EdgesTotal.loc[EdgesTotal[\"distribution\"]==False,\"weightedDistance\"]=EdgesTotal[EdgesTotal[\"distribution\"]==False].length/1000\n",
    "EdgesTotal[\"distance\"]=EdgesTotal.length.values/1000\n",
    "EdgesTotal[\"lineCost\"]=EdgesTotal[\"lineCostSpec\"]*EdgesTotal[\"weightedDistance\"]*1000"
   ]
  },
  {
   "cell_type": "code",
   "execution_count": null,
   "metadata": {
    "collapsed": false
   },
   "outputs": [],
   "source": []
  },
  {
   "cell_type": "markdown",
   "metadata": {},
   "source": [
    "## Postprocessing"
   ]
  },
  {
   "cell_type": "code",
   "execution_count": null,
   "metadata": {
    "collapsed": false
   },
   "outputs": [],
   "source": [
    "tic=time.time()\n",
    "NodesFinal=SProd.H2Prod\n",
    "EdgesFinal=EdgesTotal\n",
    "#%%\n",
    "Source[\"H2Production_kt\"]=NodesFinal\n",
    "Source[\"H2Production_kg_day\"]=Source[\"H2Production_kt\"]*1e6/365\n",
    "toc=time.time()\n",
    "print(str(toc-tic)+\" Seconds\\n\")\n",
    "targetCars=1"
   ]
  },
  {
   "cell_type": "markdown",
   "metadata": {},
   "source": [
    "# techno-economic analysis (Ugly beautiful solved so far!!!)"
   ]
  },
  {
   "cell_type": "code",
   "execution_count": null,
   "metadata": {
    "collapsed": false
   },
   "outputs": [],
   "source": [
    "for listHSC in hscPathways:\n",
    "    print(\"-------------- Preparing total Analysis --------------\")\n",
    "    tic=time.time()\n",
    "    hscResults=pd.Series()\n",
    "    hscResultsTot=pd.Series()\n",
    "    hscResultsInvest=pd.Series()\n",
    "    hscResultsCAPEX=pd.Series()\n",
    "    hscResultsOPEX=pd.Series()\n",
    "    hscResultsEnergy=pd.DataFrame(index=[\"Loss\", \"electricityRES\", \"electricityGrid\", \"NaturalGas\", \"Diesel\"])\n",
    "    \n",
    "    hscName=pd.Series(listHSC,\n",
    "                      index=[\"Production\",\"Connector1\",\"Storage\",\"Connector2\",\"Transmission\",\"Connector3\",\"Distribution\",\"Fueling\"])\n",
    "    #%%\n",
    "    HSC={}\n",
    "    #%% Production Class\n",
    "    if scenario==2:\n",
    "        HSC[\"Production\"]=hscFun.Production(Source[\"H2Production_kg_day\"], hscName[\"Production\"], dfTable)\n",
    "        Source[\"productionSpecCost\"]=HSC[\"Production\"].getTOTEX()\n",
    "        Source[\"productionInvest\"]=HSC[\"Production\"].getInvest()\n",
    "        hscResults[\"Production\"]=np.sum(Source[\"productionSpecCost\"]*Source[\"H2Production_kg_day\"])/np.sum(Source[\"H2Production_kg_day\"])\n",
    "        hscResultsOPEX[\"Production\"]=np.sum(HSC[\"Production\"].OPEX*Source[\"H2Production_kg_day\"])/np.sum(Source[\"H2Production_kg_day\"])\n",
    "        hscResultsCAPEX[\"Production\"]=np.sum(HSC[\"Production\"].CAPEX*Source[\"H2Production_kg_day\"])/np.sum(Source[\"H2Production_kg_day\"])\n",
    "        hscResultsTot[\"Production\"]=hscResults[\"Production\"]\n",
    "        hscResultsInvest[\"Production\"]=np.sum(Source[\"productionInvest\"])\n",
    "        hscResultsEnergy[\"Production\"]=HSC[\"Production\"].getDemand()\n",
    "        #%% Connector Class\n",
    "        HSC[\"Con1\"]=hscFun.Connector(Source[\"H2Production_kg_day\"], hscName[\"Connector1\"], dfTable, costH2In=Source[\"productionSpecCost\"], pressureIn=30, pressureOut=150)\n",
    "        Source[\"con1SpecCost\"]=HSC[\"Con1\"].getTOTEX()\n",
    "        Source[\"con1Invest\"]=HSC[\"Con1\"].getInvest()\n",
    "        hscResults[\"Connector1\"]=np.sum(Source[\"con1SpecCost\"]*Source[\"H2Production_kg_day\"])/np.sum(Source[\"H2Production_kg_day\"])\n",
    "        hscResultsOPEX[\"Connector1\"]=np.sum(HSC[\"Con1\"].OPEX*Source[\"H2Production_kg_day\"])/np.sum(Source[\"H2Production_kg_day\"])\n",
    "        hscResultsCAPEX[\"Connector1\"]=np.sum(HSC[\"Con1\"].CAPEX*Source[\"H2Production_kg_day\"])/np.sum(Source[\"H2Production_kg_day\"])\n",
    "        hscResultsTot[\"Connector1\"]=hscResultsTot[\"Production\"]+hscResults[\"Connector1\"]\n",
    "        hscResultsInvest[\"Connector1\"]=np.sum(Source[\"con1Invest\"])\n",
    "        hscResultsEnergy[\"Connector1\"]=HSC[\"Con1\"].getDemand()\n",
    "        #%% Storage Class\n",
    "        HSC[\"Storage\"]=hscFun.Storage(Source[\"H2Production_kg_day\"], hscName[\"Storage\"], dfTable, costH2In=Source[\"con1SpecCost\"])\n",
    "        Source[\"storageSpecCost\"]=HSC[\"Storage\"].getTOTEX()\n",
    "        Source[\"storageInvest\"]=HSC[\"Storage\"].getInvest()\n",
    "        hscResults[\"Storage\"]=np.sum(Source[\"storageSpecCost\"]*Source[\"H2Production_kg_day\"])/np.sum(Source[\"H2Production_kg_day\"])\n",
    "        hscResultsOPEX[\"Storage\"]=np.sum(HSC[\"Storage\"].OPEX*Source[\"H2Production_kg_day\"])/np.sum(Source[\"H2Production_kg_day\"])\n",
    "        hscResultsCAPEX[\"Storage\"]=np.sum(HSC[\"Storage\"].CAPEX*Source[\"H2Production_kg_day\"])/np.sum(Source[\"H2Production_kg_day\"])\n",
    "        hscResultsTot[\"Storage\"]=hscResultsTot[\"Connector1\"]+hscResults[\"Storage\"]\n",
    "        hscResultsInvest[\"Storage\"]=np.sum(Source[\"storageInvest\"])\n",
    "        hscResultsEnergy[\"Storage\"]=HSC[\"Storage\"].getDemand()\n",
    "    else:\n",
    "        hscResults[\"Production\"]=hscResultsTot[\"Production\"]=priceSMR\n",
    "        hscResultsOPEX[\"Production\"]=0\n",
    "        hscResultsOPEX[\"Production\"]=0\n",
    "        hscResultsCAPEX[\"Production\"]=0\n",
    "        hscResultsEnergy[\"Production\"]=0\n",
    "        #%% Connector Class\n",
    "        hscResultsTot[\"Connector1\"]=priceSMR\n",
    "        hscResults[\"Connector1\"]=0\n",
    "        hscResultsOPEX[\"Connector1\"]=0\n",
    "        hscResultsOPEX[\"Connector1\"]=0\n",
    "        hscResultsCAPEX[\"Connector1\"]=0\n",
    "        hscResults[\"Connector1\"]=0\n",
    "        hscResultsEnergy[\"Connector1\"]=0\n",
    "        #%% Storage Class\n",
    "        hscResultsTot[\"Storage\"]=priceSMR\n",
    "        hscResults[\"Storage\"]=0\n",
    "        hscResultsOPEX[\"Storage\"]=0\n",
    "        hscResultsOPEX[\"Storage\"]=0\n",
    "        hscResultsCAPEX[\"Storage\"]=0\n",
    "        hscResults[\"Storage\"]=0\n",
    "        hscResultsEnergy[\"Storage\"]=0\n",
    "        Source[\"storageSpecCost\"]=hscResultsTot[\"Storage\"]\n",
    "    #%% Connector 2, Transmission and Distribution Calculation\n",
    "    if analysisType==\"pipeline\":\n",
    "        HSC[\"Con2\"]=hscFun.Connector2(Source[\"H2Production_kg_day\"],\n",
    "                                      hscName[\"Connector2\"],\n",
    "                                      dfTable, \n",
    "                                      costH2In=Source[\"storageSpecCost\"],\n",
    "                                      pressureIn=dfTable[\"Storage\"][hscName[\"Storage\"]][\"pressureOut\"],\n",
    "                                      pressureOut=dfTable[\"Transport\"][hscName[\"Transmission\"]][\"pressureIn\"],\n",
    "                                      nextStep=hscName[\"Transmission\"])\n",
    "        Source[\"con2SpecCost\"]=HSC[\"Con2\"].getTOTEX()\n",
    "        Source[\"con2Invest\"]=HSC[\"Con2\"].getInvest()\n",
    "        hscResults[\"Connector2\"]=np.sum(Source[\"con2SpecCost\"]*Source[\"H2Production_kg_day\"])/np.sum(Source[\"H2Production_kg_day\"])\n",
    "        hscResultsOPEX[\"Connector2\"]=np.sum(HSC[\"Con2\"].OPEX*Source[\"H2Production_kg_day\"])/np.sum(Source[\"H2Production_kg_day\"])\n",
    "        hscResultsCAPEX[\"Connector2\"]=np.sum(HSC[\"Con2\"].CAPEX*Source[\"H2Production_kg_day\"])/np.sum(Source[\"H2Production_kg_day\"])\n",
    "        hscResultsTot[\"Connector2\"]=hscResultsTot[\"Storage\"]+hscResults[\"Connector2\"]  \n",
    "        hscResultsInvest[\"Connector2\"]=np.sum(Source[\"con2Invest\"])\n",
    "        hscResultsEnergy[\"Connector2\"]=HSC[\"Con2\"].getDemand()\n",
    "        \n",
    "        HSC[\"Transmission\"]=hscFun.Pipeline(totalH2Demand*1e6,\n",
    "                                                   np.sum(EdgesFinal[EdgesFinal[\"distribution\"]==False][\"lineCost\"].values*1e6),\n",
    "                                                   dfTable,\n",
    "                                                   costH2In=hscResults[\"Connector2\"])\n",
    "        hscResults[\"Transmission\"]=HSC[\"Transmission\"].getTOTEX()\n",
    "        hscResultsTot[\"Transmission\"]=hscResultsTot[\"Connector2\"]+hscResults[\"Transmission\"]\n",
    "        hscResultsCAPEX[\"Transmission\"]=HSC[\"Transmission\"].CAPEX\n",
    "        hscResultsOPEX[\"Transmission\"]=HSC[\"Transmission\"].OPEX\n",
    "        hscResultsInvest[\"Transmission\"]=HSC[\"Transmission\"].invest\n",
    "        hscResultsEnergy[\"Transmission\"]=0\n",
    "        \n",
    "        if hscName[\"Distribution\"]==\"Pipeline\":\n",
    "            #Connector 3\n",
    "            hscResults[\"Connector3\"]=0\n",
    "            hscResultsCAPEX[\"Connector3\"]=0\n",
    "            hscResultsOPEX[\"Connector3\"]=0\n",
    "            hscResultsInvest[\"Connector3\"]=0\n",
    "            hscResultsTot[\"Connector3\"]=hscResultsTot[\"Transmission\"]+hscResults[\"Connector3\"]\n",
    "            hscResultsEnergy[\"Connector3\"]=0\n",
    "            #Distribution\n",
    "            HSC[\"Distribution\"]=hscFun.Pipeline(totalH2Demand*1e6,\n",
    "                                                       np.sum(EdgesFinal[EdgesFinal[\"distribution\"]][\"lineCost\"].values*1e6),\n",
    "                                                       dfTable,\n",
    "                                                       costH2In=hscResultsTot[\"Transmission\"])\n",
    "            hscResults[\"Distribution\"]=HSC[\"Distribution\"].getTOTEX()\n",
    "            hscResultsCAPEX[\"Distribution\"]=HSC[\"Distribution\"].CAPEX\n",
    "            hscResultsOPEX[\"Distribution\"]=HSC[\"Distribution\"].OPEX\n",
    "            hscResultsEnergy[\"Transmission\"]=0\n",
    "        else:\n",
    "            #Connector 3\n",
    "            HSC[\"Con3\"]=hscFun.Connector2(Centroid[\"H2Demand_kt\"]*1e6/365,\n",
    "                                          hscName[\"Connector3\"],\n",
    "                                          dfTable,\n",
    "                                          costH2In=hscResultsTot[\"Transmission\"],\n",
    "                                          pressureIn=dfTable[\"Transport\"][hscName[\"Transmission\"]][\"pressureOut\"],\n",
    "                                          pressureOut=dfTable[\"Transport\"][hscName[\"Distribution\"]][\"pressureIn\"],\n",
    "                                          nextStep=hscName[\"Distribution\"])\n",
    "            hscResults[\"Connector3\"]=np.sum(HSC[\"Con3\"].getTOTEX()*Centroid[\"H2Demand_kt\"])/np.sum(Centroid[\"H2Demand_kt\"])\n",
    "            hscResultsCAPEX[\"Connector3\"]=np.sum(HSC[\"Con3\"].CAPEX*Centroid[\"H2Demand_kt\"])/np.sum(Centroid[\"H2Demand_kt\"])\n",
    "            hscResultsOPEX[\"Connector3\"]=np.sum(HSC[\"Con3\"].OPEX*Centroid[\"H2Demand_kt\"])/np.sum(Centroid[\"H2Demand_kt\"])\n",
    "            hscResultsTot[\"Connector3\"]=hscResultsTot[\"Transmission\"]+hscResults[\"Connector3\"]\n",
    "            hscResultsInvest[\"Connector3\"]=np.sum(HSC[\"Con3\"].invest)\n",
    "            hscResultsEnergy[\"Connector3\"]=HSC[\"Con3\"].getDemand()\n",
    "            #Distribution\n",
    "            HSC[\"Distribution\"]=hscFun.Truck(FuelingNew[\"H2Demand_kg_d_F\"],\n",
    "                                             FuelingNew[\"distToC\"]*weightStreetSimple,\n",
    "                                             hscName[\"Distribution\"],\n",
    "                                             dfTable,\n",
    "                                             costH2In=hscResults[\"Connector3\"])\n",
    "            FuelingNew[\"TOTEX\"]=HSC[\"Distribution\"].getTOTEX()\n",
    "            hscResults[\"Distribution\"]=np.sum(FuelingNew[\"TOTEX\"]*FuelingNew[\"H2Demand_kg_d_F\"])/np.sum(FuelingNew[\"H2Demand_kg_d_F\"])\n",
    "            hscResultsCAPEX[\"Distribution\"]=np.sum(HSC[\"Distribution\"].CAPEX*FuelingNew[\"H2Demand_kg_d_F\"])/np.sum(FuelingNew[\"H2Demand_kg_d_F\"])\n",
    "            hscResultsOPEX[\"Distribution\"]=np.sum(HSC[\"Distribution\"].OPEX*FuelingNew[\"H2Demand_kg_d_F\"])/np.sum(FuelingNew[\"H2Demand_kg_d_F\"])\n",
    "            numberOfTrucks=np.sum(HSC[\"Distribution\"].nTruck)\n",
    "            hscResultsEnergy[\"Distribution\"]=HSC[\"Distribution\"].getDemand()\n",
    "    \n",
    "    elif analysisType==\"truck\":\n",
    "        HSC[\"Con2\"]=hscFun.Connector2(Source[\"H2Production_kg_day\"],\n",
    "                                      hscName[\"Connector2\"],\n",
    "                                      dfTable,\n",
    "                                      costH2In=Source[\"storageSpecCost\"],\n",
    "                                      pressureIn=dfTable[\"Storage\"][hscName[\"Storage\"]][\"pressureOut\"],\n",
    "                                      pressureOut=dfTable[\"Transport\"][hscName[\"Distribution\"]][\"pressureIn\"],\n",
    "                                      nextStep=hscName[\"Distribution\"])\n",
    "        Source[\"con2SpecCost\"]=HSC[\"Con2\"].getTOTEX()\n",
    "        Source[\"con2Invest\"]=HSC[\"Con2\"].getInvest()\n",
    "        hscResults[\"Connector2\"]=np.sum(Source[\"con2SpecCost\"]*Source[\"H2Production_kg_day\"])/np.sum(Source[\"H2Production_kg_day\"])\n",
    "        hscResultsOPEX[\"Connector2\"]=np.sum(HSC[\"Con2\"].OPEX*Source[\"H2Production_kg_day\"])/np.sum(Source[\"H2Production_kg_day\"])\n",
    "        hscResultsCAPEX[\"Connector2\"]=np.sum(HSC[\"Con2\"].CAPEX*Source[\"H2Production_kg_day\"])/np.sum(Source[\"H2Production_kg_day\"])\n",
    "        hscResultsTot[\"Connector2\"]=hscResultsTot[\"Storage\"]+hscResults[\"Connector2\"]  \n",
    "        hscResultsInvest[\"Connector2\"]=np.sum(Source[\"con2Invest\"])\n",
    "        hscResultsEnergy[\"Connector2\"]=HSC[\"Con2\"].getDemand()\n",
    "        #Transmission\n",
    "        hscResults[\"Transmission\"]=0\n",
    "        hscResultsCAPEX[\"Transmission\"]=0\n",
    "        hscResultsOPEX[\"Transmission\"]=0\n",
    "        hscResultsTot[\"Transmission\"]=hscResultsTot[\"Connector2\"]+hscResults[\"Transmission\"]\n",
    "        hscResultsInvest[\"Transmission\"]=0\n",
    "        hscResultsEnergy[\"Transmission\"]=0\n",
    "        #Connector 3\n",
    "        hscResults[\"Connector3\"]=0\n",
    "        hscResultsCAPEX[\"Connector3\"]=0\n",
    "        hscResultsOPEX[\"Connector3\"]=0\n",
    "        hscResultsTot[\"Connector3\"]=hscResultsTot[\"Transmission\"]+hscResults[\"Connector3\"]\n",
    "        hscResultsInvest[\"Connector3\"]=0\n",
    "        hscResultsEnergy[\"Connector3\"]=0\n",
    "        #Distribution\n",
    "        HSC[\"Distribution\"]=hscFun.Truck(EdgesFinal[\"capacity\"].values*1e6/365,\n",
    "                                         EdgesFinal[\"distance\"].values*weightStreetSimple,\n",
    "                                         hscName[\"Distribution\"],\n",
    "                                         dfTable,\n",
    "                                         costH2In=hscResults[\"Transmission\"])\n",
    "        EdgesFinal[\"TOTEX\"]=HSC[\"Distribution\"].getTOTEX()\n",
    "        hscResults[\"Distribution\"]=np.sum(EdgesFinal[\"TOTEX\"]*EdgesFinal[\"capacity\"])/totalH2Demand\n",
    "        hscResultsCAPEX[\"Distribution\"]=np.sum(HSC[\"Distribution\"].CAPEX*EdgesFinal[\"capacity\"])/totalH2Demand\n",
    "        hscResultsOPEX[\"Distribution\"]=np.sum(HSC[\"Distribution\"].OPEX*EdgesFinal[\"capacity\"])/totalH2Demand\n",
    "          \n",
    "        numberOfTrucks=np.sum(HSC[\"Distribution\"].nTruck)\n",
    "        print(\"numberOfTrucks\")\n",
    "    hscResultsInvest[\"Distribution\"]=np.sum(HSC[\"Distribution\"].getInvest())\n",
    "    hscResultsTot[\"Distribution\"]=hscResultsTot[\"Transmission\"]+hscResults[\"Distribution\"]\n",
    "    hscResultsEnergy[\"Distribution\"]=HSC[\"Distribution\"].getDemand()\n",
    "    #%%\n",
    "    HSC[\"Fueling\"]=hscFun.Station(FuelingNew[\"H2Demand_kg_d_F\"], hscName[\"Fueling\"], dfTable, costH2In=hscResults[\"Distribution\"])\n",
    "    FuelingNew[\"fuelingSpecCost\"]=HSC[\"Fueling\"].getTOTEX()\n",
    "    \n",
    "    hscResults[\"Fueling\"]=np.sum(FuelingNew[\"fuelingSpecCost\"]*FuelingNew[\"H2Demand_kg_d_F\"])/np.sum(FuelingNew[\"H2Demand_kg_d_F\"])\n",
    "    hscResultsCAPEX[\"Fueling\"]=np.sum(HSC[\"Fueling\"].CAPEX*FuelingNew[\"H2Demand_kg_d_F\"])/np.sum(FuelingNew[\"H2Demand_kg_d_F\"])\n",
    "    hscResultsOPEX[\"Fueling\"]=np.sum(HSC[\"Fueling\"].OPEX*FuelingNew[\"H2Demand_kg_d_F\"])/np.sum(FuelingNew[\"H2Demand_kg_d_F\"])\n",
    "    hscResultsTot[\"Fueling\"]=hscResultsTot[\"Distribution\"]+hscResults[\"Fueling\"]  \n",
    "    hscResultsInvest[\"Fueling\"]=np.sum(HSC[\"Fueling\"].getInvest())\n",
    "    hscResultsEnergy[\"Fueling\"]=HSC[\"Fueling\"].getDemand()\n",
    "    #%%\n",
    "    hscRes=pd.DataFrame()\n",
    "    hscRes[\"spec. costs[€/kg]\"]=hscResults\n",
    "    hscRes[\"cum. costs[€/kg]\"]=hscResultsTot\n",
    "    hscRes[\"OPEX [€/kg]\"]=hscResultsOPEX\n",
    "    hscRes[\"CAPEX [€/kg]\"]=hscResultsCAPEX     \n",
    "    hscRes[\"Invest [Mrd. €]\"]=hscResultsInvest*1e-9\n",
    "    hscRes[\"Name\"]=hscName\n",
    "    hscRes[\"kilometer cost[€/km]\"]=hscResults*specificDemand\n",
    "    hscRes[\"pathway\"]=hscName[\"Transmission\"]+\"_\"+hscName[\"Distribution\"]\n",
    "    hscRes=pd.concat([hscRes, hscResultsEnergy.T],axis=1)\n",
    "    hscRes=hscRes.round(2)\n",
    "    if scenario==2:\n",
    "        powerInput=gpd.GeoDataFrame(HSC[\"Con2\"].electricityPower)\n",
    "        powerInput.columns=[\"electricityPower\"]\n",
    "        powerInput.geometry=Source.geometry\n",
    "        powerInput[\"x\"]=powerInput.geometry.map(lambda p:p.x).values\n",
    "        powerInput[\"y\"]=powerInput.geometry.map(lambda p:p.y).values\n",
    "        if analysisType==\"pipeline\":\n",
    "            powerInput.to_csv(\"20millionFCEV\"+hscName[\"Transmission\"]+hscName[\"Distribution\"]+\".csv\")\n",
    "        else:\n",
    "            powerInput.to_csv(\"20millionFCEV\"+hscName[\"Distribution\"]+\".csv\")\n",
    "    #%%  \n",
    "    #%%\n",
    "    if analysisType==\"pipeline\":\n",
    "        if hscName[\"Distribution\"]==\"Pipeline\":\n",
    "            \n",
    "            dfResults=pd.DataFrame([\"%.0f\" %(targetCars*1e-6)+ \" Mio.\",\n",
    "                                    \"%.0f\" %totalH2Demand +\" kt/year\",\n",
    "                                    \"%.0f\" %len(FuelingNew),                                    \n",
    "                                    \"%.0f\" % sum(EdgesFinal[EdgesFinal[\"distribution\"]==False][\"weightedDistance\"]) + \" km\",\n",
    "                                    \"%.0f\" % sum(EdgesFinal[EdgesFinal[\"distribution\"]][\"weightedDistance\"]) + \" km\"],\n",
    "                                   index=[\"Number of vehicles\",\n",
    "                                          \"Hydrogen demand\",\n",
    "                                          \"Fueling stations\",\n",
    "                                          \"Transmission length\",\n",
    "                                          \"Distribution length\"])\n",
    "    \n",
    "        else:\n",
    "            dfResults=pd.DataFrame([\"%.0f\" %(targetCars*1e-6)+ \" Mio.\",\n",
    "                                    \"%.0f\" %totalH2Demand +\" kt/year\",\n",
    "                                    \"%.0f\" %len(FuelingNew),                                    \n",
    "                                    \"%.0f\" % sum(EdgesFinal[EdgesFinal[\"distribution\"]==False][\"weightedDistance\"]) + \" km\",\n",
    "                                    \"%.0f\" % numberOfTrucks],\n",
    "                                   index=[\"Number of vehicles\",\n",
    "                                          \"Hydrogen demand\",\n",
    "                                          \"Fueling stations\",\n",
    "                                          \"Transmission length\",\n",
    "                                          \"Number of Trucks\"])\n",
    "    else:\n",
    "        dfResults=pd.DataFrame([\"%.0f\" %(targetCars*1e-6)+ \" Mio.\",\n",
    "                                \"%.0f\" %totalH2Demand +\" kt/year\",\n",
    "                                \"%.0f\" %len(FuelingNew),\n",
    "                                \"%.0f\" % numberOfTrucks],\n",
    "                                index=[\"Number of vehicles\",\n",
    "                                       \"Hydrogen demand\",\n",
    "                                       \"Fueling stations\",\n",
    "                                       \"Number of Trucks\"])\n",
    "    dfResults.columns=[\"Scenario Results\"]\n",
    "    #%%\n",
    "    from openpyxl import load_workbook\n",
    "    \n",
    "    #%% Plotting function\n",
    "    print(\"-------------- Plotting --------------\")\n",
    "    tic=time.time()\n",
    "    fig = plt.figure(figsize=figsize)\n",
    "    ax=fig.add_subplot(111)\n",
    "    \n",
    "    ax.set_aspect('equal')\n",
    "    pFun.plot_polygon_collection(ax=ax,\n",
    "                                 geoms=District.geometry,\n",
    "                                 colors_or_values=[bg_area for ix in District.index],\n",
    "                                 plot_values=False,\n",
    "                                 vmin=None,\n",
    "                                 vmax=None,\n",
    "                                 cmap=None,\n",
    "                                 edgecolor=bg_lines,\n",
    "                                 alpha=1)\n",
    "    varPlot=\"diameter\"\n",
    "    \n",
    "    if analysisType==\"pipeline\":\n",
    "        #if hscName[\"Distribution\"]==\"Pipeline\":\n",
    "        #    EdgesFinal[EdgesFinal[\"distribution\"]].plot(ax=ax, linewidth=1, color=(1, 1, 1), alpha = 1)\n",
    "        #else:\n",
    "        #    EdgesFtoC=gpd.GeoDataFrame(FuelingNew[\"EdgesFtoC\"].values, columns=[\"geometry\"])\n",
    "        #EdgesFtoC.plot(ax=ax, linewidth=0.5, color=\"black\", alpha =1)\n",
    "        EdgesT=EdgesFinal[EdgesFinal[\"distribution\"]==False]\n",
    "        multLineWidth=5\n",
    "        varPlot=\"diameter\"\n",
    "        rangeMax=10\n",
    "        base=1000/rangeMax\n",
    "        for i in range(rangeMax+1):\n",
    "            i_norm=i/rangeMax\n",
    "            if i == 0:\n",
    "                pFun.plotLines(EdgesT[EdgesT[varPlot]<base],\n",
    "                              ax=ax,\n",
    "                              linewidth=multLineWidth/rangeMax,\n",
    "                              color=(i_norm, 0, 0),\n",
    "                              alpha = 1,\n",
    "                              zorder=3)\n",
    "            elif i<rangeMax:\n",
    "                pFun.plotLines(EdgesT[EdgesT[varPlot].between(base*i, base*(i+1))],\n",
    "                              ax=ax,\n",
    "                              linewidth=multLineWidth*i_norm,\n",
    "                              color=(i_norm, 0, 0),\n",
    "                              alpha = 1,\n",
    "                              zorder=3)#(1, 1-i_norm, 1-i_norm)\n",
    "            else:\n",
    "                 pFun.plotLines(EdgesT[EdgesT[varPlot]>i*base],\n",
    "                               ax=ax,\n",
    "                               linewidth=multLineWidth*(i_norm),\n",
    "                               color=(i_norm, 0, 0),\n",
    "                               alpha = 1,\n",
    "                               zorder=3)  \n",
    "    \n",
    "    \n",
    "    if analysisType==\"truck\":\n",
    "        EdgesFinal[EdgesFinal[\"distribution\"]].plot(ax=ax, linewidth=0.5, color=(0, 0, 0), alpha = 1)\n",
    "        \n",
    "    plt.title(hscName[\"Storage\"] + \" \" + hscName[\"Distribution\"] + \" for \" + \"%.f\" %(targetCars*1e-6) + \" million vehicles\", fontsize=18) \n",
    "    if analysisType==\"pipeline\":\n",
    "        Centroid[Centroid[\"H2Demand_kt\"]>0].plot(ax=ax, marker=\"^\", markersize=5, color=\"yellow\")#, column=\"ID_S\")   \n",
    "    elif analysisType==\"truck\":\n",
    "        FuelingNew.plot(ax=ax, marker=\".\", markersize=1, color=\"yellow\")\n",
    "        \n",
    "    #FuelingNew.plot(ax=ax, marker=\"*\", markersize=3, color=\"yellow\")\n",
    "    Source[Source[\"H2Production_kt\"]>1e-6].plot(ax=ax, marker=\"*\", markersize=10, color=\"red\")#, column = \"ID_S\")\n",
    "    \n",
    "    ax.axis(\"off\")\n",
    "    \n",
    "    savePath=\"H2MobilityResults/Plots/\" + hscName[\"Storage\"]+\"_\"+hscName[\"Transmission\"]+\"_\"+hscName[\"Distribution\"]+\"_\" +\"%.0f\" %(targetCars*1e-6) + \".png\"\n",
    "\n",
    "    fig.savefig(savePath,\n",
    "                dpi=300,\n",
    "                edgecolor=None,\n",
    "                facecolor=\"white\",\n",
    "                frameon=False,\n",
    "                transparent = True)\n",
    "#    plt.tight_layout()\n",
    "    plt.show()\n",
    "    ##%%\n",
    "    toc=time.time()\n",
    "    print(str(toc-tic)+\" Seconds\\n\")   \n",
    "toctoc=time.time()\n",
    "print(\"total Time: \" + str(toctoc-tictic) + \" Sekunden\")"
   ]
  },
  {
   "cell_type": "code",
   "execution_count": null,
   "metadata": {
    "collapsed": false
   },
   "outputs": [],
   "source": []
  },
  {
   "cell_type": "code",
   "execution_count": null,
   "metadata": {
    "collapsed": false
   },
   "outputs": [],
   "source": [
    "pathShp=os.getcwd() + \"\\\\ComparisonOptiMinSpan\\\\\"\n",
    "EdgesFinal=EdgesFinal[EdgesFinal[\"distance\"]>0]\n",
    "EdgesFinal.crs=crs\n",
    "EdgesFinal.ix[:,[\"geometry\", \"capacity\"]].to_file(pathShp+'MartinPythonFabian.shp')\n",
    "#FuelingNew.ix[:,[\"ID\", \"geometry\", \"H2Demand_kg_d_F\"]].to_file(pathShp+'FuelingstationsMartin.shp')"
   ]
  },
  {
   "cell_type": "code",
   "execution_count": null,
   "metadata": {
    "collapsed": true
   },
   "outputs": [],
   "source": []
  },
  {
   "cell_type": "code",
   "execution_count": null,
   "metadata": {
    "collapsed": false
   },
   "outputs": [],
   "source": [
    "hscRes"
   ]
  },
  {
   "cell_type": "code",
   "execution_count": null,
   "metadata": {
    "collapsed": false
   },
   "outputs": [],
   "source": [
    "EdgesFinal.length.sum()"
   ]
  },
  {
   "cell_type": "code",
   "execution_count": null,
   "metadata": {
    "collapsed": false
   },
   "outputs": [],
   "source": [
    "EdgesFinal[\"wishedLine\"]=np.array([\"G\" in IDin for IDin in EdgesFinal[\"inputID\"]])*np.array([\"G\" in IDin for IDin in EdgesFinal[\"targetID\"]])\n",
    "EdgesFinal[EdgesFinal[\"wishedLine\"]].length.sum()/EdgesFinal.length.sum()"
   ]
  },
  {
   "cell_type": "code",
   "execution_count": null,
   "metadata": {
    "collapsed": false
   },
   "outputs": [],
   "source": [
    "EdgesMartinOld=sFun.import_shp(pathShp+\"Transmissionspipeline.shp\", crs=crs)"
   ]
  },
  {
   "cell_type": "code",
   "execution_count": null,
   "metadata": {
    "collapsed": false,
    "scrolled": true
   },
   "outputs": [],
   "source": [
    "EdgesMartinOld[EdgesMartinOld[\"Typ\"]==\"GG\"].length.sum()/EdgesMartinOld.length.sum()"
   ]
  },
  {
   "cell_type": "code",
   "execution_count": null,
   "metadata": {
    "collapsed": true
   },
   "outputs": [],
   "source": [
    "specificDemand=0.6/250"
   ]
  },
  {
   "cell_type": "code",
   "execution_count": null,
   "metadata": {
    "collapsed": false
   },
   "outputs": [],
   "source": [
    "#EdgesMartinOld[\"elecDemand\"]=EdgesMartinOld"
   ]
  },
  {
   "cell_type": "code",
   "execution_count": null,
   "metadata": {
    "collapsed": false,
    "scrolled": true
   },
   "outputs": [],
   "source": []
  },
  {
   "cell_type": "code",
   "execution_count": null,
   "metadata": {
    "collapsed": false
   },
   "outputs": [],
   "source": [
    "EdgesTotal=EdgesMartinOld\n",
    "EdgesTotal[\"capacity\"]=EdgesTotal[\"masse\"]*1e-6\n",
    "EdgesTotal.loc[EdgesTotal[\"capacity\"]<20,\"capacity\"]=20\n",
    "EdgesTotal[\"diameter\"]=sqrt(sFun.getDiameterSquare(EdgesTotal[\"capacity\"].values))*1000\n",
    "EdgesTotal[\"lineCostSpec\"]=sFun.getSpecCost(EdgesTotal[\"capacity\"], source=\"Krieg\", base=\"diameter\")  \n",
    "EdgesTotal[\"weightedDistance\"]=EdgesTotal.length/1000\n",
    "EdgesTotal[\"distance\"]=EdgesTotal.length.values/1000\n",
    "EdgesTotal[\"lineCost\"]=EdgesTotal[\"lineCostSpec\"]*EdgesTotal[\"weightedDistance\"]*1000\n",
    "EdgesTotal[\"distribution\"]=False"
   ]
  },
  {
   "cell_type": "code",
   "execution_count": null,
   "metadata": {
    "collapsed": false,
    "scrolled": true
   },
   "outputs": [],
   "source": [
    "tic=time.time()\n",
    "NodesFinal=SProd.H2Prod\n",
    "EdgesFinal=EdgesTotal\n",
    "#%%\n",
    "Source[\"H2Production_kt\"]=NodesFinal\n",
    "Source[\"H2Production_kg_day\"]=Source[\"H2Production_kt\"]*1e6/365\n",
    "toc=time.time()\n",
    "print(str(toc-tic)+\" Seconds\\n\")\n",
    "targetCars=1"
   ]
  },
  {
   "cell_type": "code",
   "execution_count": null,
   "metadata": {
    "collapsed": false
   },
   "outputs": [],
   "source": [
    "for listHSC in hscPathways:\n",
    "    print(\"-------------- Preparing total Analysis --------------\")\n",
    "    tic=time.time()\n",
    "    hscResults=pd.Series()\n",
    "    hscResultsTot=pd.Series()\n",
    "    hscResultsInvest=pd.Series()\n",
    "    hscResultsCAPEX=pd.Series()\n",
    "    hscResultsOPEX=pd.Series()\n",
    "    hscResultsEnergy=pd.DataFrame(index=[\"Loss\", \"electricityRES\", \"electricityGrid\", \"NaturalGas\", \"Diesel\"])\n",
    "    \n",
    "    hscName=pd.Series(listHSC,\n",
    "                      index=[\"Production\",\"Connector1\",\"Storage\",\"Connector2\",\"Transmission\",\"Connector3\",\"Distribution\",\"Fueling\"])\n",
    "    #%%\n",
    "    HSC={}\n",
    "    #%% Production Class\n",
    "    if scenario==2:\n",
    "        HSC[\"Production\"]=hscFun.Production(Source[\"H2Production_kg_day\"], hscName[\"Production\"], dfTable)\n",
    "        Source[\"productionSpecCost\"]=HSC[\"Production\"].getTOTEX()\n",
    "        Source[\"productionInvest\"]=HSC[\"Production\"].getInvest()\n",
    "        hscResults[\"Production\"]=np.sum(Source[\"productionSpecCost\"]*Source[\"H2Production_kg_day\"])/np.sum(Source[\"H2Production_kg_day\"])\n",
    "        hscResultsOPEX[\"Production\"]=np.sum(HSC[\"Production\"].OPEX*Source[\"H2Production_kg_day\"])/np.sum(Source[\"H2Production_kg_day\"])\n",
    "        hscResultsCAPEX[\"Production\"]=np.sum(HSC[\"Production\"].CAPEX*Source[\"H2Production_kg_day\"])/np.sum(Source[\"H2Production_kg_day\"])\n",
    "        hscResultsTot[\"Production\"]=hscResults[\"Production\"]\n",
    "        hscResultsInvest[\"Production\"]=np.sum(Source[\"productionInvest\"])\n",
    "        hscResultsEnergy[\"Production\"]=HSC[\"Production\"].getDemand()\n",
    "        #%% Connector Class\n",
    "        HSC[\"Con1\"]=hscFun.Connector(Source[\"H2Production_kg_day\"], hscName[\"Connector1\"], dfTable, costH2In=Source[\"productionSpecCost\"], pressureIn=30, pressureOut=150)\n",
    "        Source[\"con1SpecCost\"]=HSC[\"Con1\"].getTOTEX()\n",
    "        Source[\"con1Invest\"]=HSC[\"Con1\"].getInvest()\n",
    "        hscResults[\"Connector1\"]=np.sum(Source[\"con1SpecCost\"]*Source[\"H2Production_kg_day\"])/np.sum(Source[\"H2Production_kg_day\"])\n",
    "        hscResultsOPEX[\"Connector1\"]=np.sum(HSC[\"Con1\"].OPEX*Source[\"H2Production_kg_day\"])/np.sum(Source[\"H2Production_kg_day\"])\n",
    "        hscResultsCAPEX[\"Connector1\"]=np.sum(HSC[\"Con1\"].CAPEX*Source[\"H2Production_kg_day\"])/np.sum(Source[\"H2Production_kg_day\"])\n",
    "        hscResultsTot[\"Connector1\"]=hscResultsTot[\"Production\"]+hscResults[\"Connector1\"]\n",
    "        hscResultsInvest[\"Connector1\"]=np.sum(Source[\"con1Invest\"])\n",
    "        hscResultsEnergy[\"Connector1\"]=HSC[\"Con1\"].getDemand()\n",
    "        #%% Storage Class\n",
    "        HSC[\"Storage\"]=hscFun.Storage(Source[\"H2Production_kg_day\"], hscName[\"Storage\"], dfTable, costH2In=Source[\"con1SpecCost\"])\n",
    "        Source[\"storageSpecCost\"]=HSC[\"Storage\"].getTOTEX()\n",
    "        Source[\"storageInvest\"]=HSC[\"Storage\"].getInvest()\n",
    "        hscResults[\"Storage\"]=np.sum(Source[\"storageSpecCost\"]*Source[\"H2Production_kg_day\"])/np.sum(Source[\"H2Production_kg_day\"])\n",
    "        hscResultsOPEX[\"Storage\"]=np.sum(HSC[\"Storage\"].OPEX*Source[\"H2Production_kg_day\"])/np.sum(Source[\"H2Production_kg_day\"])\n",
    "        hscResultsCAPEX[\"Storage\"]=np.sum(HSC[\"Storage\"].CAPEX*Source[\"H2Production_kg_day\"])/np.sum(Source[\"H2Production_kg_day\"])\n",
    "        hscResultsTot[\"Storage\"]=hscResultsTot[\"Connector1\"]+hscResults[\"Storage\"]\n",
    "        hscResultsInvest[\"Storage\"]=np.sum(Source[\"storageInvest\"])\n",
    "        hscResultsEnergy[\"Storage\"]=HSC[\"Storage\"].getDemand()\n",
    "    else:\n",
    "        hscResults[\"Production\"]=hscResultsTot[\"Production\"]=priceSMR\n",
    "        hscResultsOPEX[\"Production\"]=0\n",
    "        hscResultsOPEX[\"Production\"]=0\n",
    "        hscResultsCAPEX[\"Production\"]=0\n",
    "        hscResultsEnergy[\"Production\"]=0\n",
    "        #%% Connector Class\n",
    "        hscResultsTot[\"Connector1\"]=priceSMR\n",
    "        hscResults[\"Connector1\"]=0\n",
    "        hscResultsOPEX[\"Connector1\"]=0\n",
    "        hscResultsOPEX[\"Connector1\"]=0\n",
    "        hscResultsCAPEX[\"Connector1\"]=0\n",
    "        hscResults[\"Connector1\"]=0\n",
    "        hscResultsEnergy[\"Connector1\"]=0\n",
    "        #%% Storage Class\n",
    "        hscResultsTot[\"Storage\"]=priceSMR\n",
    "        hscResults[\"Storage\"]=0\n",
    "        hscResultsOPEX[\"Storage\"]=0\n",
    "        hscResultsOPEX[\"Storage\"]=0\n",
    "        hscResultsCAPEX[\"Storage\"]=0\n",
    "        hscResults[\"Storage\"]=0\n",
    "        hscResultsEnergy[\"Storage\"]=0\n",
    "        Source[\"storageSpecCost\"]=hscResultsTot[\"Storage\"]\n",
    "    #%% Connector 2, Transmission and Distribution Calculation\n",
    "    if analysisType==\"pipeline\":\n",
    "        HSC[\"Con2\"]=hscFun.Connector2(Source[\"H2Production_kg_day\"],\n",
    "                                      hscName[\"Connector2\"],\n",
    "                                      dfTable, \n",
    "                                      costH2In=Source[\"storageSpecCost\"],\n",
    "                                      pressureIn=dfTable[\"Storage\"][hscName[\"Storage\"]][\"pressureOut\"],\n",
    "                                      pressureOut=dfTable[\"Transport\"][hscName[\"Transmission\"]][\"pressureIn\"],\n",
    "                                      nextStep=hscName[\"Transmission\"])\n",
    "        Source[\"con2SpecCost\"]=HSC[\"Con2\"].getTOTEX()\n",
    "        Source[\"con2Invest\"]=HSC[\"Con2\"].getInvest()\n",
    "        hscResults[\"Connector2\"]=np.sum(Source[\"con2SpecCost\"]*Source[\"H2Production_kg_day\"])/np.sum(Source[\"H2Production_kg_day\"])\n",
    "        hscResultsOPEX[\"Connector2\"]=np.sum(HSC[\"Con2\"].OPEX*Source[\"H2Production_kg_day\"])/np.sum(Source[\"H2Production_kg_day\"])\n",
    "        hscResultsCAPEX[\"Connector2\"]=np.sum(HSC[\"Con2\"].CAPEX*Source[\"H2Production_kg_day\"])/np.sum(Source[\"H2Production_kg_day\"])\n",
    "        hscResultsTot[\"Connector2\"]=hscResultsTot[\"Storage\"]+hscResults[\"Connector2\"]  \n",
    "        hscResultsInvest[\"Connector2\"]=np.sum(Source[\"con2Invest\"])\n",
    "        hscResultsEnergy[\"Connector2\"]=HSC[\"Con2\"].getDemand()\n",
    "        \n",
    "        HSC[\"Transmission\"]=hscFun.Pipeline(totalH2Demand*1e6,\n",
    "                                                   np.sum(EdgesFinal[EdgesFinal[\"distribution\"]==False][\"lineCost\"].values*1e6),\n",
    "                                                   dfTable,\n",
    "                                                   costH2In=hscResults[\"Connector2\"])\n",
    "        hscResults[\"Transmission\"]=HSC[\"Transmission\"].getTOTEX()\n",
    "        hscResultsTot[\"Transmission\"]=hscResultsTot[\"Connector2\"]+hscResults[\"Transmission\"]\n",
    "        hscResultsCAPEX[\"Transmission\"]=HSC[\"Transmission\"].CAPEX\n",
    "        hscResultsOPEX[\"Transmission\"]=HSC[\"Transmission\"].OPEX\n",
    "        hscResultsInvest[\"Transmission\"]=HSC[\"Transmission\"].invest\n",
    "        hscResultsEnergy[\"Transmission\"]=0\n",
    "        \n",
    "        if hscName[\"Distribution\"]==\"Pipeline\":\n",
    "            #Connector 3\n",
    "            hscResults[\"Connector3\"]=0\n",
    "            hscResultsCAPEX[\"Connector3\"]=0\n",
    "            hscResultsOPEX[\"Connector3\"]=0\n",
    "            hscResultsInvest[\"Connector3\"]=0\n",
    "            hscResultsTot[\"Connector3\"]=hscResultsTot[\"Transmission\"]+hscResults[\"Connector3\"]\n",
    "            hscResultsEnergy[\"Connector3\"]=0\n",
    "            #Distribution\n",
    "            HSC[\"Distribution\"]=hscFun.Pipeline(totalH2Demand*1e6,\n",
    "                                                       np.sum(EdgesFinal[EdgesFinal[\"distribution\"]][\"lineCost\"].values*1e6),\n",
    "                                                       dfTable,\n",
    "                                                       costH2In=hscResultsTot[\"Transmission\"])\n",
    "            hscResults[\"Distribution\"]=HSC[\"Distribution\"].getTOTEX()\n",
    "            hscResultsCAPEX[\"Distribution\"]=HSC[\"Distribution\"].CAPEX\n",
    "            hscResultsOPEX[\"Distribution\"]=HSC[\"Distribution\"].OPEX\n",
    "            hscResultsEnergy[\"Transmission\"]=0\n",
    "        else:\n",
    "            #Connector 3\n",
    "            HSC[\"Con3\"]=hscFun.Connector2(Centroid[\"H2Demand_kt\"]*1e6/365,\n",
    "                                          hscName[\"Connector3\"],\n",
    "                                          dfTable,\n",
    "                                          costH2In=hscResultsTot[\"Transmission\"],\n",
    "                                          pressureIn=dfTable[\"Transport\"][hscName[\"Transmission\"]][\"pressureOut\"],\n",
    "                                          pressureOut=dfTable[\"Transport\"][hscName[\"Distribution\"]][\"pressureIn\"],\n",
    "                                          nextStep=hscName[\"Distribution\"])\n",
    "            hscResults[\"Connector3\"]=np.sum(HSC[\"Con3\"].getTOTEX()*Centroid[\"H2Demand_kt\"])/np.sum(Centroid[\"H2Demand_kt\"])\n",
    "            hscResultsCAPEX[\"Connector3\"]=np.sum(HSC[\"Con3\"].CAPEX*Centroid[\"H2Demand_kt\"])/np.sum(Centroid[\"H2Demand_kt\"])\n",
    "            hscResultsOPEX[\"Connector3\"]=np.sum(HSC[\"Con3\"].OPEX*Centroid[\"H2Demand_kt\"])/np.sum(Centroid[\"H2Demand_kt\"])\n",
    "            hscResultsTot[\"Connector3\"]=hscResultsTot[\"Transmission\"]+hscResults[\"Connector3\"]\n",
    "            hscResultsInvest[\"Connector3\"]=np.sum(HSC[\"Con3\"].invest)\n",
    "            hscResultsEnergy[\"Connector3\"]=HSC[\"Con3\"].getDemand()\n",
    "            #Distribution\n",
    "            HSC[\"Distribution\"]=hscFun.Truck(FuelingNew[\"H2Demand_kg_d_F\"],\n",
    "                                             FuelingNew[\"distToC\"]*weightStreetSimple,\n",
    "                                             hscName[\"Distribution\"],\n",
    "                                             dfTable,\n",
    "                                             costH2In=hscResults[\"Connector3\"])\n",
    "            FuelingNew[\"TOTEX\"]=HSC[\"Distribution\"].getTOTEX()\n",
    "            hscResults[\"Distribution\"]=np.sum(FuelingNew[\"TOTEX\"]*FuelingNew[\"H2Demand_kg_d_F\"])/np.sum(FuelingNew[\"H2Demand_kg_d_F\"])\n",
    "            hscResultsCAPEX[\"Distribution\"]=np.sum(HSC[\"Distribution\"].CAPEX*FuelingNew[\"H2Demand_kg_d_F\"])/np.sum(FuelingNew[\"H2Demand_kg_d_F\"])\n",
    "            hscResultsOPEX[\"Distribution\"]=np.sum(HSC[\"Distribution\"].OPEX*FuelingNew[\"H2Demand_kg_d_F\"])/np.sum(FuelingNew[\"H2Demand_kg_d_F\"])\n",
    "            numberOfTrucks=np.sum(HSC[\"Distribution\"].nTruck)\n",
    "            hscResultsEnergy[\"Distribution\"]=HSC[\"Distribution\"].getDemand()\n",
    "    \n",
    "    elif analysisType==\"truck\":\n",
    "        HSC[\"Con2\"]=hscFun.Connector2(Source[\"H2Production_kg_day\"],\n",
    "                                      hscName[\"Connector2\"],\n",
    "                                      dfTable,\n",
    "                                      costH2In=Source[\"storageSpecCost\"],\n",
    "                                      pressureIn=dfTable[\"Storage\"][hscName[\"Storage\"]][\"pressureOut\"],\n",
    "                                      pressureOut=dfTable[\"Transport\"][hscName[\"Distribution\"]][\"pressureIn\"],\n",
    "                                      nextStep=hscName[\"Distribution\"])\n",
    "        Source[\"con2SpecCost\"]=HSC[\"Con2\"].getTOTEX()\n",
    "        Source[\"con2Invest\"]=HSC[\"Con2\"].getInvest()\n",
    "        hscResults[\"Connector2\"]=np.sum(Source[\"con2SpecCost\"]*Source[\"H2Production_kg_day\"])/np.sum(Source[\"H2Production_kg_day\"])\n",
    "        hscResultsOPEX[\"Connector2\"]=np.sum(HSC[\"Con2\"].OPEX*Source[\"H2Production_kg_day\"])/np.sum(Source[\"H2Production_kg_day\"])\n",
    "        hscResultsCAPEX[\"Connector2\"]=np.sum(HSC[\"Con2\"].CAPEX*Source[\"H2Production_kg_day\"])/np.sum(Source[\"H2Production_kg_day\"])\n",
    "        hscResultsTot[\"Connector2\"]=hscResultsTot[\"Storage\"]+hscResults[\"Connector2\"]  \n",
    "        hscResultsInvest[\"Connector2\"]=np.sum(Source[\"con2Invest\"])\n",
    "        hscResultsEnergy[\"Connector2\"]=HSC[\"Con2\"].getDemand()\n",
    "        #Transmission\n",
    "        hscResults[\"Transmission\"]=0\n",
    "        hscResultsCAPEX[\"Transmission\"]=0\n",
    "        hscResultsOPEX[\"Transmission\"]=0\n",
    "        hscResultsTot[\"Transmission\"]=hscResultsTot[\"Connector2\"]+hscResults[\"Transmission\"]\n",
    "        hscResultsInvest[\"Transmission\"]=0\n",
    "        hscResultsEnergy[\"Transmission\"]=0\n",
    "        #Connector 3\n",
    "        hscResults[\"Connector3\"]=0\n",
    "        hscResultsCAPEX[\"Connector3\"]=0\n",
    "        hscResultsOPEX[\"Connector3\"]=0\n",
    "        hscResultsTot[\"Connector3\"]=hscResultsTot[\"Transmission\"]+hscResults[\"Connector3\"]\n",
    "        hscResultsInvest[\"Connector3\"]=0\n",
    "        hscResultsEnergy[\"Connector3\"]=0\n",
    "        #Distribution\n",
    "        HSC[\"Distribution\"]=hscFun.Truck(EdgesFinal[\"capacity\"].values*1e6/365,\n",
    "                                         EdgesFinal[\"distance\"].values*weightStreetSimple,\n",
    "                                         hscName[\"Distribution\"],\n",
    "                                         dfTable,\n",
    "                                         costH2In=hscResults[\"Transmission\"])\n",
    "        EdgesFinal[\"TOTEX\"]=HSC[\"Distribution\"].getTOTEX()\n",
    "        hscResults[\"Distribution\"]=np.sum(EdgesFinal[\"TOTEX\"]*EdgesFinal[\"capacity\"])/totalH2Demand\n",
    "        hscResultsCAPEX[\"Distribution\"]=np.sum(HSC[\"Distribution\"].CAPEX*EdgesFinal[\"capacity\"])/totalH2Demand\n",
    "        hscResultsOPEX[\"Distribution\"]=np.sum(HSC[\"Distribution\"].OPEX*EdgesFinal[\"capacity\"])/totalH2Demand\n",
    "          \n",
    "        numberOfTrucks=np.sum(HSC[\"Distribution\"].nTruck)\n",
    "        print(\"numberOfTrucks\")\n",
    "    hscResultsInvest[\"Distribution\"]=np.sum(HSC[\"Distribution\"].getInvest())\n",
    "    hscResultsTot[\"Distribution\"]=hscResultsTot[\"Transmission\"]+hscResults[\"Distribution\"]\n",
    "    hscResultsEnergy[\"Distribution\"]=HSC[\"Distribution\"].getDemand()\n",
    "    #%%\n",
    "    HSC[\"Fueling\"]=hscFun.Station(FuelingNew[\"H2Demand_kg_d_F\"], hscName[\"Fueling\"], dfTable, costH2In=hscResults[\"Distribution\"])\n",
    "    FuelingNew[\"fuelingSpecCost\"]=HSC[\"Fueling\"].getTOTEX()\n",
    "    \n",
    "    hscResults[\"Fueling\"]=np.sum(FuelingNew[\"fuelingSpecCost\"]*FuelingNew[\"H2Demand_kg_d_F\"])/np.sum(FuelingNew[\"H2Demand_kg_d_F\"])\n",
    "    hscResultsCAPEX[\"Fueling\"]=np.sum(HSC[\"Fueling\"].CAPEX*FuelingNew[\"H2Demand_kg_d_F\"])/np.sum(FuelingNew[\"H2Demand_kg_d_F\"])\n",
    "    hscResultsOPEX[\"Fueling\"]=np.sum(HSC[\"Fueling\"].OPEX*FuelingNew[\"H2Demand_kg_d_F\"])/np.sum(FuelingNew[\"H2Demand_kg_d_F\"])\n",
    "    hscResultsTot[\"Fueling\"]=hscResultsTot[\"Distribution\"]+hscResults[\"Fueling\"]  \n",
    "    hscResultsInvest[\"Fueling\"]=np.sum(HSC[\"Fueling\"].getInvest())\n",
    "    hscResultsEnergy[\"Fueling\"]=HSC[\"Fueling\"].getDemand()\n",
    "    #%%\n",
    "    hscRes=pd.DataFrame()\n",
    "    hscRes[\"spec. costs[€/kg]\"]=hscResults\n",
    "    hscRes[\"cum. costs[€/kg]\"]=hscResultsTot\n",
    "    hscRes[\"OPEX [€/kg]\"]=hscResultsOPEX\n",
    "    hscRes[\"CAPEX [€/kg]\"]=hscResultsCAPEX     \n",
    "    hscRes[\"Invest [Mrd. €]\"]=hscResultsInvest*1e-9\n",
    "    hscRes[\"Name\"]=hscName\n",
    "    hscRes[\"kilometer cost[€/km]\"]=hscResults*specificDemand\n",
    "    hscRes[\"pathway\"]=hscName[\"Transmission\"]+\"_\"+hscName[\"Distribution\"]\n",
    "    hscRes=pd.concat([hscRes, hscResultsEnergy.T],axis=1)\n",
    "    hscRes=hscRes.round(2)\n",
    "    if scenario==2:\n",
    "        powerInput=gpd.GeoDataFrame(HSC[\"Con2\"].electricityPower)\n",
    "        powerInput.columns=[\"electricityPower\"]\n",
    "        powerInput.geometry=Source.geometry\n",
    "        powerInput[\"x\"]=powerInput.geometry.map(lambda p:p.x).values\n",
    "        powerInput[\"y\"]=powerInput.geometry.map(lambda p:p.y).values\n",
    "        if analysisType==\"pipeline\":\n",
    "            powerInput.to_csv(\"20millionFCEV\"+hscName[\"Transmission\"]+hscName[\"Distribution\"]+\".csv\")\n",
    "        else:\n",
    "            powerInput.to_csv(\"20millionFCEV\"+hscName[\"Distribution\"]+\".csv\")\n",
    "    #%%  \n",
    "    #%%\n",
    "    if analysisType==\"pipeline\":\n",
    "        if hscName[\"Distribution\"]==\"Pipeline\":\n",
    "            \n",
    "            dfResults=pd.DataFrame([\"%.0f\" %(targetCars*1e-6)+ \" Mio.\",\n",
    "                                    \"%.0f\" %totalH2Demand +\" kt/year\",\n",
    "                                    \"%.0f\" %len(FuelingNew),                                    \n",
    "                                    \"%.0f\" % sum(EdgesFinal[EdgesFinal[\"distribution\"]==False][\"weightedDistance\"]) + \" km\",\n",
    "                                    \"%.0f\" % sum(EdgesFinal[EdgesFinal[\"distribution\"]][\"weightedDistance\"]) + \" km\"],\n",
    "                                   index=[\"Number of vehicles\",\n",
    "                                          \"Hydrogen demand\",\n",
    "                                          \"Fueling stations\",\n",
    "                                          \"Transmission length\",\n",
    "                                          \"Distribution length\"])\n",
    "    \n",
    "        else:\n",
    "            dfResults=pd.DataFrame([\"%.0f\" %(targetCars*1e-6)+ \" Mio.\",\n",
    "                                    \"%.0f\" %totalH2Demand +\" kt/year\",\n",
    "                                    \"%.0f\" %len(FuelingNew),                                    \n",
    "                                    \"%.0f\" % sum(EdgesFinal[EdgesFinal[\"distribution\"]==False][\"weightedDistance\"]) + \" km\",\n",
    "                                    \"%.0f\" % numberOfTrucks],\n",
    "                                   index=[\"Number of vehicles\",\n",
    "                                          \"Hydrogen demand\",\n",
    "                                          \"Fueling stations\",\n",
    "                                          \"Transmission length\",\n",
    "                                          \"Number of Trucks\"])\n",
    "    else:\n",
    "        dfResults=pd.DataFrame([\"%.0f\" %(targetCars*1e-6)+ \" Mio.\",\n",
    "                                \"%.0f\" %totalH2Demand +\" kt/year\",\n",
    "                                \"%.0f\" %len(FuelingNew),\n",
    "                                \"%.0f\" % numberOfTrucks],\n",
    "                                index=[\"Number of vehicles\",\n",
    "                                       \"Hydrogen demand\",\n",
    "                                       \"Fueling stations\",\n",
    "                                       \"Number of Trucks\"])\n",
    "    dfResults.columns=[\"Scenario Results\"]\n",
    "    #%%\n",
    "    from openpyxl import load_workbook\n",
    "    \n",
    "    #%% Plotting function\n",
    "    print(\"-------------- Plotting --------------\")\n",
    "    tic=time.time()\n",
    "    fig = plt.figure(figsize=figsize)\n",
    "    ax=fig.add_subplot(111)\n",
    "    \n",
    "    ax.set_aspect('equal')\n",
    "    pFun.plot_polygon_collection(ax=ax,\n",
    "                                 geoms=District.geometry,\n",
    "                                 colors_or_values=[bg_area for ix in District.index],\n",
    "                                 plot_values=False,\n",
    "                                 vmin=None,\n",
    "                                 vmax=None,\n",
    "                                 cmap=None,\n",
    "                                 edgecolor=bg_lines,\n",
    "                                 alpha=1)\n",
    "    varPlot=\"diameter\"\n",
    "    \n",
    "    if analysisType==\"pipeline\":\n",
    "        #if hscName[\"Distribution\"]==\"Pipeline\":\n",
    "        #    EdgesFinal[EdgesFinal[\"distribution\"]].plot(ax=ax, linewidth=1, color=(1, 1, 1), alpha = 1)\n",
    "        #else:\n",
    "        #    EdgesFtoC=gpd.GeoDataFrame(FuelingNew[\"EdgesFtoC\"].values, columns=[\"geometry\"])\n",
    "        #EdgesFtoC.plot(ax=ax, linewidth=0.5, color=\"black\", alpha =1)\n",
    "        EdgesT=EdgesFinal[EdgesFinal[\"distribution\"]==False]\n",
    "        multLineWidth=5\n",
    "        varPlot=\"diameter\"\n",
    "        rangeMax=10\n",
    "        base=1000/rangeMax\n",
    "        for i in range(rangeMax+1):\n",
    "            i_norm=i/rangeMax\n",
    "            if i == 0:\n",
    "                pFun.plotLines(EdgesT[EdgesT[varPlot]<base],\n",
    "                              ax=ax,\n",
    "                              linewidth=multLineWidth/rangeMax,\n",
    "                              color=(i_norm, 0, 0),\n",
    "                              alpha = 1,\n",
    "                              zorder=3)\n",
    "            elif i<rangeMax:\n",
    "                pFun.plotLines(EdgesT[EdgesT[varPlot].between(base*i, base*(i+1))],\n",
    "                              ax=ax,\n",
    "                              linewidth=multLineWidth*i_norm,\n",
    "                              color=(i_norm, 0, 0),\n",
    "                              alpha = 1,\n",
    "                              zorder=3)#(1, 1-i_norm, 1-i_norm)\n",
    "            else:\n",
    "                 pFun.plotLines(EdgesT[EdgesT[varPlot]>i*base],\n",
    "                               ax=ax,\n",
    "                               linewidth=multLineWidth*(i_norm),\n",
    "                               color=(i_norm, 0, 0),\n",
    "                               alpha = 1,\n",
    "                               zorder=3)  \n",
    "    \n",
    "    \n",
    "    if analysisType==\"truck\":\n",
    "        EdgesFinal[EdgesFinal[\"distribution\"]].plot(ax=ax, linewidth=0.5, color=(0, 0, 0), alpha = 1)\n",
    "        \n",
    "    plt.title(hscName[\"Storage\"] + \" \" + hscName[\"Distribution\"] + \" for \" + \"%.f\" %(targetCars*1e-6) + \" million vehicles\", fontsize=18) \n",
    "    if analysisType==\"pipeline\":\n",
    "        Centroid[Centroid[\"H2Demand_kt\"]>0].plot(ax=ax, marker=\"^\", markersize=5, color=\"yellow\")#, column=\"ID_S\")   \n",
    "    elif analysisType==\"truck\":\n",
    "        FuelingNew.plot(ax=ax, marker=\".\", markersize=1, color=\"yellow\")\n",
    "        \n",
    "    #FuelingNew.plot(ax=ax, marker=\"*\", markersize=3, color=\"yellow\")\n",
    "    Source[Source[\"H2Production_kt\"]>1e-6].plot(ax=ax, marker=\"*\", markersize=10, color=\"red\")#, column = \"ID_S\")\n",
    "    \n",
    "    ax.axis(\"off\")\n",
    "    \n",
    "    savePath=\"H2MobilityResults/Plots/\" + hscName[\"Storage\"]+\"_\"+hscName[\"Transmission\"]+\"_\"+hscName[\"Distribution\"]+\"_\" +\"%.0f\" %(targetCars*1e-6) + \".png\"\n",
    "\n",
    "    fig.savefig(savePath,\n",
    "                dpi=300,\n",
    "                edgecolor=None,\n",
    "                facecolor=\"white\",\n",
    "                frameon=False,\n",
    "                transparent = True)\n",
    "#    plt.tight_layout()\n",
    "    plt.show()\n",
    "    ##%%\n",
    "    toc=time.time()\n",
    "    print(str(toc-tic)+\" Seconds\\n\")   \n",
    "toctoc=time.time()\n",
    "print(\"total Time: \" + str(toctoc-tictic) + \" Sekunden\")"
   ]
  },
  {
   "cell_type": "code",
   "execution_count": null,
   "metadata": {
    "collapsed": false
   },
   "outputs": [],
   "source": [
    "hscRes"
   ]
  },
  {
   "cell_type": "code",
   "execution_count": null,
   "metadata": {
    "collapsed": true
   },
   "outputs": [],
   "source": []
  },
  {
   "cell_type": "code",
   "execution_count": null,
   "metadata": {
    "collapsed": true
   },
   "outputs": [],
   "source": []
  },
  {
   "cell_type": "code",
   "execution_count": null,
   "metadata": {
    "collapsed": true
   },
   "outputs": [],
   "source": []
  },
  {
   "cell_type": "code",
   "execution_count": null,
   "metadata": {
    "collapsed": true
   },
   "outputs": [],
   "source": []
  }
 ],
 "metadata": {
  "anaconda-cloud": {},
  "kernelspec": {
   "display_name": "Python [conda root]",
   "language": "python",
   "name": "conda-root-py"
  },
  "language_info": {
   "codemirror_mode": {
    "name": "ipython",
    "version": 3
   },
   "file_extension": ".py",
   "mimetype": "text/x-python",
   "name": "python",
   "nbconvert_exporter": "python",
   "pygments_lexer": "ipython3",
   "version": "3.4.5"
  }
 },
 "nbformat": 4,
 "nbformat_minor": 1
}
