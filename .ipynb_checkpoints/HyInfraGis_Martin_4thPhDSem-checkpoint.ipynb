{
 "cells": [
  {
   "cell_type": "markdown",
   "metadata": {},
   "source": [
    "# Hydrogen Infrastructure Modeling  (based on Martin Robinius PhD)"
   ]
  },
  {
   "cell_type": "markdown",
   "metadata": {},
   "source": [
    "## Frame assumptions (Scenario for infrastructure design) and hard coded inputs"
   ]
  },
  {
   "cell_type": "markdown",
   "metadata": {},
   "source": [
    "For the study, we considered 3 scenarios: 400, 1000 and 7000 fueling stations for 100,000 , 1 million and 20 million FCEV. In general, the calculation for truck or pipeline transportation is different and therefore is has to be selected before."
   ]
  },
  {
   "cell_type": "code",
   "execution_count": 1,
   "metadata": {
    "collapsed": false
   },
   "outputs": [],
   "source": [
    "analysisType=\"truck\"#truck or pipeline\n",
    "penetration=0.75\n",
    "scenario=2\n",
    "specificDemand=0.007#kg/km\n",
    "mileage=14000\n",
    "maxDistPrioFS=25#km\n",
    "priceSMR=2.\n",
    "saveResults=False\n",
    "savePlot=False"
   ]
  },
  {
   "cell_type": "markdown",
   "metadata": {},
   "source": [
    "## Frame assumptions (pathways for techno-economic analysis)"
   ]
  },
  {
   "cell_type": "code",
   "execution_count": 2,
   "metadata": {
    "collapsed": false
   },
   "outputs": [],
   "source": [
    "if analysisType==\"pipeline\":\n",
    "    hscPathways=[[\"Electrolyzer\",\"None\",\"Compressor\", \"GH2-Cavern\",\"None\",\"Compressor\",\"Pipeline\",\"Compressor\",\"GH2-Truck\",\"Gstation\"],\n",
    "                [\"Electrolyzer\",\"None\",\"Compressor\", \"GH2-Cavern\",\"None\",\"Compressor\",\"Pipeline\",\"None\",\"Pipeline\",\"PipeStation\"]]\n",
    "elif analysisType==\"truck\":\n",
    "    hscPathways=[[\"Electrolyzer\",\"None\",\"Compressor\", \"GH2-Cavern\",\"None\",\"Compressor\",\"GH2-Truck\",\"None\",\"None\",\"Gstation\"],\n",
    "                 [\"Electrolyzer\",\"None\",\"Compressor\", \"GH2-Cavern\",\"None\",\"Liquefaction\",\"LH2-Truck\",\"None\",\"None\",\"LStation\"],\n",
    "                 [\"Electrolyzer\",\"None\",\"Compressor\", \"GH2-Cavern\",\"None\",\"Hydrogenation\",\"LOHC-Truck\",\"None\",\"None\",\"LohcStationNG\"]]"
   ]
  },
  {
   "cell_type": "markdown",
   "metadata": {},
   "source": [
    "## Plotting boundaries"
   ]
  },
  {
   "cell_type": "code",
   "execution_count": null,
   "metadata": {
    "collapsed": false
   },
   "outputs": [],
   "source": []
  },
  {
   "cell_type": "code",
   "execution_count": 3,
   "metadata": {
    "collapsed": true
   },
   "outputs": [],
   "source": [
    "bg_area=(87/255, 133/255, 147/255)\n",
    "bg_lines=(99/255, 150/255, 167/255)\n",
    "figsize=(9,11)"
   ]
  },
  {
   "cell_type": "markdown",
   "metadata": {},
   "source": [
    "##  Import relevant modules"
   ]
  },
  {
   "cell_type": "code",
   "execution_count": 4,
   "metadata": {
    "collapsed": false
   },
   "outputs": [],
   "source": [
    "hscResDic={}\n",
    "import geopandas as gpd\n",
    "import os\n",
    "import networkx as nx\n",
    "import matplotlib.pyplot as plt\n",
    "import pandas as pd\n",
    "import time\n",
    "import numpy as np\n",
    "from IPython.display import display\n",
    "from shapely.geometry import Point, LineString\n",
    "#import processing as prc\n",
    "from hyInfraGisSupport import data_handling as sFun\n",
    "from hyInfraGisSupport import optiSetup as optiFun\n",
    "from hyInfraGisSupport import hsc_classes as hscFun\n",
    "from hyInfraGisSupport import aidFunctions as aFun\n",
    "from hyInfraGisSupport import plotFunctions as pFun\n",
    "from hyInfraGisSupport import hsc_total\n",
    "from matplotlib import gridspec\n",
    "\n",
    "tictic=time.time()\n",
    "\n",
    "try:\n",
    "    from shapely import speedups\n",
    "    speedups.enable()\n",
    "except:\n",
    "    print(\"speedups not available\")"
   ]
  },
  {
   "cell_type": "markdown",
   "metadata": {},
   "source": [
    "## Import Georeference Data"
   ]
  },
  {
   "cell_type": "markdown",
   "metadata": {},
   "source": [
    "### Where to get everything? --> Paths for input data"
   ]
  },
  {
   "cell_type": "code",
   "execution_count": 5,
   "metadata": {
    "collapsed": false
   },
   "outputs": [
    {
     "name": "stdout",
     "output_type": "stream",
     "text": [
      "1.5970001220703125 Seconds\n"
     ]
    }
   ],
   "source": [
    "tic=time.time()\n",
    "crs={'ellps': 'GRS80', 'no_defs': True, 'proj': 'utm', 'units': 'm', 'zone': 32}\n",
    "\n",
    "\n",
    "#%%\n",
    "path=os.getcwd() + \"\\\\dataH2Mobility\\\\\"\n",
    "pathFS = path + \"101201_Tankstellen_Einteilung_LK_Koords\\\\101201_Tankstellen_Einteilung_v2_koords_kompakt.shp\"\n",
    "pathCent = path + \"Counties.xlsx\"\n",
    "\n",
    "pathFSdata= path + \"101201Tankstellen_v2.csv\"\n",
    "pathSource = path + \"H2MobilitySources.xlsx\"\n",
    "pathDemand = path + \"H2Demand.csv\"\n",
    "pathDist= path + \"Landkreise_vg250_ETRS89_UTM32N.shp\"\n",
    "pathConversion=path+\"UmrechnungFabianMartin.xlsx\"\n",
    "#%%\n",
    "# Read Parameter from Excel File\n",
    "dfTable = pd.read_excel(path + \"ImportTablesTechnologies.xlsx\", sheetname=None)\n",
    "fabDM=True\n",
    "District = sFun.import_shp(pathDist, crs=crs, name= \"D\")\n",
    "if analysisType==\"pipeline\":\n",
    "    pathGasP = path + \"\\\\Netze\\\\110107_Koords_Punkte_auf_Gasnetz_1km\\\\110107_Koords_Punkte_auf_Gasnetz_1km.shp\"\n",
    "    NGGridPoint = sFun.import_shp(pathGasP, crs=crs, name=\"G\")\n",
    "\n",
    "toc=time.time()\n",
    "print(str(toc-tic)+\" Seconds\")"
   ]
  },
  {
   "cell_type": "markdown",
   "metadata": {},
   "source": [
    "### Import and manipulate Source, Centroid and other stuff (a lot of single manipulation needed due to different data formats as input!)"
   ]
  },
  {
   "cell_type": "code",
   "execution_count": null,
   "metadata": {
    "collapsed": false
   },
   "outputs": [],
   "source": []
  },
  {
   "cell_type": "code",
   "execution_count": 6,
   "metadata": {
    "collapsed": false
   },
   "outputs": [
    {
     "name": "stdout",
     "output_type": "stream",
     "text": [
      "Total hydrogen demand: 2931.85083024\n",
      "1.2590000629425049 Seconds\n",
      "\n"
     ]
    }
   ],
   "source": [
    "tic=time.time()\n",
    "#%%\n",
    "Source=pd.read_excel(pathSource, sheetname=\"Martin\")\n",
    "Source=gpd.GeoDataFrame(Source)\n",
    "Source.geometry=[Point((Source.loc[ix,\"LON\"], Source.loc[ix, \"LAT\"]))for ix in Source.index]\n",
    "Source.crs={'init' :'epsg:4326'}\n",
    "Source=Source.to_crs({'init' :'epsg:7416'})\n",
    "Source[\"intIndex\"]=Source.index\n",
    "Source.index=[\"S\"+str(id1) for id1 in Source[\"intIndex\"].values]\n",
    "Source[\"ID\"]=Source.index\n",
    "#%%\n",
    "Centroid=pd.read_excel(pathCent)\n",
    "Centroid=gpd.GeoDataFrame(Centroid)\n",
    "Centroid.geometry=[Point((Centroid.loc[ix,\"lkXKoor\"], Centroid.loc[ix, \"lkYKoor\"]))for ix in Centroid.index]\n",
    "Centroid.crs={'init' :'epsg:7416'}\n",
    "Centroid.index=Centroid[\"lkSchluessel\"].values\n",
    "Centroid[\"ID_KRS_BKG\"]=Centroid[\"lkSchluessel\"].values\n",
    "#%%\n",
    "ConvFabMart=pd.read_excel(pathConversion)\n",
    "ConvFabMart.index=[int(val) for val in ConvFabMart[\"old\"]]\n",
    "ConvFabMart[\"newID\"]=[int(val) for val in ConvFabMart[\"new\"]]\n",
    "#%%\n",
    "Fueling = sFun.import_shp(pathFS, crs=crs, name=\"F\")\n",
    "FuelingData = pd.read_csv(pathFSdata, delimiter=\"@\")\n",
    "FuelingData.index=Fueling.index\n",
    "#%% Copy Fueling Data to Fueling GeoDataFrame\n",
    "Fueling=Fueling.join(FuelingData, rsuffix=\"-\")\n",
    "#%%\n",
    "#Centroid[\"H2Demand_kt\"]=(Centroid[\"lkPKWBenzin\"]+Centroid[\"lkPKWDiesel\"])*penetration*mileage*specificDemand*1e-6\n",
    "Centroid[\"H2Demand_kt\"]=Centroid[\"Martin\"]/1000\n",
    "Centroid[\"intIndex\"]=list(range(len(Centroid.index)))\n",
    "Centroid[\"INDEX\"]=Centroid[\"intIndex\"].values\n",
    "Centroid.index=[\"C\"+str(id1) for id1 in Centroid[\"intIndex\"].values]\n",
    "Centroid[\"ID\"]=Centroid.index\n",
    "#%% H2 Demand\n",
    "totalH2Demand=sum(Centroid[\"H2Demand_kt\"])\n",
    "print(\"Total hydrogen demand: \"+ str(totalH2Demand))\n",
    "#%% Distribution Grid\n",
    "toc=time.time()\n",
    "print(str(toc-tic)+\" Seconds\\n\")"
   ]
  },
  {
   "cell_type": "code",
   "execution_count": 7,
   "metadata": {
    "collapsed": false
   },
   "outputs": [
    {
     "data": {
      "text/plain": [
       "2931850.8302380904"
      ]
     },
     "execution_count": 7,
     "metadata": {},
     "output_type": "execute_result"
    }
   ],
   "source": [
    "Centroid[\"Martin\"].sum()"
   ]
  },
  {
   "cell_type": "markdown",
   "metadata": {},
   "source": [
    "## Importing fueling stations"
   ]
  },
  {
   "cell_type": "code",
   "execution_count": 8,
   "metadata": {
    "collapsed": false
   },
   "outputs": [],
   "source": [
    "% matplotlib inline"
   ]
  },
  {
   "cell_type": "markdown",
   "metadata": {},
   "source": [
    "### Import of fueling data + demand calculation"
   ]
  },
  {
   "cell_type": "code",
   "execution_count": 9,
   "metadata": {
    "collapsed": false
   },
   "outputs": [
    {
     "name": "stdout",
     "output_type": "stream",
     "text": [
      "0.9709999561309814 Seconds 2\n",
      "\n"
     ]
    }
   ],
   "source": [
    "tic=time.time()\n",
    "ConvFabMart=pd.read_excel(pathConversion)\n",
    "ConvFabMart.index=[int(val) for val in ConvFabMart[\"old\"]]\n",
    "ConvFabMart[\"newID\"]=[int(val) for val in ConvFabMart[\"new\"]]\n",
    "Fueling = sFun.import_shp(pathFS, crs=crs, name=\"F\")\n",
    "FuelingData = pd.read_csv(pathFSdata, delimiter=\"@\")\n",
    "FuelingData.index=Fueling.index\n",
    "#%% Copy Fueling Data to Fueling GeoDataFrame\n",
    "Fueling=Fueling.join(FuelingData, rsuffix=\"-\")\n",
    "toc=time.time()\n",
    "print(str(toc-tic)+\" Seconds 2\\n\")\n",
    "#%% Fine\n",
    "Fueling.loc[Fueling[\"ABST_2BAHN\"]<=maxDistPrioFS,\"BAB\"] = 1\n",
    "Fueling[\"ID_KRS_BKG\"]=ConvFabMart.loc[Fueling[\"ID_KRS_BKG\"]][\"new\"].values\n",
    "Centroid.index=Centroid[\"ID_KRS_BKG\"]\n",
    "Fueling[\"ID_C\"]=Centroid.ix[Fueling[\"ID_KRS_BKG\"]][\"ID\"].values\n",
    "Centroid.index=Centroid[\"ID\"]\n",
    "#%% Add the distance to the Centroid in km\n",
    "Fueling[\"CentC\"]=Centroid.ix[Fueling[\"ID_C\"]].geometry.values\n",
    "Fueling[\"CoordsFtoC\"]=list(zip(Fueling.geometry, Fueling[\"CentC\"]))\n",
    "Fueling[\"EdgesFtoC\"]=[LineString(ix) for ix in Fueling[\"CoordsFtoC\"]]\n",
    "EdgesFtoC=gpd.GeoDataFrame(Fueling[\"EdgesFtoC\"].values, columns=[\"geometry\"], index=Fueling.index)\n",
    "Fueling[\"distToC\"]=EdgesFtoC.length/1000\n",
    "#%%\n",
    "Source[\"H2ProdCap_kt\"]=Source[\"ProdMax_t\"]/1000\n",
    "Source.loc[Source[\"H2ProdCap_kt\"]>totalH2Demand, \"H2ProdCap_kt\"]=totalH2Demand"
   ]
  },
  {
   "cell_type": "markdown",
   "metadata": {},
   "source": [
    "## Calculate minimum numbers of fueling stations"
   ]
  },
  {
   "cell_type": "markdown",
   "metadata": {},
   "source": [
    "Minimum number of fueling stations calculated by demand"
   ]
  },
  {
   "cell_type": "code",
   "execution_count": 10,
   "metadata": {
    "collapsed": false
   },
   "outputs": [
    {
     "name": "stdout",
     "output_type": "stream",
     "text": [
      "1.1410000324249268 Seconds\n",
      "\n"
     ]
    }
   ],
   "source": [
    "tic=time.time()\n",
    "targetFS=9968\n",
    "fuelingMax_kt_a=totalH2Demand/targetFS\n",
    "fuelingMax_kg_d=fuelingMax_kt_a*1e6/365\n",
    "#Centroid[\"minFS\"]=[round(Centroid[\"H2Demand_kt\"][ix]/fuelingMax_kt_a+0.5) for ix in Centroid.index]\n",
    "Centroid[\"minFS\"]=[round(Centroid[\"H2Demand_kt\"][ix]/fuelingMax_kt_a) for ix in Centroid.index]\n",
    "Centroid[\"realFS\"]=[len(Fueling[Fueling[\"ID_C\"]==ix]) for ix in Centroid.index]\n",
    "Centroid[\"highwayFS\"]=[sum(Fueling[Fueling[\"ID_C\"]==ix][\"BAB\"]) for ix in Centroid.index]\n",
    "#%%\n",
    "lowFS=Centroid[Centroid[\"minFS\"]>Centroid[\"realFS\"]].index\n",
    "Centroid.loc[lowFS,\"minFS\"] = Centroid[\"realFS\"][lowFS].values\n",
    "#%%\n",
    "Centroid[\"H2Demand_kt_F\"]= Centroid[\"H2Demand_kt\"]/Centroid[\"minFS\"]\n",
    "Centroid.loc[Centroid[\"minFS\"]==0,\"H2Demand_kt_F\"]=0\n",
    "toc=time.time()\n",
    "print(str(toc-tic)+\" Seconds\\n\")"
   ]
  },
  {
   "cell_type": "markdown",
   "metadata": {},
   "source": [
    "## Sorting fueling stations"
   ]
  },
  {
   "cell_type": "markdown",
   "metadata": {},
   "source": [
    "Sorting by BAB (Highway fueling stations) --> Area (urban or rural) --> ID (order of appearance)"
   ]
  },
  {
   "cell_type": "code",
   "execution_count": 11,
   "metadata": {
    "collapsed": false
   },
   "outputs": [
    {
     "name": "stdout",
     "output_type": "stream",
     "text": [
      "9682.0 Tankstellen, davon 385 Autobahntankstellen\n"
     ]
    }
   ],
   "source": [
    "tic=time.time()\n",
    "# ## Sort by highway fueling stations (1st order) and city level (2nd order)\n",
    "FuelingSorted=Fueling.sort_values(by=[\"BAB\",\"GEBIET\",\"ID_TS\"],ascending=[False,False, True])\n",
    "print(str(sum(Centroid[\"minFS\"])) + \" Tankstellen, davon \" + str(sum(Centroid[\"highwayFS\"])) + \" Autobahntankstellen\")\n",
    "#%%\n",
    "### city level weight factors ###\n",
    "weightFtoF=pd.Series([1., 1.25, 1.25, 1.5, 1.5, 1.5, 1.75, 1.75, 2.],\n",
    "                     index=[\"1to1\",\"1to2\",\"2to1\",\"2to2\",\"1to3\",\"3to1\",\"2to3\",\"3to2\",\"3to3\"])"
   ]
  },
  {
   "cell_type": "markdown",
   "metadata": {},
   "source": [
    "final fueling stations are not directly the number of target fueling stations --> Rounding of decimals!"
   ]
  },
  {
   "cell_type": "markdown",
   "metadata": {},
   "source": [
    "## Prepare Distance Matrices"
   ]
  },
  {
   "cell_type": "markdown",
   "metadata": {},
   "source": [
    "For pipeline: different matrices necessary --> potential network + weight factor!"
   ]
  },
  {
   "cell_type": "code",
   "execution_count": 12,
   "metadata": {
    "collapsed": false
   },
   "outputs": [
    {
     "name": "stdout",
     "output_type": "stream",
     "text": [
      "16.47099995613098 Seconds\n",
      "\n"
     ]
    }
   ],
   "source": [
    "tic=time.time()\n",
    "#Nearest Neighbours\n",
    "kNN=10\n",
    "#Prepare coordinates\n",
    "if analysisType==\"pipeline\":\n",
    "    Coords=Centroid.geometry.append(Source.geometry).append(NGGridPoint.geometry).append(Fueling.geometry)\n",
    "elif analysisType==\"truck\":\n",
    "    Coords=Source.geometry.append(Fueling.geometry)\n",
    "CoordsTotal=pd.DataFrame(Coords,index=Coords.index.values)\n",
    "CoordsTotal[\"coordinates\"]=pd.Series(sFun.point_array(Coords), index=Coords.index)\n",
    "#%%\n",
    "# Calculation distance Matrices\n",
    "if analysisType==\"pipeline\":\n",
    "    # Weight factors\n",
    "    weightStoG=1.5\n",
    "    weightCtoC=2.\n",
    "    weightStoC=2.\n",
    "    weightCtoG=1.5\n",
    "    weightGtoG=1.\n",
    "    #distance Matrices\n",
    "    distCtoC=sFun.selfDistMatrix(Centroid, weight=weightCtoC, kNN=20)\n",
    "    distGtoG=sFun.selfDistMatrix(NGGridPoint, weight=weightGtoG, kNN=10)\n",
    "    distCtoG=sFun.distMatrix(Centroid, NGGridPoint, weight=weightCtoG, kNN=20)\n",
    "    distStoG=sFun.distMatrix(Source, NGGridPoint, weight=weightStoG, kNN=20)\n",
    "    distStoC=sFun.distMatrix(Source, Centroid, weight=weightStoC, kNN=20)\n",
    "    distStoS=sFun.selfDistMatrix(Source, weight=weightStoC, kNN=kNN)\n",
    "    distFtoF=gpd.GeoDataFrame(columns=distCtoC.columns)\n",
    "    distTotal=distCtoC.append(distGtoG).append(distCtoG).append(distStoG).append(distStoC).append(distStoS)\n",
    "toc=time.time()\n",
    "print(str(toc-tic)+\" Seconds\\n\")\n",
    "#%%"
   ]
  },
  {
   "cell_type": "markdown",
   "metadata": {},
   "source": [
    "## Selecting fueling stations"
   ]
  },
  {
   "cell_type": "markdown",
   "metadata": {},
   "source": [
    "The actual selection of fueling stations is working like such: It's searching for each centroid (county) for its minimum number of fueling stations and adds this number of fueling stations. Within this calculation, the algorithm directly creates the distance matrix between the fueling stations inside a county. (open for functionality imporovements)"
   ]
  },
  {
   "cell_type": "code",
   "execution_count": 13,
   "metadata": {
    "collapsed": false
   },
   "outputs": [
    {
     "name": "stdout",
     "output_type": "stream",
     "text": [
      "10.813999891281128 Seconds\n",
      "\n"
     ]
    }
   ],
   "source": [
    "FuelingNew=gpd.GeoDataFrame(columns=Fueling.columns)\n",
    "tic=time.time()\n",
    "listInID=[]\n",
    "listTarID=[]\n",
    "listDistance=[]\n",
    "listFull=[]\n",
    "\n",
    "FuelingSorted[\"coords\"]=sFun.point_array(FuelingSorted)\n",
    "for ix in Centroid.index:\n",
    "    if Centroid[\"minFS\"][ix]==0:\n",
    "        continue\n",
    "    listF=list(FuelingSorted[FuelingSorted[\"ID_C\"]==ix].head(int(Centroid[\"minFS\"][ix]))[\"ID\"])\n",
    "    listCoords=list(FuelingSorted[FuelingSorted[\"ID_C\"]==ix].head(int(Centroid[\"minFS\"][ix]))[\"coords\"])\n",
    "    listFull.extend(listF)\n",
    "#    FuelingNew=FuelingNew.append(dfNew)\n",
    "    if analysisType==\"pipeline\":\n",
    "    #        Distance Matrix inside a Centroid for getting the Minimum Spanning Tree\n",
    "    #        distFtoFperC=sFun.selfDistMatrixFueling(dfNew, weightFtoF)\n",
    "        (inID, outID, distance) = sFun.selfDistMatrixFueling(listF, listCoords)\n",
    "        listInID.extend(inID)\n",
    "        listTarID.extend(outID)\n",
    "        listDistance.extend(distance)\n",
    "FuelingNew=Fueling.ix[listFull]\n",
    "if analysisType==\"pipeline\":\n",
    "    distFtoF=pd.DataFrame([listInID,\n",
    "                           listTarID,\n",
    "                           listDistance],\n",
    "                          index=[\"inputID\",\n",
    "                                 \"targetID\",                              \n",
    "                                 \"distance\"]).T\n",
    "    distFtoF=distFtoF[distFtoF.inputID != distFtoF.targetID]\n",
    "    distFtoF[\"inputArea\"]=FuelingNew.loc[distFtoF[\"inputID\"].values,\"GEBIET\"].values\n",
    "    distFtoF[\"targetArea\"]=FuelingNew.loc[distFtoF[\"targetID\"].values,\"GEBIET\"].values\n",
    "    distFtoF[\"weightID\"]=[str(distFtoF[\"inputArea\"][ix])+\"to\"+str(distFtoF[\"targetArea\"][ix]) for ix in distFtoF.index]\n",
    "    distFtoF[\"weightedDistance\"]=weightFtoF[distFtoF[\"weightID\"]].values*distFtoF[\"distance\"]\n",
    "toc=time.time()\n",
    "print(str(toc-tic)+\" Seconds\\n\")"
   ]
  },
  {
   "cell_type": "code",
   "execution_count": 14,
   "metadata": {
    "collapsed": false
   },
   "outputs": [
    {
     "data": {
      "text/plain": [
       "2931.8508302380883"
      ]
     },
     "execution_count": 14,
     "metadata": {},
     "output_type": "execute_result"
    }
   ],
   "source": [
    "Centroid.H2Demand_kt.sum()"
   ]
  },
  {
   "cell_type": "markdown",
   "metadata": {},
   "source": [
    "## Manipulating the new stations and the final informations for the network approach"
   ]
  },
  {
   "cell_type": "code",
   "execution_count": 15,
   "metadata": {
    "collapsed": false
   },
   "outputs": [
    {
     "name": "stdout",
     "output_type": "stream",
     "text": [
      "14.541000127792358 Seconds\n",
      "\n"
     ]
    }
   ],
   "source": [
    "tic=time.time()\n",
    "\n",
    "FuelingNew[\"intIndex\"]=FuelingNew[\"intIndex\"].values.astype(int)\n",
    "FuelingNew.intIndex=[x for x, item in enumerate(FuelingNew.index)]\n",
    "weightStreetSimple=1.3\n",
    "if analysisType==\"truck\":\n",
    "    distFtoS=sFun.distMatrix(FuelingNew, Source, weight=weightStreetSimple, kNN=len(Source.geometry))\n",
    "    distTotal=distFtoS\n",
    "elif analysisType==\"pipeline\":\n",
    "    distTotal=distTotal.append(distFtoF)\n",
    "#%%\n",
    "FuelingNew[\"areaID\"]=[str(int(FuelingNew[\"GEBIET\"][ix]))+\"to1\" for ix in FuelingNew.index]\n",
    "FuelingNew[\"weightedLength\"]=[weightFtoF[FuelingNew[\"areaID\"][ix]]*FuelingNew[\"distToC\"][ix] for ix in FuelingNew.index]\n",
    "FuelingNew[\"H2Demand_kt_F\"]=[Centroid.loc[ID_C, \"H2Demand_kt_F\"] for ID_C in FuelingNew[\"ID_C\"]]\n",
    "FuelingNew[\"H2Demand_kg_d_F\"]=FuelingNew[\"H2Demand_kt_F\"]*1e6/365\n",
    "\n",
    "toc=time.time()\n",
    "print(str(toc-tic)+\" Seconds\\n\")"
   ]
  },
  {
   "cell_type": "markdown",
   "metadata": {},
   "source": [
    "## preparing NetworkX for distribution"
   ]
  },
  {
   "cell_type": "markdown",
   "metadata": {},
   "source": [
    "Initializing the graph and adding nodes/edges with empty capacity, maximum production, real production and real demand. Afterwards, we apply the maximum capacity and the demand of the fueling stations to the nodes."
   ]
  },
  {
   "cell_type": "code",
   "execution_count": 26,
   "metadata": {
    "collapsed": false
   },
   "outputs": [
    {
     "name": "stdout",
     "output_type": "stream",
     "text": [
      "1.5339999198913574 Seconds\n",
      "\n"
     ]
    }
   ],
   "source": [
    "tic=time.time()\n",
    "# ## Import to NetworkX for minimum spanning tree\n",
    "G_total=optiFun.PipeNetWork()\n",
    "G_total.add_weighted_edges_from(list(zip(distTotal[\"inputID\"], distTotal[\"targetID\"], distTotal[\"weightedDistance\"])),\n",
    "                                capacity=0)\n",
    "if analysisType==\"pipeline\":\n",
    "    G_total.add_weighted_edges_from(list(zip(FuelingNew.index, FuelingNew.ID_C, FuelingNew.weightedLength)),\n",
    "                                    capacity=0)\n",
    "G_total.add_nodes_from(nodes = G_total.nodes(),\n",
    "                       productionMax = 0,\n",
    "                       production = 0,\n",
    "                       demand = 0)\n",
    "\n",
    "nx.set_node_attributes(G_total, \"productionMax\", Source.H2ProdCap_kt.to_dict())\n",
    "nx.set_node_attributes(G_total, \"demand\", FuelingNew[\"H2Demand_kt_F\"].to_dict())\n",
    "\n",
    "if analysisType==\"pipeline\":\n",
    "    G_total.useMinSpanTree(weight=\"weight\")\n",
    "toc=time.time()\n",
    "print(str(toc-tic)+\" Seconds\\n\")\n"
   ]
  },
  {
   "cell_type": "code",
   "execution_count": 27,
   "metadata": {
    "collapsed": false
   },
   "outputs": [
    {
     "data": {
      "text/plain": [
       "3063.5336134453773"
      ]
     },
     "execution_count": 27,
     "metadata": {},
     "output_type": "execute_result"
    }
   ],
   "source": [
    "Source.H2ProdCap_kt.sum()"
   ]
  },
  {
   "cell_type": "code",
   "execution_count": 28,
   "metadata": {
    "collapsed": false
   },
   "outputs": [
    {
     "data": {
      "text/plain": [
       "9682"
      ]
     },
     "execution_count": 28,
     "metadata": {},
     "output_type": "execute_result"
    }
   ],
   "source": [
    "len(FuelingNew)"
   ]
  },
  {
   "cell_type": "markdown",
   "metadata": {},
   "source": [
    "## Initialize Optimization Problem"
   ]
  },
  {
   "cell_type": "code",
   "execution_count": 29,
   "metadata": {
    "collapsed": false
   },
   "outputs": [
    {
     "name": "stdout",
     "output_type": "stream",
     "text": [
      "2.2230000495910645 Seconds\n",
      "\n"
     ]
    }
   ],
   "source": [
    "tic=time.time()\n",
    "if analysisType==\"pipeline\":\n",
    "    G_total.initOpti(linear=True)\n",
    "elif analysisType==\"truck\":\n",
    "    G_total.initOptiTruck()\n",
    "toc=time.time()\n",
    "print(str(toc-tic)+\" Seconds\\n\")"
   ]
  },
  {
   "cell_type": "markdown",
   "metadata": {},
   "source": [
    "## Solve Optimization"
   ]
  },
  {
   "cell_type": "code",
   "execution_count": 30,
   "metadata": {
    "collapsed": false
   },
   "outputs": [
    {
     "name": "stdout",
     "output_type": "stream",
     "text": [
      "Parameter LogToConsole unchanged\n",
      "   Value: 1  Min: 0  Max: 1  Default: 1\n",
      "Changed value of parameter MIPgap to 0.005\n",
      "   Prev: 0.0001  Min: 0.0  Max: 1e+100  Default: 0.0001\n",
      "Changed value of parameter logfile to Optimization.log\n",
      "   Prev: gurobi.log  Default: \n",
      "Changed value of parameter threads to 7\n",
      "   Prev: 0  Min: 0  Max: 1024  Default: 0\n",
      "Changed value of parameter timeLimit to 1000.0\n",
      "   Prev: 1e+100  Min: 0.0  Max: 1e+100  Default: 1e+100\n",
      "Optimize a model with 60303 rows, 80402 columns and 180903 nonzeros\n",
      "Coefficient statistics:\n",
      "  Matrix range     [1e+00, 1e+00]\n",
      "  Objective range  [1e-03, 7e+01]\n",
      "  Bounds range     [0e+00, 0e+00]\n",
      "  RHS range        [3e-01, 5e+02]\n",
      "\n",
      "Concurrent LP optimizer: primal simplex, dual simplex, and barrier\n",
      "Showing barrier log only...\n",
      "\n",
      "Presolve removed 49878 rows and 60175 columns\n",
      "Presolve time: 0.17s\n",
      "Presolved: 10425 rows, 20227 columns, 40439 nonzeros\n",
      "\n",
      "Ordering time: 0.00s\n",
      "\n",
      "Barrier statistics:\n",
      " AA' NZ     : 1.042e+04\n",
      " Factor NZ  : 1.512e+05 (roughly 14 MBytes of memory)\n",
      " Factor Ops : 2.920e+06 (less than 1 second per iteration)\n",
      " Threads    : 5\n",
      "\n",
      "                  Objective                Residual\n",
      "Iter       Primal          Dual         Primal    Dual     Compl     Time\n",
      "   0   7.81111541e+07  5.00408636e+04  6.76e+03 1.42e-14  5.02e+03     0s\n",
      "   1   3.36445575e+07  5.76138983e+05  2.42e+03 1.17e-13  1.50e+03     0s\n",
      "   2   1.83518875e+07  9.98910030e+05  1.19e+03 1.91e-13  7.90e+02     0s\n",
      "   3   7.97595953e+06  1.32108463e+06  4.51e+02 1.55e-13  3.04e+02     0s\n",
      "   4   5.31845658e+06  1.43996348e+06  2.63e+02 1.63e-13  1.77e+02     0s\n",
      "   5   4.83878436e+06  1.59302871e+06  2.29e+02 1.89e-13  1.49e+02     0s\n",
      "   6   3.36382211e+06  1.63983657e+06  1.19e+02 4.28e-12  7.92e+01     0s\n",
      "   7   3.27823276e+06  1.69679856e+06  1.13e+02 4.97e-13  7.26e+01     0s\n",
      "   8   2.52544391e+06  1.74295889e+06  5.61e+01 4.43e-12  3.61e+01     0s\n",
      "   9   2.19795330e+06  1.78824094e+06  3.02e+01 1.26e-11  1.91e+01     0s\n",
      "  10   2.13369155e+06  1.81634194e+06  2.47e+01 5.53e-12  1.48e+01     0s\n",
      "  11   1.87790465e+06  1.82887587e+06  2.50e+00 2.91e-12  2.33e+00     0s\n",
      "  12   1.84800171e+06  1.84203796e+06  2.89e-01 2.77e-12  2.84e-01     0s\n",
      "  13   1.84447811e+06  1.84387907e+06  3.63e-02 7.79e-12  2.82e-02     0s\n",
      "  14   1.84399402e+06  1.84395131e+06  2.73e-03 8.92e-12  2.00e-03     0s\n",
      "  15   1.84395287e+06  1.84395283e+06  5.90e-08 2.25e-13  2.29e-06     0s\n",
      "  16   1.84395283e+06  1.84395283e+06  6.69e-10 2.23e-13  4.33e-09     0s\n",
      "\n",
      "Barrier solved model in 16 iterations and 0.33 seconds\n",
      "Optimal objective 1.84395283e+06\n",
      "\n",
      "Crossover log...\n",
      "\n",
      "       0 DPushes remaining with DInf 1.1022294e-12                 0s\n",
      "\n",
      "       0 PPushes remaining with PInf 0.0000000e+00                 0s\n",
      "\n",
      "  Push phase complete: Pinf 0.0000000e+00, Dinf 1.1022294e-12      0s\n",
      "\n",
      "Iteration    Objective       Primal Inf.    Dual Inf.      Time\n",
      "     711    1.8439528e+06   0.000000e+00   0.000000e+00      0s\n",
      "     711    1.8439528e+06   0.000000e+00   0.000000e+00      0s\n",
      "\n",
      "Solved with barrier\n",
      "Solved in 711 iterations and 0.39 seconds\n",
      "Optimal objective  1.843952834e+06\n",
      "5.13100004196167 Seconds\n",
      "\n"
     ]
    }
   ],
   "source": [
    "tic=time.time()\n",
    "G_total.optModel()\n",
    "toc=time.time()\n",
    "print(str(toc-tic)+\" Seconds\\n\")"
   ]
  },
  {
   "cell_type": "markdown",
   "metadata": {},
   "source": [
    "## Postprocessing"
   ]
  },
  {
   "cell_type": "code",
   "execution_count": 31,
   "metadata": {
    "collapsed": false
   },
   "outputs": [
    {
     "name": "stdout",
     "output_type": "stream",
     "text": [
      "15.606000185012817 Seconds\n",
      "\n"
     ]
    }
   ],
   "source": [
    "tic=time.time()\n",
    "NodesFinal=G_total.getProductionNodes()\n",
    "EdgesFinal=G_total.getEdgesAsGpd(CoordsTotal, analysisType)\n",
    "#%%\n",
    "Source[\"H2Production_kt\"]=NodesFinal\n",
    "Source[\"H2Production_kg_day\"]=Source[\"H2Production_kt\"]*1e6/365\n",
    "toc=time.time()\n",
    "print(str(toc-tic)+\" Seconds\\n\")\n",
    "targetCars=1"
   ]
  },
  {
   "cell_type": "markdown",
   "metadata": {},
   "source": [
    "# techno-economic analysis"
   ]
  },
  {
   "cell_type": "code",
   "execution_count": 32,
   "metadata": {
    "collapsed": false
   },
   "outputs": [],
   "source": [
    "ix=0.\n",
    "Results={}\n",
    "stationCost=np.ceil(aFun.getFuelingStationInvest(len(FuelingNew), 1000,scale=0.77, I0=700000)/1e4)*1e4\n",
    "dfTable[\"Station\"].loc[\"stationInvest\",:]=stationCost\n",
    "dfTable[\"General\"].loc[\"op. Hours RES\", \"General\"]=5300\n",
    "plotting=True\n",
    "savePlot=False"
   ]
  },
  {
   "cell_type": "code",
   "execution_count": 33,
   "metadata": {
    "collapsed": false
   },
   "outputs": [
    {
     "name": "stdout",
     "output_type": "stream",
     "text": [
      "15.641000032424927 Seconds\n",
      "\n"
     ]
    }
   ],
   "source": [
    "Source[\"H2Production_kt\"]=NodesFinal\n",
    "Source[\"H2Production_kg_day\"]=Source[\"H2Production_kt\"]*1e6/365\n",
    "\n",
    "toc=time.time()\n",
    "print(str(toc-tic)+\" Seconds\\n\")\n",
    "listHSC=[]\n",
    "\n",
    "if analysisType==\"truck\":\n",
    "    pipelineDistance=0\n",
    "    truckDistance=[EdgesFinal[\"distance\"].values*weightStreetSimple,0]    \n",
    "else:\n",
    "    pipelineDistance=[EdgesFinal[EdgesFinal[\"distribution\"]==False],\n",
    "                      EdgesFinal[EdgesFinal[\"distribution\"]]]\n",
    "    truckDistance=[0,\n",
    "                   FuelingNew[\"distToC\"]*weightStreetSimple]\n",
    "\n",
    "listCapacities=[Source[\"H2Production_kg_day\"],\n",
    "                Source[\"H2Production_kg_day\"],\n",
    "                Source[\"H2Production_kg_day\"],\n",
    "                Source[\"H2Production_kg_day\"],\n",
    "                Source[\"H2Production_kg_day\"],\n",
    "                Source[\"H2Production_kg_day\"],\n",
    "                EdgesFinal[\"capacity\"].values*1e6/365,\n",
    "                Centroid[\"H2Demand_kt\"]*1e6/365,\n",
    "                FuelingNew[\"H2Demand_kg_d_F\"],\n",
    "                FuelingNew[\"H2Demand_kg_d_F\"]]"
   ]
  },
  {
   "cell_type": "code",
   "execution_count": 34,
   "metadata": {
    "collapsed": false
   },
   "outputs": [
    {
     "name": "stdout",
     "output_type": "stream",
     "text": [
      "-------------- Preparing total Analysis --------------\n"
     ]
    },
    {
     "data": {
      "text/html": [
       "<div>\n",
       "<table border=\"1\" class=\"dataframe\">\n",
       "  <thead>\n",
       "    <tr style=\"text-align: right;\">\n",
       "      <th></th>\n",
       "      <th>TOTEX</th>\n",
       "      <th>CAPEX</th>\n",
       "      <th>fixOPEX</th>\n",
       "      <th>varOPEX</th>\n",
       "      <th>invest</th>\n",
       "      <th>cumCost</th>\n",
       "      <th>technology</th>\n",
       "      <th>nTrucks</th>\n",
       "      <th>pipeLength</th>\n",
       "      <th>Loss</th>\n",
       "      <th>electricityRES</th>\n",
       "      <th>electricityGrid</th>\n",
       "      <th>NaturalGas</th>\n",
       "      <th>Diesel</th>\n",
       "    </tr>\n",
       "  </thead>\n",
       "  <tbody>\n",
       "    <tr>\n",
       "      <th>Production</th>\n",
       "      <td>3.7002</td>\n",
       "      <td>0.6695</td>\n",
       "      <td>0.1348</td>\n",
       "      <td>2.8960</td>\n",
       "      <td>1.317010e+10</td>\n",
       "      <td>3.7002</td>\n",
       "      <td>Electrolyzer</td>\n",
       "      <td>0.0000</td>\n",
       "      <td>0.0000</td>\n",
       "      <td>0.0000</td>\n",
       "      <td>47.6000</td>\n",
       "      <td>0.0000</td>\n",
       "      <td>0.0</td>\n",
       "      <td>0.0000</td>\n",
       "    </tr>\n",
       "    <tr>\n",
       "      <th>Connector1</th>\n",
       "      <td>0.0000</td>\n",
       "      <td>0.0000</td>\n",
       "      <td>0.0000</td>\n",
       "      <td>0.0000</td>\n",
       "      <td>0.000000e+00</td>\n",
       "      <td>3.7002</td>\n",
       "      <td>None</td>\n",
       "      <td>0.0000</td>\n",
       "      <td>0.0000</td>\n",
       "      <td>1.0000</td>\n",
       "      <td>0.0000</td>\n",
       "      <td>0.0000</td>\n",
       "      <td>0.0</td>\n",
       "      <td>0.0000</td>\n",
       "    </tr>\n",
       "    <tr>\n",
       "      <th>Connector2</th>\n",
       "      <td>0.0343</td>\n",
       "      <td>0.0107</td>\n",
       "      <td>0.0037</td>\n",
       "      <td>0.0200</td>\n",
       "      <td>2.677700e+08</td>\n",
       "      <td>3.7345</td>\n",
       "      <td>Compressor</td>\n",
       "      <td>0.0000</td>\n",
       "      <td>0.0000</td>\n",
       "      <td>1.0015</td>\n",
       "      <td>0.2401</td>\n",
       "      <td>0.0000</td>\n",
       "      <td>0.0</td>\n",
       "      <td>0.0000</td>\n",
       "    </tr>\n",
       "    <tr>\n",
       "      <th>Storage</th>\n",
       "      <td>0.1340</td>\n",
       "      <td>0.1093</td>\n",
       "      <td>0.0246</td>\n",
       "      <td>0.0000</td>\n",
       "      <td>3.609182e+09</td>\n",
       "      <td>3.8685</td>\n",
       "      <td>GH2-Cavern</td>\n",
       "      <td>0.0000</td>\n",
       "      <td>0.0000</td>\n",
       "      <td>1.0000</td>\n",
       "      <td>0.0000</td>\n",
       "      <td>0.0000</td>\n",
       "      <td>0.0</td>\n",
       "      <td>0.0000</td>\n",
       "    </tr>\n",
       "    <tr>\n",
       "      <th>Connector3</th>\n",
       "      <td>0.0000</td>\n",
       "      <td>0.0000</td>\n",
       "      <td>0.0000</td>\n",
       "      <td>0.0000</td>\n",
       "      <td>0.000000e+00</td>\n",
       "      <td>3.8685</td>\n",
       "      <td>None</td>\n",
       "      <td>0.0000</td>\n",
       "      <td>0.0000</td>\n",
       "      <td>1.0000</td>\n",
       "      <td>0.0000</td>\n",
       "      <td>0.0000</td>\n",
       "      <td>0.0</td>\n",
       "      <td>0.0000</td>\n",
       "    </tr>\n",
       "    <tr>\n",
       "      <th>Connector4</th>\n",
       "      <td>0.0421</td>\n",
       "      <td>0.0051</td>\n",
       "      <td>0.0017</td>\n",
       "      <td>0.0352</td>\n",
       "      <td>1.282444e+08</td>\n",
       "      <td>3.9106</td>\n",
       "      <td>Compressor</td>\n",
       "      <td>0.0000</td>\n",
       "      <td>0.0000</td>\n",
       "      <td>1.0050</td>\n",
       "      <td>0.0000</td>\n",
       "      <td>0.2389</td>\n",
       "      <td>0.0</td>\n",
       "      <td>0.0000</td>\n",
       "    </tr>\n",
       "    <tr>\n",
       "      <th>Transport1</th>\n",
       "      <td>0.2904</td>\n",
       "      <td>0.1966</td>\n",
       "      <td>0.0938</td>\n",
       "      <td>0.0000</td>\n",
       "      <td>6.874466e+09</td>\n",
       "      <td>4.2010</td>\n",
       "      <td>Pipeline</td>\n",
       "      <td>0.0000</td>\n",
       "      <td>12072.0667</td>\n",
       "      <td>1.0000</td>\n",
       "      <td>0.0000</td>\n",
       "      <td>0.0000</td>\n",
       "      <td>0.0</td>\n",
       "      <td>0.0000</td>\n",
       "    </tr>\n",
       "    <tr>\n",
       "      <th>Connector5</th>\n",
       "      <td>0.1937</td>\n",
       "      <td>0.0591</td>\n",
       "      <td>0.0202</td>\n",
       "      <td>0.1143</td>\n",
       "      <td>1.483450e+09</td>\n",
       "      <td>4.3946</td>\n",
       "      <td>Compressor</td>\n",
       "      <td>0.0000</td>\n",
       "      <td>0.0000</td>\n",
       "      <td>1.0050</td>\n",
       "      <td>0.0000</td>\n",
       "      <td>1.1048</td>\n",
       "      <td>0.0</td>\n",
       "      <td>0.0000</td>\n",
       "    </tr>\n",
       "    <tr>\n",
       "      <th>Transport2</th>\n",
       "      <td>0.3458</td>\n",
       "      <td>0.1871</td>\n",
       "      <td>0.1446</td>\n",
       "      <td>0.0140</td>\n",
       "      <td>3.898030e+09</td>\n",
       "      <td>4.7404</td>\n",
       "      <td>GH2-Truck</td>\n",
       "      <td>4753.6948</td>\n",
       "      <td>0.0000</td>\n",
       "      <td>1.0000</td>\n",
       "      <td>0.0000</td>\n",
       "      <td>0.0000</td>\n",
       "      <td>0.0</td>\n",
       "      <td>0.0978</td>\n",
       "    </tr>\n",
       "    <tr>\n",
       "      <th>Station</th>\n",
       "      <td>1.6369</td>\n",
       "      <td>1.0680</td>\n",
       "      <td>0.3583</td>\n",
       "      <td>0.2107</td>\n",
       "      <td>2.100994e+10</td>\n",
       "      <td>6.3774</td>\n",
       "      <td>Gstation</td>\n",
       "      <td>0.0000</td>\n",
       "      <td>0.0000</td>\n",
       "      <td>1.0050</td>\n",
       "      <td>0.0000</td>\n",
       "      <td>1.9000</td>\n",
       "      <td>0.0</td>\n",
       "      <td>0.0000</td>\n",
       "    </tr>\n",
       "  </tbody>\n",
       "</table>\n",
       "</div>"
      ],
      "text/plain": [
       "             TOTEX   CAPEX  fixOPEX  varOPEX        invest  cumCost  \\\n",
       "Production  3.7002  0.6695   0.1348   2.8960  1.317010e+10   3.7002   \n",
       "Connector1  0.0000  0.0000   0.0000   0.0000  0.000000e+00   3.7002   \n",
       "Connector2  0.0343  0.0107   0.0037   0.0200  2.677700e+08   3.7345   \n",
       "Storage     0.1340  0.1093   0.0246   0.0000  3.609182e+09   3.8685   \n",
       "Connector3  0.0000  0.0000   0.0000   0.0000  0.000000e+00   3.8685   \n",
       "Connector4  0.0421  0.0051   0.0017   0.0352  1.282444e+08   3.9106   \n",
       "Transport1  0.2904  0.1966   0.0938   0.0000  6.874466e+09   4.2010   \n",
       "Connector5  0.1937  0.0591   0.0202   0.1143  1.483450e+09   4.3946   \n",
       "Transport2  0.3458  0.1871   0.1446   0.0140  3.898030e+09   4.7404   \n",
       "Station     1.6369  1.0680   0.3583   0.2107  2.100994e+10   6.3774   \n",
       "\n",
       "              technology    nTrucks  pipeLength    Loss  electricityRES  \\\n",
       "Production  Electrolyzer     0.0000      0.0000  0.0000         47.6000   \n",
       "Connector1          None     0.0000      0.0000  1.0000          0.0000   \n",
       "Connector2    Compressor     0.0000      0.0000  1.0015          0.2401   \n",
       "Storage       GH2-Cavern     0.0000      0.0000  1.0000          0.0000   \n",
       "Connector3          None     0.0000      0.0000  1.0000          0.0000   \n",
       "Connector4    Compressor     0.0000      0.0000  1.0050          0.0000   \n",
       "Transport1      Pipeline     0.0000  12072.0667  1.0000          0.0000   \n",
       "Connector5    Compressor     0.0000      0.0000  1.0050          0.0000   \n",
       "Transport2     GH2-Truck  4753.6948      0.0000  1.0000          0.0000   \n",
       "Station         Gstation     0.0000      0.0000  1.0050          0.0000   \n",
       "\n",
       "            electricityGrid  NaturalGas  Diesel  \n",
       "Production           0.0000         0.0  0.0000  \n",
       "Connector1           0.0000         0.0  0.0000  \n",
       "Connector2           0.0000         0.0  0.0000  \n",
       "Storage              0.0000         0.0  0.0000  \n",
       "Connector3           0.0000         0.0  0.0000  \n",
       "Connector4           0.2389         0.0  0.0000  \n",
       "Transport1           0.0000         0.0  0.0000  \n",
       "Connector5           1.1048         0.0  0.0000  \n",
       "Transport2           0.0000         0.0  0.0978  \n",
       "Station              1.9000         0.0  0.0000  "
      ]
     },
     "metadata": {},
     "output_type": "display_data"
    },
    {
     "name": "stdout",
     "output_type": "stream",
     "text": [
      "-------------- Preparing total Analysis --------------\n"
     ]
    },
    {
     "data": {
      "text/html": [
       "<div>\n",
       "<table border=\"1\" class=\"dataframe\">\n",
       "  <thead>\n",
       "    <tr style=\"text-align: right;\">\n",
       "      <th></th>\n",
       "      <th>TOTEX</th>\n",
       "      <th>CAPEX</th>\n",
       "      <th>fixOPEX</th>\n",
       "      <th>varOPEX</th>\n",
       "      <th>invest</th>\n",
       "      <th>cumCost</th>\n",
       "      <th>technology</th>\n",
       "      <th>nTrucks</th>\n",
       "      <th>pipeLength</th>\n",
       "      <th>Loss</th>\n",
       "      <th>electricityRES</th>\n",
       "      <th>electricityGrid</th>\n",
       "      <th>NaturalGas</th>\n",
       "      <th>Diesel</th>\n",
       "    </tr>\n",
       "  </thead>\n",
       "  <tbody>\n",
       "    <tr>\n",
       "      <th>Production</th>\n",
       "      <td>3.7002</td>\n",
       "      <td>0.6695</td>\n",
       "      <td>0.1348</td>\n",
       "      <td>2.8960</td>\n",
       "      <td>1.317010e+10</td>\n",
       "      <td>3.7002</td>\n",
       "      <td>Electrolyzer</td>\n",
       "      <td>0</td>\n",
       "      <td>0.0000</td>\n",
       "      <td>0.0000</td>\n",
       "      <td>47.6000</td>\n",
       "      <td>0.0000</td>\n",
       "      <td>0.0</td>\n",
       "      <td>0.0</td>\n",
       "    </tr>\n",
       "    <tr>\n",
       "      <th>Connector1</th>\n",
       "      <td>0.0000</td>\n",
       "      <td>0.0000</td>\n",
       "      <td>0.0000</td>\n",
       "      <td>0.0000</td>\n",
       "      <td>0.000000e+00</td>\n",
       "      <td>3.7002</td>\n",
       "      <td>None</td>\n",
       "      <td>0</td>\n",
       "      <td>0.0000</td>\n",
       "      <td>1.0000</td>\n",
       "      <td>0.0000</td>\n",
       "      <td>0.0000</td>\n",
       "      <td>0.0</td>\n",
       "      <td>0.0</td>\n",
       "    </tr>\n",
       "    <tr>\n",
       "      <th>Connector2</th>\n",
       "      <td>0.0343</td>\n",
       "      <td>0.0107</td>\n",
       "      <td>0.0037</td>\n",
       "      <td>0.0200</td>\n",
       "      <td>2.677700e+08</td>\n",
       "      <td>3.7345</td>\n",
       "      <td>Compressor</td>\n",
       "      <td>0</td>\n",
       "      <td>0.0000</td>\n",
       "      <td>1.0015</td>\n",
       "      <td>0.2401</td>\n",
       "      <td>0.0000</td>\n",
       "      <td>0.0</td>\n",
       "      <td>0.0</td>\n",
       "    </tr>\n",
       "    <tr>\n",
       "      <th>Storage</th>\n",
       "      <td>0.1340</td>\n",
       "      <td>0.1093</td>\n",
       "      <td>0.0246</td>\n",
       "      <td>0.0000</td>\n",
       "      <td>3.609182e+09</td>\n",
       "      <td>3.8685</td>\n",
       "      <td>GH2-Cavern</td>\n",
       "      <td>0</td>\n",
       "      <td>0.0000</td>\n",
       "      <td>1.0000</td>\n",
       "      <td>0.0000</td>\n",
       "      <td>0.0000</td>\n",
       "      <td>0.0</td>\n",
       "      <td>0.0</td>\n",
       "    </tr>\n",
       "    <tr>\n",
       "      <th>Connector3</th>\n",
       "      <td>0.0000</td>\n",
       "      <td>0.0000</td>\n",
       "      <td>0.0000</td>\n",
       "      <td>0.0000</td>\n",
       "      <td>0.000000e+00</td>\n",
       "      <td>3.8685</td>\n",
       "      <td>None</td>\n",
       "      <td>0</td>\n",
       "      <td>0.0000</td>\n",
       "      <td>1.0000</td>\n",
       "      <td>0.0000</td>\n",
       "      <td>0.0000</td>\n",
       "      <td>0.0</td>\n",
       "      <td>0.0</td>\n",
       "    </tr>\n",
       "    <tr>\n",
       "      <th>Connector4</th>\n",
       "      <td>0.0421</td>\n",
       "      <td>0.0051</td>\n",
       "      <td>0.0017</td>\n",
       "      <td>0.0352</td>\n",
       "      <td>1.282444e+08</td>\n",
       "      <td>3.9106</td>\n",
       "      <td>Compressor</td>\n",
       "      <td>0</td>\n",
       "      <td>0.0000</td>\n",
       "      <td>1.0050</td>\n",
       "      <td>0.0000</td>\n",
       "      <td>0.2389</td>\n",
       "      <td>0.0</td>\n",
       "      <td>0.0</td>\n",
       "    </tr>\n",
       "    <tr>\n",
       "      <th>Transport1</th>\n",
       "      <td>0.2904</td>\n",
       "      <td>0.1966</td>\n",
       "      <td>0.0938</td>\n",
       "      <td>0.0000</td>\n",
       "      <td>6.874466e+09</td>\n",
       "      <td>4.2010</td>\n",
       "      <td>Pipeline</td>\n",
       "      <td>0</td>\n",
       "      <td>12072.0667</td>\n",
       "      <td>1.0000</td>\n",
       "      <td>0.0000</td>\n",
       "      <td>0.0000</td>\n",
       "      <td>0.0</td>\n",
       "      <td>0.0</td>\n",
       "    </tr>\n",
       "    <tr>\n",
       "      <th>Connector5</th>\n",
       "      <td>0.0000</td>\n",
       "      <td>0.0000</td>\n",
       "      <td>0.0000</td>\n",
       "      <td>0.0000</td>\n",
       "      <td>0.000000e+00</td>\n",
       "      <td>4.2010</td>\n",
       "      <td>None</td>\n",
       "      <td>0</td>\n",
       "      <td>0.0000</td>\n",
       "      <td>1.0000</td>\n",
       "      <td>0.0000</td>\n",
       "      <td>0.0000</td>\n",
       "      <td>0.0</td>\n",
       "      <td>0.0</td>\n",
       "    </tr>\n",
       "    <tr>\n",
       "      <th>Transport2</th>\n",
       "      <td>0.5109</td>\n",
       "      <td>0.3459</td>\n",
       "      <td>0.1650</td>\n",
       "      <td>0.0000</td>\n",
       "      <td>1.209263e+10</td>\n",
       "      <td>4.7118</td>\n",
       "      <td>Pipeline</td>\n",
       "      <td>0</td>\n",
       "      <td>30267.3178</td>\n",
       "      <td>1.0000</td>\n",
       "      <td>0.0000</td>\n",
       "      <td>0.0000</td>\n",
       "      <td>0.0</td>\n",
       "      <td>0.0</td>\n",
       "    </tr>\n",
       "    <tr>\n",
       "      <th>Station</th>\n",
       "      <td>1.6466</td>\n",
       "      <td>1.0680</td>\n",
       "      <td>0.3583</td>\n",
       "      <td>0.2204</td>\n",
       "      <td>2.100994e+10</td>\n",
       "      <td>6.3585</td>\n",
       "      <td>PipeStation</td>\n",
       "      <td>0</td>\n",
       "      <td>0.0000</td>\n",
       "      <td>1.0050</td>\n",
       "      <td>0.0000</td>\n",
       "      <td>2.0000</td>\n",
       "      <td>0.0</td>\n",
       "      <td>0.0</td>\n",
       "    </tr>\n",
       "  </tbody>\n",
       "</table>\n",
       "</div>"
      ],
      "text/plain": [
       "             TOTEX   CAPEX  fixOPEX  varOPEX        invest  cumCost  \\\n",
       "Production  3.7002  0.6695   0.1348   2.8960  1.317010e+10   3.7002   \n",
       "Connector1  0.0000  0.0000   0.0000   0.0000  0.000000e+00   3.7002   \n",
       "Connector2  0.0343  0.0107   0.0037   0.0200  2.677700e+08   3.7345   \n",
       "Storage     0.1340  0.1093   0.0246   0.0000  3.609182e+09   3.8685   \n",
       "Connector3  0.0000  0.0000   0.0000   0.0000  0.000000e+00   3.8685   \n",
       "Connector4  0.0421  0.0051   0.0017   0.0352  1.282444e+08   3.9106   \n",
       "Transport1  0.2904  0.1966   0.0938   0.0000  6.874466e+09   4.2010   \n",
       "Connector5  0.0000  0.0000   0.0000   0.0000  0.000000e+00   4.2010   \n",
       "Transport2  0.5109  0.3459   0.1650   0.0000  1.209263e+10   4.7118   \n",
       "Station     1.6466  1.0680   0.3583   0.2204  2.100994e+10   6.3585   \n",
       "\n",
       "              technology  nTrucks  pipeLength    Loss  electricityRES  \\\n",
       "Production  Electrolyzer        0      0.0000  0.0000         47.6000   \n",
       "Connector1          None        0      0.0000  1.0000          0.0000   \n",
       "Connector2    Compressor        0      0.0000  1.0015          0.2401   \n",
       "Storage       GH2-Cavern        0      0.0000  1.0000          0.0000   \n",
       "Connector3          None        0      0.0000  1.0000          0.0000   \n",
       "Connector4    Compressor        0      0.0000  1.0050          0.0000   \n",
       "Transport1      Pipeline        0  12072.0667  1.0000          0.0000   \n",
       "Connector5          None        0      0.0000  1.0000          0.0000   \n",
       "Transport2      Pipeline        0  30267.3178  1.0000          0.0000   \n",
       "Station      PipeStation        0      0.0000  1.0050          0.0000   \n",
       "\n",
       "            electricityGrid  NaturalGas  Diesel  \n",
       "Production           0.0000         0.0     0.0  \n",
       "Connector1           0.0000         0.0     0.0  \n",
       "Connector2           0.0000         0.0     0.0  \n",
       "Storage              0.0000         0.0     0.0  \n",
       "Connector3           0.0000         0.0     0.0  \n",
       "Connector4           0.2389         0.0     0.0  \n",
       "Transport1           0.0000         0.0     0.0  \n",
       "Connector5           0.0000         0.0     0.0  \n",
       "Transport2           0.0000         0.0     0.0  \n",
       "Station              2.0000         0.0     0.0  "
      ]
     },
     "metadata": {},
     "output_type": "display_data"
    },
    {
     "name": "stdout",
     "output_type": "stream",
     "text": [
      "total Time: 178.627995967865 Sekunden\n"
     ]
    }
   ],
   "source": [
    "dictHSC={}\n",
    "i=0\n",
    "for listHSC in hscPathways:\n",
    "    print(\"-------------- Preparing total Analysis --------------\")\n",
    "    cumCost=0  \n",
    "\n",
    "    dictHSC[i]=hsc_total.HSC(listHSC,\n",
    "                             dfTable,\n",
    "                             listCapacities,\n",
    "                             totalH2Demand*1e6,\n",
    "                             truckDistance=truckDistance,\n",
    "                             pipelineDistance=pipelineDistance,\n",
    "                             beeline=True,\n",
    "                             targetCars=targetCars)\n",
    "\n",
    "    dictHSC[i].calcHSC(cumCost=cumCost)\n",
    "    if saveResults:\n",
    "        dictHSC[i].saveHSC(pathHSC)\n",
    "    display(dictHSC[i].dfHSCRes)\n",
    "    \n",
    "    i+=1\n",
    "    \n",
    "toctoc=time.time()\n",
    "print(\"total Time: \" + str(toctoc-tictic) + \" Sekunden\")"
   ]
  },
  {
   "cell_type": "code",
   "execution_count": null,
   "metadata": {
    "collapsed": false
   },
   "outputs": [],
   "source": []
  },
  {
   "cell_type": "code",
   "execution_count": null,
   "metadata": {
    "collapsed": false
   },
   "outputs": [],
   "source": []
  },
  {
   "cell_type": "code",
   "execution_count": null,
   "metadata": {
    "collapsed": true
   },
   "outputs": [],
   "source": []
  }
 ],
 "metadata": {
  "anaconda-cloud": {},
  "kernelspec": {
   "display_name": "Python [conda root]",
   "language": "python",
   "name": "conda-root-py"
  },
  "language_info": {
   "codemirror_mode": {
    "name": "ipython",
    "version": 3
   },
   "file_extension": ".py",
   "mimetype": "text/x-python",
   "name": "python",
   "nbconvert_exporter": "python",
   "pygments_lexer": "ipython3",
   "version": "3.4.5"
  }
 },
 "nbformat": 4,
 "nbformat_minor": 1
}
