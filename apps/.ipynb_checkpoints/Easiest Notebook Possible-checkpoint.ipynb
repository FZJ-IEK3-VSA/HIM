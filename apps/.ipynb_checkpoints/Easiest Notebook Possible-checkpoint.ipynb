{
 "cells": [
  {
   "cell_type": "code",
   "execution_count": 1,
   "metadata": {
    "collapsed": true
   },
   "outputs": [],
   "source": [
    "from HyInfraGis.workflow.H2MobilityFunctionHyInfraGis import runInfraModel, dataPath\n",
    "import pandas as pd\n",
    "import os.path as path"
   ]
  },
  {
   "cell_type": "code",
   "execution_count": 8,
   "metadata": {
    "collapsed": false
   },
   "outputs": [],
   "source": [
    "targetFS=7000\n",
    "targetCars=20e6\n",
    "specificDemand=0.0065#kg/km\n",
    "mileage=14000\n",
    "analysisType=\"truck\"#[\"pipeline\",\"truck\"]\n",
    "scenario=2#[0.1 mio:0, 1 mio : 1, 20 mio cars: 2\n",
    "prodOptions=\"RES\"#[\"SMR\", \"RES\"]\n",
    "savePath=r\"C:\\\\Alles\\\\Sciebo\\\\Results\\\\test\"\n",
    "dfTable = pd.read_excel(path.join(dataPath,\"ImportTablesTechnologies.xlsx\"), sheetname=None)\n",
    "\n",
    "if analysisType==\"pipeline\":\n",
    "    hscPathways=[['Electrolyzer', 'Compressor', 'None', 'GH2-Cavern', 'None', 'Compressor', 'Pipeline', 'None', 'Pipeline', 'GH2 (Pipeline)'],\n",
    "                 ['Electrolyzer', 'Compressor', 'None', 'GH2-Cavern', 'None', 'Compressor', 'Pipeline', 'Compressor', 'GH2-Truck', 'GH2 (Trailer)']]\n",
    "elif analysisType==\"truck\":\n",
    "    hscPathways=[[\"Electrolyzer\",\"Compressor\",'None',\"GH2-Cavern\",'None',\"Liquefaction\",\"LH2-Truck\",\"None\",\"None\",\"LH2\"],\n",
    "                 [\"Electrolyzer\", \"Compressor\", \"None\", \"GH2-Cavern\", \"None\", \"Compressor\", \"GH2-Truck\", \"None\", \"None\", \"GH2 (Trailer)\"]]"
   ]
  },
  {
   "cell_type": "code",
   "execution_count": 9,
   "metadata": {
    "collapsed": false
   },
   "outputs": [
    {
     "name": "stdout",
     "output_type": "stream",
     "text": [
      "Changed value of parameter MIPgap to 0.005\n",
      "   Prev: 0.0001  Min: 0.0  Max: 1e+100  Default: 0.0001\n",
      "Changed value of parameter Heuristics to 0.5\n",
      "   Prev: 0.05  Min: 0.0  Max: 1.0  Default: 0.05\n",
      "Changed value of parameter logfile to C:\\Alles\\Sciebo\\Python\\HyInfraGis\\apps\\GurobiLog.txt\n",
      "   Prev: gurobi.log  Default: \n",
      "Changed value of parameter threads to 7\n",
      "   Prev: 0  Min: 0  Max: 1024  Default: 0\n",
      "Changed value of parameter timeLimit to 1000.0\n",
      "   Prev: 1e+100  Min: 0.0  Max: 1e+100  Default: 1e+100\n",
      "Optimize a model with 341968 rows, 990782 columns and 2309482 nonzeros\n",
      "Coefficient statistics:\n",
      "  Matrix range     [1e+00, 1e+00]\n",
      "  Objective range  [5e-01, 1e+03]\n",
      "  Bounds range     [0e+00, 0e+00]\n",
      "  RHS range        [2e-01, 3e+02]\n",
      "\n",
      "Concurrent LP optimizer: primal simplex, dual simplex, and barrier\n",
      "Showing barrier log only...\n",
      "\n",
      "Presolve removed 334944 rows and 334897 columns\n",
      "Presolve time: 1.52s\n",
      "Presolved: 7024 rows, 655885 columns, 1311723 nonzeros\n",
      "\n",
      "Ordering time: 0.01s\n",
      "\n",
      "Barrier statistics:\n",
      " AA' NZ     : 3.279e+05\n",
      " Factor NZ  : 4.169e+05 (roughly 270 MBytes of memory)\n",
      " Factor Ops : 2.517e+07 (less than 1 second per iteration)\n",
      " Threads    : 5\n",
      "\n",
      "                  Objective                Residual\n",
      "Iter       Primal          Dual         Primal    Dual     Compl     Time\n",
      "   0   1.11314852e+10 -4.14332095e+05  5.73e+01 0.00e+00  2.28e+04     2s\n",
      "   1   1.46506812e+09 -6.41905285e+04  4.05e+00 3.41e-13  2.47e+03     2s\n",
      "   2   1.70937208e+07 -5.14978026e+03  7.53e-10 3.94e-12  2.61e+01     2s\n",
      "   3   4.81812632e+06  1.07674286e+05  2.11e-10 1.29e-12  7.18e+00     2s\n",
      "   4   1.65354908e+06  4.47316909e+05  2.81e-10 4.55e-13  1.84e+00     3s\n",
      "   5   1.08124246e+06  6.12113081e+05  2.39e-10 4.55e-13  7.15e-01     3s\n",
      "   6   9.00614418e+05  6.49671613e+05  1.14e-10 4.55e-13  3.83e-01     3s\n",
      "   7   8.90561050e+05  6.62332527e+05  1.12e-10 6.82e-13  3.48e-01     3s\n",
      "   8   8.45969131e+05  6.99296984e+05  7.03e-11 4.55e-13  2.24e-01     3s\n",
      "   9   8.20063021e+05  7.09127771e+05  6.12e-11 6.82e-13  1.69e-01     4s\n",
      "  10   8.01976451e+05  7.16259883e+05  4.51e-11 6.82e-13  1.31e-01     4s\n",
      "  11   7.85266335e+05  7.20641002e+05  6.02e-11 4.55e-13  9.85e-02     4s\n",
      "  12   7.72091003e+05  7.24956978e+05  5.66e-11 6.82e-13  7.19e-02     4s\n",
      "  13   7.59488825e+05  7.28307164e+05  4.41e-11 4.55e-13  4.75e-02     4s\n",
      "  14   7.58425053e+05  7.30203455e+05  4.20e-11 6.82e-13  4.30e-02     4s\n",
      "  15   7.46701947e+05  7.31954716e+05  1.51e-10 6.82e-13  2.25e-02     5s\n",
      "  16   7.44835681e+05  7.32629235e+05  3.91e-11 4.55e-13  1.86e-02     5s\n",
      "  17   7.43172081e+05  7.32925995e+05  1.46e-10 6.82e-13  1.56e-02     5s\n",
      "  18   7.42677439e+05  7.33060645e+05  1.42e-10 6.82e-13  1.47e-02     5s\n",
      "\n",
      "Barrier performed 18 iterations in 5.34 seconds\n",
      "Barrier solve interrupted - model solved by another algorithm\n",
      "\n",
      "\n",
      "Solved with primal simplex\n",
      "Solved in 51878 iterations and 5.38 seconds\n",
      "Optimal objective  7.348414438e+05\n"
     ]
    }
   ],
   "source": [
    "runInfraModel(analysisType, targetCars, targetFS, scenario, hscPathways, mileage, specificDemand, dfTable, savePath,\n",
    "              plotting=False,\n",
    "              prodScenario=prodOptions[scenario],\n",
    "              returnDict=False)"
   ]
  },
  {
   "cell_type": "code",
   "execution_count": null,
   "metadata": {
    "collapsed": true
   },
   "outputs": [],
   "source": []
  }
 ],
 "metadata": {
  "anaconda-cloud": {},
  "kernelspec": {
   "display_name": "Python [default]",
   "language": "python",
   "name": "python3"
  },
  "language_info": {
   "codemirror_mode": {
    "name": "ipython",
    "version": 3
   },
   "file_extension": ".py",
   "mimetype": "text/x-python",
   "name": "python",
   "nbconvert_exporter": "python",
   "pygments_lexer": "ipython3",
   "version": "3.4.5"
  }
 },
 "nbformat": 4,
 "nbformat_minor": 1
}
