{
 "cells": [
  {
   "cell_type": "code",
   "execution_count": 1,
   "metadata": {},
   "outputs": [
    {
     "name": "stdout",
     "output_type": "stream",
     "text": [
      "please install PIL for full functionality\n"
     ]
    }
   ],
   "source": [
    "\n",
    "from HyInfraGis.workflow.workflowFunctionsClean import *"
   ]
  },
  {
   "cell_type": "code",
   "execution_count": null,
   "metadata": {},
   "outputs": [],
   "source": []
  },
  {
   "cell_type": "code",
   "execution_count": 5,
   "metadata": {},
   "outputs": [],
   "source": [
    "#_____________________GUI Inputs_______________________________________________\n",
    "penetration=0.5\n",
    "saveResults=True\n",
    "country=\"Germany\"\n",
    "dataPath=path.join(r\"C:\\Alles\\sciebo\\Python\",\"data\")\n",
    "pathSave=path.join(r\"C:\\Alles\\sciebo\\Results\", country)\n",
    "pathResults=createFolder(pathSave)\n",
    "#%%"
   ]
  },
  {
   "cell_type": "code",
   "execution_count": 3,
   "metadata": {},
   "outputs": [],
   "source": [
    "#_______________________Outer Calculations_____________________________________\n",
    "if country==\"Japan\":\n",
    "    hscPathways={}\n",
    "    hscPathways[\"pipeline\"]=[[\"LH2-Ship\",\"None\",\"None\",\"LH2-Tank\",\"None\",\"Evaporation\",\"Pipeline\",\"Compressor\",\"GH2-Truck\", \"GH2 (Trailer)\"],\n",
    "                             [\"LH2-Ship\",\"None\",\"None\",\"LH2-Tank\",\"None\",\"Evaporation\",\"Pipeline\",\"None\",\"Pipeline\", \"GH2 (Pipeline)\"],\n",
    "                             [\"LOHC-Ship\",\"None\",\"None\", \"LOHC-Tank\",\"Dehydrogenation\", \"Compressor\", \"Pipeline\", \"Compressor\",\"GH2-Truck\",\"GH2 (Trailer)\"],\n",
    "                             [\"LOHC-Ship\",\"None\",\"None\", \"LOHC-Tank\",\"Dehydrogenation\", \"Compressor\", \"Pipeline\", \"None\",\"Pipeline\",\"GH2 (Pipeline)\"]]\n",
    "    hscPathways[\"truck\"]=[[\"LH2-Ship\",\"None\", \"None\",\"LH2-Tank\",\"None\", \"LH2Pump\",\"LH2-Truck\",\"None\",\"None\",\"LH2\"],\n",
    "                          [\"LOHC-Ship\",\"None\", \"None\",\"LOHC-Tank\",\"None\", \"LOHCPump\", \"LOHC-Truck\", \"None\",\"None\",\"LOHC (NG)\"]]    \n",
    "else:\n",
    "    hscPathways={}\n",
    "    hscPathways[\"pipeline\"]=[[\"Electrolyzer\",\"None\",\"Compressor\", \"GH2-Cavern\",\"None\",\"Compressor\",\"Pipeline\",\"Compressor\",\"GH2-Truck\",\"GH2 (Trailer)\"],\n",
    "                             [\"Electrolyzer\",\"None\",\"Compressor\", \"GH2-Cavern\",\"None\",\"Compressor\",\"Pipeline\",\"None\",\"Pipeline\",\"GH2 (Pipeline)\"],\n",
    "                             [\"Electrolyzer\",\"None\",\"Hydrogenation\", \"LOHC-Tank\",\"Dehydrogenation\",\"Compressor\",\"Pipeline\",\"Compressor\",\"GH2-Truck\",\"GH2 (Trailer)\"],\n",
    "                             [\"Electrolyzer\",\"None\",\"Hydrogenation\", \"LOHC-Tank\",\"Dehydrogenation\",\"Compressor\",\"Pipeline\",\"None\",\"Pipeline\",\"GH2 (Pipeline)\"]]\n",
    "    \n",
    "    hscPathways[\"truck\"]=[[\"Electrolyzer\",\"None\",\"Compressor\", \"GH2-Cavern\",\"None\",\"Compressor\",\"GH2-Truck\",\"None\",\"None\",\"GH2 (Trailer)\"],\n",
    "                          [\"Electrolyzer\",\"None\",\"Compressor\", \"GH2-Cavern\",\"None\",\"Liquefaction\",\"LH2-Truck\",\"None\",\"None\",\"LH2\"],\n",
    "                          [\"Electrolyzer\",\"None\",\"Compressor\", \"GH2-Cavern\",\"None\",\"Hydrogenation\",\"LOHC-Truck\",\"None\",\"None\",\"LOHC (NG)\"],\n",
    "                          [\"Electrolyzer\",\"Liquefaction\",\"None\", \"LH2-Tank\",\"None\",\"None\",\"LH2-Truck\",\"None\",\"None\",\"LH2\"],\n",
    "                          [\"Electrolyzer\",\"Hydrogenation\",\"None\", \"LOHC-Tank\",\"None\",\"None\",\"LOHC-Truck\",\"None\",\"None\",\"LOHC (NG)\"]]"
   ]
  },
  {
   "cell_type": "code",
   "execution_count": 4,
   "metadata": {},
   "outputs": [
    {
     "ename": "FileNotFoundError",
     "evalue": "[Errno 2] No such file or directory: 'C:\\\\sciebo\\\\Python\\\\data\\\\ImportTablesTechnologies.xlsx'",
     "output_type": "error",
     "traceback": [
      "\u001b[1;31m---------------------------------------------------------------------------\u001b[0m",
      "\u001b[1;31mFileNotFoundError\u001b[0m                         Traceback (most recent call last)",
      "\u001b[1;32m<ipython-input-4-da1b0f6e98b5>\u001b[0m in \u001b[0;36m<module>\u001b[1;34m()\u001b[0m\n\u001b[1;32m----> 1\u001b[1;33m \u001b[0mdfTable\u001b[0m \u001b[1;33m=\u001b[0m \u001b[0mpd\u001b[0m\u001b[1;33m.\u001b[0m\u001b[0mread_excel\u001b[0m\u001b[1;33m(\u001b[0m\u001b[0mpath\u001b[0m\u001b[1;33m.\u001b[0m\u001b[0mjoin\u001b[0m\u001b[1;33m(\u001b[0m\u001b[0mdataPath\u001b[0m\u001b[1;33m,\u001b[0m\u001b[1;34m\"ImportTablesTechnologies.xlsx\"\u001b[0m\u001b[1;33m)\u001b[0m\u001b[1;33m,\u001b[0m \u001b[0msheetname\u001b[0m\u001b[1;33m=\u001b[0m\u001b[1;32mNone\u001b[0m\u001b[1;33m)\u001b[0m\u001b[1;33m\u001b[0m\u001b[0m\n\u001b[0m\u001b[0;32m      2\u001b[0m \u001b[0mdfTable\u001b[0m\u001b[1;33m[\u001b[0m\u001b[1;34m\"General\"\u001b[0m\u001b[1;33m]\u001b[0m\u001b[1;33m=\u001b[0m\u001b[0mpd\u001b[0m\u001b[1;33m.\u001b[0m\u001b[0mread_excel\u001b[0m\u001b[1;33m(\u001b[0m\u001b[0mpath\u001b[0m\u001b[1;33m.\u001b[0m\u001b[0mjoin\u001b[0m\u001b[1;33m(\u001b[0m\u001b[0mdataPath\u001b[0m\u001b[1;33m,\u001b[0m\u001b[1;34m\"Scenarios.xlsx\"\u001b[0m\u001b[1;33m)\u001b[0m\u001b[1;33m,\u001b[0m\u001b[0msheetname\u001b[0m\u001b[1;33m=\u001b[0m\u001b[1;34m\"General\"\u001b[0m\u001b[1;33m)\u001b[0m\u001b[1;33m.\u001b[0m\u001b[0mappend\u001b[0m\u001b[1;33m(\u001b[0m\u001b[0mpd\u001b[0m\u001b[1;33m.\u001b[0m\u001b[0mread_excel\u001b[0m\u001b[1;33m(\u001b[0m\u001b[0mpath\u001b[0m\u001b[1;33m.\u001b[0m\u001b[0mjoin\u001b[0m\u001b[1;33m(\u001b[0m\u001b[0mdataPath\u001b[0m\u001b[1;33m,\u001b[0m\u001b[1;34m\"Scenarios.xlsx\"\u001b[0m\u001b[1;33m)\u001b[0m\u001b[1;33m,\u001b[0m \u001b[0msheetname\u001b[0m\u001b[1;33m=\u001b[0m\u001b[0mcountry\u001b[0m\u001b[1;33m)\u001b[0m\u001b[1;33m)\u001b[0m\u001b[1;33m\u001b[0m\u001b[0m\n\u001b[0;32m      3\u001b[0m \u001b[0mPATHLOG\u001b[0m\u001b[1;33m=\u001b[0m\u001b[0mpath\u001b[0m\u001b[1;33m.\u001b[0m\u001b[0mjoin\u001b[0m\u001b[1;33m(\u001b[0m\u001b[0mpathResults\u001b[0m\u001b[1;33m,\u001b[0m \u001b[1;34m\"logfile.txt\"\u001b[0m\u001b[1;33m)\u001b[0m\u001b[1;33m\u001b[0m\u001b[0m\n\u001b[0;32m      4\u001b[0m \u001b[0mlogger\u001b[0m\u001b[1;33m=\u001b[0m\u001b[0msetupLogger\u001b[0m\u001b[1;33m(\u001b[0m\u001b[0mPATHLOG\u001b[0m\u001b[1;33m)\u001b[0m\u001b[1;33m\u001b[0m\u001b[0m\n",
      "\u001b[1;32m~\\Anaconda\\envs\\HyInfraGis-env\\lib\\site-packages\\pandas\\util\\_decorators.py\u001b[0m in \u001b[0;36mwrapper\u001b[1;34m(*args, **kwargs)\u001b[0m\n\u001b[0;32m    176\u001b[0m                 \u001b[1;32melse\u001b[0m\u001b[1;33m:\u001b[0m\u001b[1;33m\u001b[0m\u001b[0m\n\u001b[0;32m    177\u001b[0m                     \u001b[0mkwargs\u001b[0m\u001b[1;33m[\u001b[0m\u001b[0mnew_arg_name\u001b[0m\u001b[1;33m]\u001b[0m \u001b[1;33m=\u001b[0m \u001b[0mnew_arg_value\u001b[0m\u001b[1;33m\u001b[0m\u001b[0m\n\u001b[1;32m--> 178\u001b[1;33m             \u001b[1;32mreturn\u001b[0m \u001b[0mfunc\u001b[0m\u001b[1;33m(\u001b[0m\u001b[1;33m*\u001b[0m\u001b[0margs\u001b[0m\u001b[1;33m,\u001b[0m \u001b[1;33m**\u001b[0m\u001b[0mkwargs\u001b[0m\u001b[1;33m)\u001b[0m\u001b[1;33m\u001b[0m\u001b[0m\n\u001b[0m\u001b[0;32m    179\u001b[0m         \u001b[1;32mreturn\u001b[0m \u001b[0mwrapper\u001b[0m\u001b[1;33m\u001b[0m\u001b[0m\n\u001b[0;32m    180\u001b[0m     \u001b[1;32mreturn\u001b[0m \u001b[0m_deprecate_kwarg\u001b[0m\u001b[1;33m\u001b[0m\u001b[0m\n",
      "\u001b[1;32m~\\Anaconda\\envs\\HyInfraGis-env\\lib\\site-packages\\pandas\\util\\_decorators.py\u001b[0m in \u001b[0;36mwrapper\u001b[1;34m(*args, **kwargs)\u001b[0m\n\u001b[0;32m    176\u001b[0m                 \u001b[1;32melse\u001b[0m\u001b[1;33m:\u001b[0m\u001b[1;33m\u001b[0m\u001b[0m\n\u001b[0;32m    177\u001b[0m                     \u001b[0mkwargs\u001b[0m\u001b[1;33m[\u001b[0m\u001b[0mnew_arg_name\u001b[0m\u001b[1;33m]\u001b[0m \u001b[1;33m=\u001b[0m \u001b[0mnew_arg_value\u001b[0m\u001b[1;33m\u001b[0m\u001b[0m\n\u001b[1;32m--> 178\u001b[1;33m             \u001b[1;32mreturn\u001b[0m \u001b[0mfunc\u001b[0m\u001b[1;33m(\u001b[0m\u001b[1;33m*\u001b[0m\u001b[0margs\u001b[0m\u001b[1;33m,\u001b[0m \u001b[1;33m**\u001b[0m\u001b[0mkwargs\u001b[0m\u001b[1;33m)\u001b[0m\u001b[1;33m\u001b[0m\u001b[0m\n\u001b[0m\u001b[0;32m    179\u001b[0m         \u001b[1;32mreturn\u001b[0m \u001b[0mwrapper\u001b[0m\u001b[1;33m\u001b[0m\u001b[0m\n\u001b[0;32m    180\u001b[0m     \u001b[1;32mreturn\u001b[0m \u001b[0m_deprecate_kwarg\u001b[0m\u001b[1;33m\u001b[0m\u001b[0m\n",
      "\u001b[1;32m~\\Anaconda\\envs\\HyInfraGis-env\\lib\\site-packages\\pandas\\io\\excel.py\u001b[0m in \u001b[0;36mread_excel\u001b[1;34m(io, sheet_name, header, names, index_col, usecols, squeeze, dtype, engine, converters, true_values, false_values, skiprows, nrows, na_values, parse_dates, date_parser, thousands, comment, skipfooter, convert_float, **kwds)\u001b[0m\n\u001b[0;32m    305\u001b[0m \u001b[1;33m\u001b[0m\u001b[0m\n\u001b[0;32m    306\u001b[0m     \u001b[1;32mif\u001b[0m \u001b[1;32mnot\u001b[0m \u001b[0misinstance\u001b[0m\u001b[1;33m(\u001b[0m\u001b[0mio\u001b[0m\u001b[1;33m,\u001b[0m \u001b[0mExcelFile\u001b[0m\u001b[1;33m)\u001b[0m\u001b[1;33m:\u001b[0m\u001b[1;33m\u001b[0m\u001b[0m\n\u001b[1;32m--> 307\u001b[1;33m         \u001b[0mio\u001b[0m \u001b[1;33m=\u001b[0m \u001b[0mExcelFile\u001b[0m\u001b[1;33m(\u001b[0m\u001b[0mio\u001b[0m\u001b[1;33m,\u001b[0m \u001b[0mengine\u001b[0m\u001b[1;33m=\u001b[0m\u001b[0mengine\u001b[0m\u001b[1;33m)\u001b[0m\u001b[1;33m\u001b[0m\u001b[0m\n\u001b[0m\u001b[0;32m    308\u001b[0m \u001b[1;33m\u001b[0m\u001b[0m\n\u001b[0;32m    309\u001b[0m     return io.parse(\n",
      "\u001b[1;32m~\\Anaconda\\envs\\HyInfraGis-env\\lib\\site-packages\\pandas\\io\\excel.py\u001b[0m in \u001b[0;36m__init__\u001b[1;34m(self, io, **kwds)\u001b[0m\n\u001b[0;32m    392\u001b[0m             \u001b[0mself\u001b[0m\u001b[1;33m.\u001b[0m\u001b[0mbook\u001b[0m \u001b[1;33m=\u001b[0m \u001b[0mxlrd\u001b[0m\u001b[1;33m.\u001b[0m\u001b[0mopen_workbook\u001b[0m\u001b[1;33m(\u001b[0m\u001b[0mfile_contents\u001b[0m\u001b[1;33m=\u001b[0m\u001b[0mdata\u001b[0m\u001b[1;33m)\u001b[0m\u001b[1;33m\u001b[0m\u001b[0m\n\u001b[0;32m    393\u001b[0m         \u001b[1;32melif\u001b[0m \u001b[0misinstance\u001b[0m\u001b[1;33m(\u001b[0m\u001b[0mself\u001b[0m\u001b[1;33m.\u001b[0m\u001b[0m_io\u001b[0m\u001b[1;33m,\u001b[0m \u001b[0mcompat\u001b[0m\u001b[1;33m.\u001b[0m\u001b[0mstring_types\u001b[0m\u001b[1;33m)\u001b[0m\u001b[1;33m:\u001b[0m\u001b[1;33m\u001b[0m\u001b[0m\n\u001b[1;32m--> 394\u001b[1;33m             \u001b[0mself\u001b[0m\u001b[1;33m.\u001b[0m\u001b[0mbook\u001b[0m \u001b[1;33m=\u001b[0m \u001b[0mxlrd\u001b[0m\u001b[1;33m.\u001b[0m\u001b[0mopen_workbook\u001b[0m\u001b[1;33m(\u001b[0m\u001b[0mself\u001b[0m\u001b[1;33m.\u001b[0m\u001b[0m_io\u001b[0m\u001b[1;33m)\u001b[0m\u001b[1;33m\u001b[0m\u001b[0m\n\u001b[0m\u001b[0;32m    395\u001b[0m         \u001b[1;32melse\u001b[0m\u001b[1;33m:\u001b[0m\u001b[1;33m\u001b[0m\u001b[0m\n\u001b[0;32m    396\u001b[0m             raise ValueError('Must explicitly set engine if not passing in'\n",
      "\u001b[1;32m~\\Anaconda\\envs\\HyInfraGis-env\\lib\\site-packages\\xlrd\\__init__.py\u001b[0m in \u001b[0;36mopen_workbook\u001b[1;34m(filename, logfile, verbosity, use_mmap, file_contents, encoding_override, formatting_info, on_demand, ragged_rows)\u001b[0m\n\u001b[0;32m    114\u001b[0m         \u001b[0mpeek\u001b[0m \u001b[1;33m=\u001b[0m \u001b[0mfile_contents\u001b[0m\u001b[1;33m[\u001b[0m\u001b[1;33m:\u001b[0m\u001b[0mpeeksz\u001b[0m\u001b[1;33m]\u001b[0m\u001b[1;33m\u001b[0m\u001b[0m\n\u001b[0;32m    115\u001b[0m     \u001b[1;32melse\u001b[0m\u001b[1;33m:\u001b[0m\u001b[1;33m\u001b[0m\u001b[0m\n\u001b[1;32m--> 116\u001b[1;33m         \u001b[1;32mwith\u001b[0m \u001b[0mopen\u001b[0m\u001b[1;33m(\u001b[0m\u001b[0mfilename\u001b[0m\u001b[1;33m,\u001b[0m \u001b[1;34m\"rb\"\u001b[0m\u001b[1;33m)\u001b[0m \u001b[1;32mas\u001b[0m \u001b[0mf\u001b[0m\u001b[1;33m:\u001b[0m\u001b[1;33m\u001b[0m\u001b[0m\n\u001b[0m\u001b[0;32m    117\u001b[0m             \u001b[0mpeek\u001b[0m \u001b[1;33m=\u001b[0m \u001b[0mf\u001b[0m\u001b[1;33m.\u001b[0m\u001b[0mread\u001b[0m\u001b[1;33m(\u001b[0m\u001b[0mpeeksz\u001b[0m\u001b[1;33m)\u001b[0m\u001b[1;33m\u001b[0m\u001b[0m\n\u001b[0;32m    118\u001b[0m     \u001b[1;32mif\u001b[0m \u001b[0mpeek\u001b[0m \u001b[1;33m==\u001b[0m \u001b[1;34mb\"PK\\x03\\x04\"\u001b[0m\u001b[1;33m:\u001b[0m \u001b[1;31m# a ZIP file\u001b[0m\u001b[1;33m\u001b[0m\u001b[0m\n",
      "\u001b[1;31mFileNotFoundError\u001b[0m: [Errno 2] No such file or directory: 'C:\\\\sciebo\\\\Python\\\\data\\\\ImportTablesTechnologies.xlsx'"
     ]
    }
   ],
   "source": [
    "dfTable = pd.read_excel(path.join(dataPath,\"ImportTablesTechnologies.xlsx\"), sheetname=None)\n",
    "dfTable[\"General\"]=pd.read_excel(path.join(dataPath,\"Scenarios.xlsx\"),sheetname=\"General\").append(pd.read_excel(path.join(dataPath,\"Scenarios.xlsx\"), sheetname=country))\n",
    "PATHLOG=path.join(pathResults, \"logfile.txt\")\n",
    "logger=setupLogger(PATHLOG)"
   ]
  },
  {
   "cell_type": "code",
   "execution_count": null,
   "metadata": {
    "collapsed": true
   },
   "outputs": [],
   "source": [
    "#_____________________Preprocessing___________________________________________\n",
    "dicImport=preProcessing(dataPath, penetration, dfTable, country=country)\n",
    "#____Get Data from Preprocessing_____\n",
    "FuelingNew=dicImport[\"FuelingNew\"]\n",
    "Source=dicImport[\"Source\"]\n",
    "Cluster=dicImport[\"Cluster\"]\n",
    "District=dicImport[\"District\"]\n",
    "distMatPipeline=dicImport[\"distMatPipeline\"]\n",
    "distMatTruck=dicImport[\"distMatTruck\"]\n",
    "distMatTruck2=dicImport[\"distMatTruck2\"]\n",
    "pipeCoords=dicImport[\"pipeCoords\"]\n",
    "truckCoords=dicImport[\"truckCoords\"]"
   ]
  },
  {
   "cell_type": "code",
   "execution_count": null,
   "metadata": {
    "collapsed": true
   },
   "outputs": [],
   "source": [
    "#_______________________Calculate Transport Models_____________________________\n",
    "resultsEdgesTruck, resultsEdgesTruck2, resultsEdgesPipeline=calcTransportSystem(Source=Source,\n",
    "                                                                                FuelingNew=FuelingNew,\n",
    "                                                                                Cluster=Cluster,\n",
    "                                                                                truckCoords=truckCoords,\n",
    "                                                                                pipeCoords=pipeCoords,\n",
    "                                                                                distMatTruck=distMatTruck,\n",
    "                                                                                distMatPipeline=distMatPipeline,\n",
    "                                                                                distMatTruck2=distMatTruck2,\n",
    "                                                                                pathResults=pathResults)"
   ]
  },
  {
   "cell_type": "code",
   "execution_count": null,
   "metadata": {
    "collapsed": true
   },
   "outputs": [],
   "source": [
    "#___________Calculate Hydrogen Supply Chain Model______________________________\n",
    "Results=calcSpatialHSC(resultsEdgesTruck=resultsEdgesTruck,\n",
    "                       resultsEdgesTruck2=resultsEdgesTruck2,\n",
    "                       resultsEdgesPipeline=resultsEdgesPipeline,\n",
    "                       hscPathways=hscPathways,\n",
    "                       Cluster=Cluster,\n",
    "                       FuelingNew=FuelingNew,\n",
    "                       Source=Source,\n",
    "                       District=District,\n",
    "                       pathResults=pathResults,\n",
    "                       dfTable=dfTable)\n"
   ]
  },
  {
   "cell_type": "code",
   "execution_count": null,
   "metadata": {
    "collapsed": true
   },
   "outputs": [],
   "source": [
    "#_______________Create Example Plots__________________________________________\n",
    "pathPlot=os.path.join(pathResults, \"Graphics\")\n",
    "os.makedirs(pathPlot)\n",
    "pFun.createPlotsPostProcessing(Results,savePath=pathPlot)\n",
    "logger.info(\"Calculation finished\")"
   ]
  },
  {
   "cell_type": "code",
   "execution_count": null,
   "metadata": {
    "collapsed": true
   },
   "outputs": [],
   "source": []
  }
 ],
 "metadata": {
  "anaconda-cloud": {},
  "kernelspec": {
   "display_name": "Python 3",
   "language": "python",
   "name": "python3"
  },
  "language_info": {
   "codemirror_mode": {
    "name": "ipython",
    "version": 3
   },
   "file_extension": ".py",
   "mimetype": "text/x-python",
   "name": "python",
   "nbconvert_exporter": "python",
   "pygments_lexer": "ipython3",
   "version": "3.6.0"
  }
 },
 "nbformat": 4,
 "nbformat_minor": 1
}
